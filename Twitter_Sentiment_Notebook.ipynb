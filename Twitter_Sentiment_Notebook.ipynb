{
 "cells": [
  {
   "cell_type": "markdown",
   "id": "eb630f8f",
   "metadata": {
    "papermill": {
     "duration": 0.005371,
     "end_time": "2022-11-28T15:19:37.665439",
     "exception": false,
     "start_time": "2022-11-28T15:19:37.660068",
     "status": "completed"
    },
    "tags": []
   },
   "source": [
    "# Cleaning some data\n",
    "## Getting our hands dirty!! :)"
   ]
  },
  {
   "cell_type": "code",
   "execution_count": 2,
   "id": "085b167c",
   "metadata": {
    "execution": {
     "iopub.execute_input": "2022-11-28T15:19:37.676891Z",
     "iopub.status.busy": "2022-11-28T15:19:37.675944Z",
     "iopub.status.idle": "2022-11-28T15:19:40.037958Z",
     "shell.execute_reply": "2022-11-28T15:19:40.036606Z"
    },
    "papermill": {
     "duration": 2.371747,
     "end_time": "2022-11-28T15:19:40.041545",
     "exception": false,
     "start_time": "2022-11-28T15:19:37.669798",
     "status": "completed"
    },
    "tags": []
   },
   "outputs": [
    {
     "name": "stderr",
     "output_type": "stream",
     "text": [
      "[nltk_data] Downloading package omw-1.4 to\n",
      "[nltk_data]     C:\\Users\\bronw\\AppData\\Roaming\\nltk_data...\n",
      "[nltk_data]   Package omw-1.4 is already up-to-date!\n"
     ]
    }
   ],
   "source": [
    "import nltk\n",
    "import string\n",
    "from sklearn.feature_extraction.text import CountVectorizer\n",
    "from nltk import TreebankWordTokenizer, SnowballStemmer\n",
    "from nltk.corpus import stopwords\n",
    "from sklearn.feature_extraction.text import CountVectorizer\n",
    "from nltk.stem import WordNetLemmatizer\n",
    "nltk.download('omw-1.4')\n",
    "import seaborn as sns\n",
    "import matplotlib.pyplot as plt\n",
    "import numpy as np\n",
    "import pandas as pd\n",
    "import re\n",
    "import string\n",
    "import warnings\n",
    "# from pandas.core.common import SettingWithCopyWarning"
   ]
  },
  {
   "cell_type": "markdown",
   "id": "2bcb019f",
   "metadata": {
    "papermill": {
     "duration": 0.004297,
     "end_time": "2022-11-28T15:19:40.050661",
     "exception": false,
     "start_time": "2022-11-28T15:19:40.046364",
     "status": "completed"
    },
    "tags": []
   },
   "source": [
    "### Collect some data"
   ]
  },
  {
   "cell_type": "code",
   "execution_count": 3,
   "id": "d28136a2",
   "metadata": {
    "execution": {
     "iopub.execute_input": "2022-11-28T15:19:40.061702Z",
     "iopub.status.busy": "2022-11-28T15:19:40.061313Z",
     "iopub.status.idle": "2022-11-28T15:19:40.218017Z",
     "shell.execute_reply": "2022-11-28T15:19:40.216968Z"
    },
    "papermill": {
     "duration": 0.165336,
     "end_time": "2022-11-28T15:19:40.220589",
     "exception": false,
     "start_time": "2022-11-28T15:19:40.055253",
     "status": "completed"
    },
    "tags": []
   },
   "outputs": [
    {
     "data": {
      "text/html": [
       "<div>\n",
       "<style scoped>\n",
       "    .dataframe tbody tr th:only-of-type {\n",
       "        vertical-align: middle;\n",
       "    }\n",
       "\n",
       "    .dataframe tbody tr th {\n",
       "        vertical-align: top;\n",
       "    }\n",
       "\n",
       "    .dataframe thead th {\n",
       "        text-align: right;\n",
       "    }\n",
       "</style>\n",
       "<table border=\"1\" class=\"dataframe\">\n",
       "  <thead>\n",
       "    <tr style=\"text-align: right;\">\n",
       "      <th></th>\n",
       "      <th>sentiment</th>\n",
       "      <th>message</th>\n",
       "    </tr>\n",
       "    <tr>\n",
       "      <th>tweetid</th>\n",
       "      <th></th>\n",
       "      <th></th>\n",
       "    </tr>\n",
       "  </thead>\n",
       "  <tbody>\n",
       "    <tr>\n",
       "      <th>625221</th>\n",
       "      <td>1</td>\n",
       "      <td>PolySciMajor EPA chief doesn't think carbon di...</td>\n",
       "    </tr>\n",
       "    <tr>\n",
       "      <th>126103</th>\n",
       "      <td>1</td>\n",
       "      <td>It's not like we lack evidence of anthropogeni...</td>\n",
       "    </tr>\n",
       "    <tr>\n",
       "      <th>698562</th>\n",
       "      <td>2</td>\n",
       "      <td>RT @RawStory: Researchers say we have three ye...</td>\n",
       "    </tr>\n",
       "    <tr>\n",
       "      <th>573736</th>\n",
       "      <td>1</td>\n",
       "      <td>#TodayinMaker# WIRED : 2016 was a pivotal year...</td>\n",
       "    </tr>\n",
       "    <tr>\n",
       "      <th>466954</th>\n",
       "      <td>1</td>\n",
       "      <td>RT @SoyNovioDeTodas: It's 2016, and a racist, ...</td>\n",
       "    </tr>\n",
       "  </tbody>\n",
       "</table>\n",
       "</div>"
      ],
      "text/plain": [
       "         sentiment                                            message\n",
       "tweetid                                                              \n",
       "625221           1  PolySciMajor EPA chief doesn't think carbon di...\n",
       "126103           1  It's not like we lack evidence of anthropogeni...\n",
       "698562           2  RT @RawStory: Researchers say we have three ye...\n",
       "573736           1  #TodayinMaker# WIRED : 2016 was a pivotal year...\n",
       "466954           1  RT @SoyNovioDeTodas: It's 2016, and a racist, ..."
      ]
     },
     "execution_count": 3,
     "metadata": {},
     "output_type": "execute_result"
    }
   ],
   "source": [
    "data = pd.read_csv(\"train.csv\", index_col = \"tweetid\")\n",
    "data.head()\n",
    "#change index to tweetid\n",
    "#g = pd.read_csv(\"test_with_no_labels.csv\")\n",
    "#g.head()"
   ]
  },
  {
   "cell_type": "markdown",
   "id": "717b3eb7",
   "metadata": {
    "papermill": {
     "duration": 0.004815,
     "end_time": "2022-11-28T15:19:40.230247",
     "exception": false,
     "start_time": "2022-11-28T15:19:40.225432",
     "status": "completed"
    },
    "tags": []
   },
   "source": [
    "## let the washing begin!!"
   ]
  },
  {
   "cell_type": "code",
   "execution_count": 4,
   "id": "ffc0477f",
   "metadata": {
    "execution": {
     "iopub.execute_input": "2022-11-28T15:19:40.244946Z",
     "iopub.status.busy": "2022-11-28T15:19:40.243923Z",
     "iopub.status.idle": "2022-11-28T15:19:40.413307Z",
     "shell.execute_reply": "2022-11-28T15:19:40.412462Z"
    },
    "papermill": {
     "duration": 0.348007,
     "end_time": "2022-11-28T15:19:40.586043",
     "exception": false,
     "start_time": "2022-11-28T15:19:40.238036",
     "status": "completed"
    },
    "tags": []
   },
   "outputs": [
    {
     "data": {
      "text/html": [
       "<div>\n",
       "<style scoped>\n",
       "    .dataframe tbody tr th:only-of-type {\n",
       "        vertical-align: middle;\n",
       "    }\n",
       "\n",
       "    .dataframe tbody tr th {\n",
       "        vertical-align: top;\n",
       "    }\n",
       "\n",
       "    .dataframe thead th {\n",
       "        text-align: right;\n",
       "    }\n",
       "</style>\n",
       "<table border=\"1\" class=\"dataframe\">\n",
       "  <thead>\n",
       "    <tr style=\"text-align: right;\">\n",
       "      <th></th>\n",
       "      <th>message</th>\n",
       "      <th>sentiment</th>\n",
       "    </tr>\n",
       "    <tr>\n",
       "      <th>tweetid</th>\n",
       "      <th></th>\n",
       "      <th></th>\n",
       "    </tr>\n",
       "  </thead>\n",
       "  <tbody>\n",
       "    <tr>\n",
       "      <th>625221</th>\n",
       "      <td>PolySciMajor EPA chief doesn't think carbon di...</td>\n",
       "      <td>1</td>\n",
       "    </tr>\n",
       "    <tr>\n",
       "      <th>126103</th>\n",
       "      <td>It's not like we lack evidence of anthropogeni...</td>\n",
       "      <td>1</td>\n",
       "    </tr>\n",
       "    <tr>\n",
       "      <th>698562</th>\n",
       "      <td>RT @RawStory: Researchers say we have three ye...</td>\n",
       "      <td>2</td>\n",
       "    </tr>\n",
       "    <tr>\n",
       "      <th>573736</th>\n",
       "      <td>#TodayinMaker# WIRED : 2016 was a pivotal year...</td>\n",
       "      <td>1</td>\n",
       "    </tr>\n",
       "    <tr>\n",
       "      <th>466954</th>\n",
       "      <td>RT @SoyNovioDeTodas: It's 2016, and a racist, ...</td>\n",
       "      <td>1</td>\n",
       "    </tr>\n",
       "  </tbody>\n",
       "</table>\n",
       "</div>"
      ],
      "text/plain": [
       "                                                   message  sentiment\n",
       "tweetid                                                              \n",
       "625221   PolySciMajor EPA chief doesn't think carbon di...          1\n",
       "126103   It's not like we lack evidence of anthropogeni...          1\n",
       "698562   RT @RawStory: Researchers say we have three ye...          2\n",
       "573736   #TodayinMaker# WIRED : 2016 was a pivotal year...          1\n",
       "466954   RT @SoyNovioDeTodas: It's 2016, and a racist, ...          1"
      ]
     },
     "execution_count": 4,
     "metadata": {},
     "output_type": "execute_result"
    }
   ],
   "source": [
    "#rearrange the columns for clarity\n",
    "data_sorted = data[[\"message\", \"sentiment\"]]\n",
    "data_sorted.head()\n",
    "\n"
   ]
  },
  {
   "cell_type": "code",
   "execution_count": 5,
   "id": "38b5485c",
   "metadata": {
    "execution": {
     "iopub.execute_input": "2022-11-28T15:19:40.711854Z",
     "iopub.status.busy": "2022-11-28T15:19:40.711456Z",
     "iopub.status.idle": "2022-11-28T15:19:40.925598Z",
     "shell.execute_reply": "2022-11-28T15:19:40.924077Z"
    },
    "papermill": {
     "duration": 0.389452,
     "end_time": "2022-11-28T15:19:41.042146",
     "exception": false,
     "start_time": "2022-11-28T15:19:40.652694",
     "status": "completed"
    },
    "tags": []
   },
   "outputs": [],
   "source": [
    "#remove web urls \n",
    "pattern_url = r'http[s]?://(?:[A-Za-z]|[0-9]|[$-_@.&+]|[!*\\(\\),]|(?:%[0-9A-Fa-f][0-9A-Fa-f]))+'\n",
    "subs_url = r'url-web'\n",
    "data_sorted['message'] = data_sorted['message'].replace(to_replace = pattern_url, value = subs_url, regex = True)\n",
    "\n"
   ]
  },
  {
   "cell_type": "code",
   "execution_count": 6,
   "id": "6353998f",
   "metadata": {
    "execution": {
     "iopub.execute_input": "2022-11-28T15:19:41.288625Z",
     "iopub.status.busy": "2022-11-28T15:19:41.288221Z",
     "iopub.status.idle": "2022-11-28T15:19:41.324249Z",
     "shell.execute_reply": "2022-11-28T15:19:41.323103Z"
    },
    "papermill": {
     "duration": 0.152848,
     "end_time": "2022-11-28T15:19:41.326941",
     "exception": false,
     "start_time": "2022-11-28T15:19:41.174093",
     "status": "completed"
    },
    "tags": []
   },
   "outputs": [
    {
     "data": {
      "text/html": [
       "<div>\n",
       "<style scoped>\n",
       "    .dataframe tbody tr th:only-of-type {\n",
       "        vertical-align: middle;\n",
       "    }\n",
       "\n",
       "    .dataframe tbody tr th {\n",
       "        vertical-align: top;\n",
       "    }\n",
       "\n",
       "    .dataframe thead th {\n",
       "        text-align: right;\n",
       "    }\n",
       "</style>\n",
       "<table border=\"1\" class=\"dataframe\">\n",
       "  <thead>\n",
       "    <tr style=\"text-align: right;\">\n",
       "      <th></th>\n",
       "      <th>message</th>\n",
       "      <th>sentiment</th>\n",
       "    </tr>\n",
       "    <tr>\n",
       "      <th>tweetid</th>\n",
       "      <th></th>\n",
       "      <th></th>\n",
       "    </tr>\n",
       "  </thead>\n",
       "  <tbody>\n",
       "    <tr>\n",
       "      <th>625221</th>\n",
       "      <td>polyscimajor epa chief doesn't think carbon di...</td>\n",
       "      <td>1</td>\n",
       "    </tr>\n",
       "    <tr>\n",
       "      <th>126103</th>\n",
       "      <td>it's not like we lack evidence of anthropogeni...</td>\n",
       "      <td>1</td>\n",
       "    </tr>\n",
       "    <tr>\n",
       "      <th>698562</th>\n",
       "      <td>rt @rawstory: researchers say we have three ye...</td>\n",
       "      <td>2</td>\n",
       "    </tr>\n",
       "    <tr>\n",
       "      <th>573736</th>\n",
       "      <td>#todayinmaker# wired : 2016 was a pivotal year...</td>\n",
       "      <td>1</td>\n",
       "    </tr>\n",
       "    <tr>\n",
       "      <th>466954</th>\n",
       "      <td>rt @soynoviodetodas: it's 2016, and a racist, ...</td>\n",
       "      <td>1</td>\n",
       "    </tr>\n",
       "    <tr>\n",
       "      <th>...</th>\n",
       "      <td>...</td>\n",
       "      <td>...</td>\n",
       "    </tr>\n",
       "    <tr>\n",
       "      <th>22001</th>\n",
       "      <td>rt @ezlusztig: they took down the material on ...</td>\n",
       "      <td>1</td>\n",
       "    </tr>\n",
       "    <tr>\n",
       "      <th>17856</th>\n",
       "      <td>rt @washingtonpost: how climate change could b...</td>\n",
       "      <td>2</td>\n",
       "    </tr>\n",
       "    <tr>\n",
       "      <th>384248</th>\n",
       "      <td>notiven: rt: nytimesworld :what does trump act...</td>\n",
       "      <td>0</td>\n",
       "    </tr>\n",
       "    <tr>\n",
       "      <th>819732</th>\n",
       "      <td>rt @sara8smiles: hey liberals the climate chan...</td>\n",
       "      <td>-1</td>\n",
       "    </tr>\n",
       "    <tr>\n",
       "      <th>806319</th>\n",
       "      <td>rt @chet_cannon: .@kurteichenwald's 'climate c...</td>\n",
       "      <td>0</td>\n",
       "    </tr>\n",
       "  </tbody>\n",
       "</table>\n",
       "<p>15819 rows × 2 columns</p>\n",
       "</div>"
      ],
      "text/plain": [
       "                                                   message  sentiment\n",
       "tweetid                                                              \n",
       "625221   polyscimajor epa chief doesn't think carbon di...          1\n",
       "126103   it's not like we lack evidence of anthropogeni...          1\n",
       "698562   rt @rawstory: researchers say we have three ye...          2\n",
       "573736   #todayinmaker# wired : 2016 was a pivotal year...          1\n",
       "466954   rt @soynoviodetodas: it's 2016, and a racist, ...          1\n",
       "...                                                    ...        ...\n",
       "22001    rt @ezlusztig: they took down the material on ...          1\n",
       "17856    rt @washingtonpost: how climate change could b...          2\n",
       "384248   notiven: rt: nytimesworld :what does trump act...          0\n",
       "819732   rt @sara8smiles: hey liberals the climate chan...         -1\n",
       "806319   rt @chet_cannon: .@kurteichenwald's 'climate c...          0\n",
       "\n",
       "[15819 rows x 2 columns]"
      ]
     },
     "execution_count": 6,
     "metadata": {},
     "output_type": "execute_result"
    }
   ],
   "source": [
    "#make everything lower case\n",
    "data_sorted['message'] = data_sorted['message'].str.lower()\n",
    "\n",
    "data_sorted"
   ]
  },
  {
   "cell_type": "code",
   "execution_count": 7,
   "id": "cc50910c",
   "metadata": {
    "execution": {
     "iopub.execute_input": "2022-11-28T15:19:41.570671Z",
     "iopub.status.busy": "2022-11-28T15:19:41.570247Z",
     "iopub.status.idle": "2022-11-28T15:19:41.856920Z",
     "shell.execute_reply": "2022-11-28T15:19:41.855719Z"
    },
    "papermill": {
     "duration": 0.404003,
     "end_time": "2022-11-28T15:19:41.863354",
     "exception": false,
     "start_time": "2022-11-28T15:19:41.459351",
     "status": "completed"
    },
    "tags": []
   },
   "outputs": [
    {
     "data": {
      "text/html": [
       "<div>\n",
       "<style scoped>\n",
       "    .dataframe tbody tr th:only-of-type {\n",
       "        vertical-align: middle;\n",
       "    }\n",
       "\n",
       "    .dataframe tbody tr th {\n",
       "        vertical-align: top;\n",
       "    }\n",
       "\n",
       "    .dataframe thead th {\n",
       "        text-align: right;\n",
       "    }\n",
       "</style>\n",
       "<table border=\"1\" class=\"dataframe\">\n",
       "  <thead>\n",
       "    <tr style=\"text-align: right;\">\n",
       "      <th></th>\n",
       "      <th>message</th>\n",
       "      <th>sentiment</th>\n",
       "    </tr>\n",
       "    <tr>\n",
       "      <th>tweetid</th>\n",
       "      <th></th>\n",
       "      <th></th>\n",
       "    </tr>\n",
       "  </thead>\n",
       "  <tbody>\n",
       "    <tr>\n",
       "      <th>625221</th>\n",
       "      <td>polyscimajor epa chief doesnt think carbon dio...</td>\n",
       "      <td>1</td>\n",
       "    </tr>\n",
       "    <tr>\n",
       "      <th>126103</th>\n",
       "      <td>its not like we lack evidence of anthropogenic...</td>\n",
       "      <td>1</td>\n",
       "    </tr>\n",
       "    <tr>\n",
       "      <th>698562</th>\n",
       "      <td>rt rawstory researchers say we have three year...</td>\n",
       "      <td>2</td>\n",
       "    </tr>\n",
       "    <tr>\n",
       "      <th>573736</th>\n",
       "      <td>todayinmaker wired  2016 was a pivotal year in...</td>\n",
       "      <td>1</td>\n",
       "    </tr>\n",
       "    <tr>\n",
       "      <th>466954</th>\n",
       "      <td>rt soynoviodetodas its 2016 and a racist sexis...</td>\n",
       "      <td>1</td>\n",
       "    </tr>\n",
       "    <tr>\n",
       "      <th>...</th>\n",
       "      <td>...</td>\n",
       "      <td>...</td>\n",
       "    </tr>\n",
       "    <tr>\n",
       "      <th>22001</th>\n",
       "      <td>rt ezlusztig they took down the material on gl...</td>\n",
       "      <td>1</td>\n",
       "    </tr>\n",
       "    <tr>\n",
       "      <th>17856</th>\n",
       "      <td>rt washingtonpost how climate change could be ...</td>\n",
       "      <td>2</td>\n",
       "    </tr>\n",
       "    <tr>\n",
       "      <th>384248</th>\n",
       "      <td>notiven rt nytimesworld what does trump actual...</td>\n",
       "      <td>0</td>\n",
       "    </tr>\n",
       "    <tr>\n",
       "      <th>819732</th>\n",
       "      <td>rt sara8smiles hey liberals the climate change...</td>\n",
       "      <td>-1</td>\n",
       "    </tr>\n",
       "    <tr>\n",
       "      <th>806319</th>\n",
       "      <td>rt chetcannon kurteichenwalds climate change e...</td>\n",
       "      <td>0</td>\n",
       "    </tr>\n",
       "  </tbody>\n",
       "</table>\n",
       "<p>15819 rows × 2 columns</p>\n",
       "</div>"
      ],
      "text/plain": [
       "                                                   message  sentiment\n",
       "tweetid                                                              \n",
       "625221   polyscimajor epa chief doesnt think carbon dio...          1\n",
       "126103   its not like we lack evidence of anthropogenic...          1\n",
       "698562   rt rawstory researchers say we have three year...          2\n",
       "573736   todayinmaker wired  2016 was a pivotal year in...          1\n",
       "466954   rt soynoviodetodas its 2016 and a racist sexis...          1\n",
       "...                                                    ...        ...\n",
       "22001    rt ezlusztig they took down the material on gl...          1\n",
       "17856    rt washingtonpost how climate change could be ...          2\n",
       "384248   notiven rt nytimesworld what does trump actual...          0\n",
       "819732   rt sara8smiles hey liberals the climate change...         -1\n",
       "806319   rt chetcannon kurteichenwalds climate change e...          0\n",
       "\n",
       "[15819 rows x 2 columns]"
      ]
     },
     "execution_count": 7,
     "metadata": {},
     "output_type": "execute_result"
    }
   ],
   "source": [
    "#remove all punctuations\n",
    "\n",
    "def remove_punctuation(post):\n",
    "    return ''.join([l for l in post if l not in string.punctuation])\n",
    "\n",
    "data_sorted['message'] = data_sorted['message'].apply(remove_punctuation)\n",
    "data_sorted"
   ]
  },
  {
   "cell_type": "code",
   "execution_count": 8,
   "id": "f04513ac",
   "metadata": {
    "execution": {
     "iopub.execute_input": "2022-11-28T15:19:42.094079Z",
     "iopub.status.busy": "2022-11-28T15:19:42.093182Z",
     "iopub.status.idle": "2022-11-28T15:19:43.627123Z",
     "shell.execute_reply": "2022-11-28T15:19:43.625838Z"
    },
    "papermill": {
     "duration": 1.648704,
     "end_time": "2022-11-28T15:19:43.629784",
     "exception": false,
     "start_time": "2022-11-28T15:19:41.981080",
     "status": "completed"
    },
    "tags": []
   },
   "outputs": [
    {
     "data": {
      "text/html": [
       "<div>\n",
       "<style scoped>\n",
       "    .dataframe tbody tr th:only-of-type {\n",
       "        vertical-align: middle;\n",
       "    }\n",
       "\n",
       "    .dataframe tbody tr th {\n",
       "        vertical-align: top;\n",
       "    }\n",
       "\n",
       "    .dataframe thead th {\n",
       "        text-align: right;\n",
       "    }\n",
       "</style>\n",
       "<table border=\"1\" class=\"dataframe\">\n",
       "  <thead>\n",
       "    <tr style=\"text-align: right;\">\n",
       "      <th></th>\n",
       "      <th>message</th>\n",
       "      <th>sentiment</th>\n",
       "    </tr>\n",
       "    <tr>\n",
       "      <th>tweetid</th>\n",
       "      <th></th>\n",
       "      <th></th>\n",
       "    </tr>\n",
       "  </thead>\n",
       "  <tbody>\n",
       "    <tr>\n",
       "      <th>625221</th>\n",
       "      <td>[polyscimajor, epa, chief, doesnt, think, carb...</td>\n",
       "      <td>1</td>\n",
       "    </tr>\n",
       "    <tr>\n",
       "      <th>126103</th>\n",
       "      <td>[its, not, like, we, lack, evidence, of, anthr...</td>\n",
       "      <td>1</td>\n",
       "    </tr>\n",
       "    <tr>\n",
       "      <th>698562</th>\n",
       "      <td>[rt, rawstory, researchers, say, we, have, thr...</td>\n",
       "      <td>2</td>\n",
       "    </tr>\n",
       "    <tr>\n",
       "      <th>573736</th>\n",
       "      <td>[todayinmaker, wired, 2016, was, a, pivotal, y...</td>\n",
       "      <td>1</td>\n",
       "    </tr>\n",
       "    <tr>\n",
       "      <th>466954</th>\n",
       "      <td>[rt, soynoviodetodas, its, 2016, and, a, racis...</td>\n",
       "      <td>1</td>\n",
       "    </tr>\n",
       "    <tr>\n",
       "      <th>...</th>\n",
       "      <td>...</td>\n",
       "      <td>...</td>\n",
       "    </tr>\n",
       "    <tr>\n",
       "      <th>22001</th>\n",
       "      <td>[rt, ezlusztig, they, took, down, the, materia...</td>\n",
       "      <td>1</td>\n",
       "    </tr>\n",
       "    <tr>\n",
       "      <th>17856</th>\n",
       "      <td>[rt, washingtonpost, how, climate, change, cou...</td>\n",
       "      <td>2</td>\n",
       "    </tr>\n",
       "    <tr>\n",
       "      <th>384248</th>\n",
       "      <td>[notiven, rt, nytimesworld, what, does, trump,...</td>\n",
       "      <td>0</td>\n",
       "    </tr>\n",
       "    <tr>\n",
       "      <th>819732</th>\n",
       "      <td>[rt, sara8smiles, hey, liberals, the, climate,...</td>\n",
       "      <td>-1</td>\n",
       "    </tr>\n",
       "    <tr>\n",
       "      <th>806319</th>\n",
       "      <td>[rt, chetcannon, kurteichenwalds, climate, cha...</td>\n",
       "      <td>0</td>\n",
       "    </tr>\n",
       "  </tbody>\n",
       "</table>\n",
       "<p>15819 rows × 2 columns</p>\n",
       "</div>"
      ],
      "text/plain": [
       "                                                   message  sentiment\n",
       "tweetid                                                              \n",
       "625221   [polyscimajor, epa, chief, doesnt, think, carb...          1\n",
       "126103   [its, not, like, we, lack, evidence, of, anthr...          1\n",
       "698562   [rt, rawstory, researchers, say, we, have, thr...          2\n",
       "573736   [todayinmaker, wired, 2016, was, a, pivotal, y...          1\n",
       "466954   [rt, soynoviodetodas, its, 2016, and, a, racis...          1\n",
       "...                                                    ...        ...\n",
       "22001    [rt, ezlusztig, they, took, down, the, materia...          1\n",
       "17856    [rt, washingtonpost, how, climate, change, cou...          2\n",
       "384248   [notiven, rt, nytimesworld, what, does, trump,...          0\n",
       "819732   [rt, sara8smiles, hey, liberals, the, climate,...         -1\n",
       "806319   [rt, chetcannon, kurteichenwalds, climate, cha...          0\n",
       "\n",
       "[15819 rows x 2 columns]"
      ]
     },
     "execution_count": 8,
     "metadata": {},
     "output_type": "execute_result"
    }
   ],
   "source": [
    "#tokenisation to treat each word with respect\n",
    "tokeniser = TreebankWordTokenizer()\n",
    "data_sorted['message'] = data_sorted['message'].apply(tokeniser.tokenize)\n",
    "\n",
    "data_sorted"
   ]
  },
  {
   "cell_type": "code",
   "execution_count": 9,
   "id": "169a5670",
   "metadata": {
    "execution": {
     "iopub.execute_input": "2022-11-28T15:19:43.856279Z",
     "iopub.status.busy": "2022-11-28T15:19:43.855687Z",
     "iopub.status.idle": "2022-11-28T15:19:47.640001Z",
     "shell.execute_reply": "2022-11-28T15:19:47.638509Z"
    },
    "papermill": {
     "duration": 3.901759,
     "end_time": "2022-11-28T15:19:47.642397",
     "exception": false,
     "start_time": "2022-11-28T15:19:43.740638",
     "status": "completed"
    },
    "tags": []
   },
   "outputs": [
    {
     "data": {
      "text/html": [
       "<div>\n",
       "<style scoped>\n",
       "    .dataframe tbody tr th:only-of-type {\n",
       "        vertical-align: middle;\n",
       "    }\n",
       "\n",
       "    .dataframe tbody tr th {\n",
       "        vertical-align: top;\n",
       "    }\n",
       "\n",
       "    .dataframe thead th {\n",
       "        text-align: right;\n",
       "    }\n",
       "</style>\n",
       "<table border=\"1\" class=\"dataframe\">\n",
       "  <thead>\n",
       "    <tr style=\"text-align: right;\">\n",
       "      <th></th>\n",
       "      <th>message</th>\n",
       "      <th>sentiment</th>\n",
       "    </tr>\n",
       "    <tr>\n",
       "      <th>tweetid</th>\n",
       "      <th></th>\n",
       "      <th></th>\n",
       "    </tr>\n",
       "  </thead>\n",
       "  <tbody>\n",
       "    <tr>\n",
       "      <th>625221</th>\n",
       "      <td>[polyscimajor, epa, chief, doesnt, think, carb...</td>\n",
       "      <td>1</td>\n",
       "    </tr>\n",
       "    <tr>\n",
       "      <th>126103</th>\n",
       "      <td>[it, not, like, we, lack, evid, of, anthropoge...</td>\n",
       "      <td>1</td>\n",
       "    </tr>\n",
       "    <tr>\n",
       "      <th>698562</th>\n",
       "      <td>[rt, rawstori, research, say, we, have, three,...</td>\n",
       "      <td>2</td>\n",
       "    </tr>\n",
       "    <tr>\n",
       "      <th>573736</th>\n",
       "      <td>[todayinmak, wire, 2016, was, a, pivot, year, ...</td>\n",
       "      <td>1</td>\n",
       "    </tr>\n",
       "    <tr>\n",
       "      <th>466954</th>\n",
       "      <td>[rt, soynoviodetoda, it, 2016, and, a, racist,...</td>\n",
       "      <td>1</td>\n",
       "    </tr>\n",
       "    <tr>\n",
       "      <th>...</th>\n",
       "      <td>...</td>\n",
       "      <td>...</td>\n",
       "    </tr>\n",
       "    <tr>\n",
       "      <th>22001</th>\n",
       "      <td>[rt, ezlusztig, they, took, down, the, materi,...</td>\n",
       "      <td>1</td>\n",
       "    </tr>\n",
       "    <tr>\n",
       "      <th>17856</th>\n",
       "      <td>[rt, washingtonpost, how, climat, chang, could...</td>\n",
       "      <td>2</td>\n",
       "    </tr>\n",
       "    <tr>\n",
       "      <th>384248</th>\n",
       "      <td>[notiven, rt, nytimesworld, what, doe, trump, ...</td>\n",
       "      <td>0</td>\n",
       "    </tr>\n",
       "    <tr>\n",
       "      <th>819732</th>\n",
       "      <td>[rt, sara8smil, hey, liber, the, climat, chang...</td>\n",
       "      <td>-1</td>\n",
       "    </tr>\n",
       "    <tr>\n",
       "      <th>806319</th>\n",
       "      <td>[rt, chetcannon, kurteichenwald, climat, chang...</td>\n",
       "      <td>0</td>\n",
       "    </tr>\n",
       "  </tbody>\n",
       "</table>\n",
       "<p>15819 rows × 2 columns</p>\n",
       "</div>"
      ],
      "text/plain": [
       "                                                   message  sentiment\n",
       "tweetid                                                              \n",
       "625221   [polyscimajor, epa, chief, doesnt, think, carb...          1\n",
       "126103   [it, not, like, we, lack, evid, of, anthropoge...          1\n",
       "698562   [rt, rawstori, research, say, we, have, three,...          2\n",
       "573736   [todayinmak, wire, 2016, was, a, pivot, year, ...          1\n",
       "466954   [rt, soynoviodetoda, it, 2016, and, a, racist,...          1\n",
       "...                                                    ...        ...\n",
       "22001    [rt, ezlusztig, they, took, down, the, materi,...          1\n",
       "17856    [rt, washingtonpost, how, climat, chang, could...          2\n",
       "384248   [notiven, rt, nytimesworld, what, doe, trump, ...          0\n",
       "819732   [rt, sara8smil, hey, liber, the, climat, chang...         -1\n",
       "806319   [rt, chetcannon, kurteichenwald, climat, chang...          0\n",
       "\n",
       "[15819 rows x 2 columns]"
      ]
     },
     "execution_count": 9,
     "metadata": {},
     "output_type": "execute_result"
    }
   ],
   "source": [
    "#stem to transform to the root word, and have more common words\n",
    "stemmer = SnowballStemmer('english')\n",
    "\n",
    "def mbti_stemmer(words, stemmer):\n",
    "    return [stemmer.stem(word) for word in words]\n",
    "\n",
    "data_sorted['message'] = data_sorted['message'].apply(mbti_stemmer, args=(stemmer, ))\n",
    "\n",
    "data_sorted"
   ]
  },
  {
   "cell_type": "code",
   "execution_count": 10,
   "id": "e495cb57",
   "metadata": {
    "execution": {
     "iopub.execute_input": "2022-11-28T15:19:47.858966Z",
     "iopub.status.busy": "2022-11-28T15:19:47.858543Z",
     "iopub.status.idle": "2022-11-28T15:19:51.096017Z",
     "shell.execute_reply": "2022-11-28T15:19:51.094836Z"
    },
    "papermill": {
     "duration": 3.348943,
     "end_time": "2022-11-28T15:19:51.098635",
     "exception": false,
     "start_time": "2022-11-28T15:19:47.749692",
     "status": "completed"
    },
    "tags": []
   },
   "outputs": [
    {
     "data": {
      "text/html": [
       "<div>\n",
       "<style scoped>\n",
       "    .dataframe tbody tr th:only-of-type {\n",
       "        vertical-align: middle;\n",
       "    }\n",
       "\n",
       "    .dataframe tbody tr th {\n",
       "        vertical-align: top;\n",
       "    }\n",
       "\n",
       "    .dataframe thead th {\n",
       "        text-align: right;\n",
       "    }\n",
       "</style>\n",
       "<table border=\"1\" class=\"dataframe\">\n",
       "  <thead>\n",
       "    <tr style=\"text-align: right;\">\n",
       "      <th></th>\n",
       "      <th>message</th>\n",
       "      <th>sentiment</th>\n",
       "    </tr>\n",
       "    <tr>\n",
       "      <th>tweetid</th>\n",
       "      <th></th>\n",
       "      <th></th>\n",
       "    </tr>\n",
       "  </thead>\n",
       "  <tbody>\n",
       "    <tr>\n",
       "      <th>625221</th>\n",
       "      <td>[polyscimajor, epa, chief, doesnt, think, carb...</td>\n",
       "      <td>1</td>\n",
       "    </tr>\n",
       "    <tr>\n",
       "      <th>126103</th>\n",
       "      <td>[it, not, like, we, lack, evid, of, anthropoge...</td>\n",
       "      <td>1</td>\n",
       "    </tr>\n",
       "    <tr>\n",
       "      <th>698562</th>\n",
       "      <td>[rt, rawstori, research, say, we, have, three,...</td>\n",
       "      <td>2</td>\n",
       "    </tr>\n",
       "    <tr>\n",
       "      <th>573736</th>\n",
       "      <td>[todayinmak, wire, 2016, wa, a, pivot, year, i...</td>\n",
       "      <td>1</td>\n",
       "    </tr>\n",
       "    <tr>\n",
       "      <th>466954</th>\n",
       "      <td>[rt, soynoviodetoda, it, 2016, and, a, racist,...</td>\n",
       "      <td>1</td>\n",
       "    </tr>\n",
       "    <tr>\n",
       "      <th>...</th>\n",
       "      <td>...</td>\n",
       "      <td>...</td>\n",
       "    </tr>\n",
       "    <tr>\n",
       "      <th>22001</th>\n",
       "      <td>[rt, ezlusztig, they, took, down, the, materi,...</td>\n",
       "      <td>1</td>\n",
       "    </tr>\n",
       "    <tr>\n",
       "      <th>17856</th>\n",
       "      <td>[rt, washingtonpost, how, climat, chang, could...</td>\n",
       "      <td>2</td>\n",
       "    </tr>\n",
       "    <tr>\n",
       "      <th>384248</th>\n",
       "      <td>[notiven, rt, nytimesworld, what, doe, trump, ...</td>\n",
       "      <td>0</td>\n",
       "    </tr>\n",
       "    <tr>\n",
       "      <th>819732</th>\n",
       "      <td>[rt, sara8smil, hey, liber, the, climat, chang...</td>\n",
       "      <td>-1</td>\n",
       "    </tr>\n",
       "    <tr>\n",
       "      <th>806319</th>\n",
       "      <td>[rt, chetcannon, kurteichenwald, climat, chang...</td>\n",
       "      <td>0</td>\n",
       "    </tr>\n",
       "  </tbody>\n",
       "</table>\n",
       "<p>15819 rows × 2 columns</p>\n",
       "</div>"
      ],
      "text/plain": [
       "                                                   message  sentiment\n",
       "tweetid                                                              \n",
       "625221   [polyscimajor, epa, chief, doesnt, think, carb...          1\n",
       "126103   [it, not, like, we, lack, evid, of, anthropoge...          1\n",
       "698562   [rt, rawstori, research, say, we, have, three,...          2\n",
       "573736   [todayinmak, wire, 2016, wa, a, pivot, year, i...          1\n",
       "466954   [rt, soynoviodetoda, it, 2016, and, a, racist,...          1\n",
       "...                                                    ...        ...\n",
       "22001    [rt, ezlusztig, they, took, down, the, materi,...          1\n",
       "17856    [rt, washingtonpost, how, climat, chang, could...          2\n",
       "384248   [notiven, rt, nytimesworld, what, doe, trump, ...          0\n",
       "819732   [rt, sara8smil, hey, liber, the, climat, chang...         -1\n",
       "806319   [rt, chetcannon, kurteichenwald, climat, chang...          0\n",
       "\n",
       "[15819 rows x 2 columns]"
      ]
     },
     "execution_count": 10,
     "metadata": {},
     "output_type": "execute_result"
    }
   ],
   "source": [
    "#lemmatization to lessen unique words even more by changing tenses of words and plurals\n",
    "lemmatizer = WordNetLemmatizer()\n",
    "\n",
    "def mbti_lemma(words, lemmatizer):\n",
    "    return [lemmatizer.lemmatize(word) for word in words]\n",
    "\n",
    "data_sorted['message'] = data_sorted['message'].apply(mbti_lemma, args=(lemmatizer, ))\n",
    "\n",
    "data_sorted"
   ]
  },
  {
   "cell_type": "code",
   "execution_count": 11,
   "id": "4dc9d5de",
   "metadata": {
    "execution": {
     "iopub.execute_input": "2022-11-28T15:19:51.318471Z",
     "iopub.status.busy": "2022-11-28T15:19:51.317479Z",
     "iopub.status.idle": "2022-11-28T15:20:30.910103Z",
     "shell.execute_reply": "2022-11-28T15:20:30.908934Z"
    },
    "papermill": {
     "duration": 39.811608,
     "end_time": "2022-11-28T15:20:31.019701",
     "exception": false,
     "start_time": "2022-11-28T15:19:51.208093",
     "status": "completed"
    },
    "tags": []
   },
   "outputs": [
    {
     "data": {
      "text/html": [
       "<div>\n",
       "<style scoped>\n",
       "    .dataframe tbody tr th:only-of-type {\n",
       "        vertical-align: middle;\n",
       "    }\n",
       "\n",
       "    .dataframe tbody tr th {\n",
       "        vertical-align: top;\n",
       "    }\n",
       "\n",
       "    .dataframe thead th {\n",
       "        text-align: right;\n",
       "    }\n",
       "</style>\n",
       "<table border=\"1\" class=\"dataframe\">\n",
       "  <thead>\n",
       "    <tr style=\"text-align: right;\">\n",
       "      <th></th>\n",
       "      <th>message</th>\n",
       "      <th>sentiment</th>\n",
       "    </tr>\n",
       "    <tr>\n",
       "      <th>tweetid</th>\n",
       "      <th></th>\n",
       "      <th></th>\n",
       "    </tr>\n",
       "  </thead>\n",
       "  <tbody>\n",
       "    <tr>\n",
       "      <th>625221</th>\n",
       "      <td>[polyscimajor, epa, chief, doesnt, think, carb...</td>\n",
       "      <td>1</td>\n",
       "    </tr>\n",
       "    <tr>\n",
       "      <th>126103</th>\n",
       "      <td>[like, lack, evid, anthropogen, global, warm]</td>\n",
       "      <td>1</td>\n",
       "    </tr>\n",
       "    <tr>\n",
       "      <th>698562</th>\n",
       "      <td>[rt, rawstori, research, say, three, year, act...</td>\n",
       "      <td>2</td>\n",
       "    </tr>\n",
       "    <tr>\n",
       "      <th>573736</th>\n",
       "      <td>[todayinmak, wire, 2016, wa, pivot, year, war,...</td>\n",
       "      <td>1</td>\n",
       "    </tr>\n",
       "    <tr>\n",
       "      <th>466954</th>\n",
       "      <td>[rt, soynoviodetoda, 2016, racist, sexist, cli...</td>\n",
       "      <td>1</td>\n",
       "    </tr>\n",
       "    <tr>\n",
       "      <th>...</th>\n",
       "      <td>...</td>\n",
       "      <td>...</td>\n",
       "    </tr>\n",
       "    <tr>\n",
       "      <th>22001</th>\n",
       "      <td>[rt, ezlusztig, took, materi, global, warm, lg...</td>\n",
       "      <td>1</td>\n",
       "    </tr>\n",
       "    <tr>\n",
       "      <th>17856</th>\n",
       "      <td>[rt, washingtonpost, climat, chang, could, bre...</td>\n",
       "      <td>2</td>\n",
       "    </tr>\n",
       "    <tr>\n",
       "      <th>384248</th>\n",
       "      <td>[notiven, rt, nytimesworld, doe, trump, actual...</td>\n",
       "      <td>0</td>\n",
       "    </tr>\n",
       "    <tr>\n",
       "      <th>819732</th>\n",
       "      <td>[rt, sara8smil, hey, liber, climat, chang, cra...</td>\n",
       "      <td>-1</td>\n",
       "    </tr>\n",
       "    <tr>\n",
       "      <th>806319</th>\n",
       "      <td>[rt, chetcannon, kurteichenwald, climat, chang...</td>\n",
       "      <td>0</td>\n",
       "    </tr>\n",
       "  </tbody>\n",
       "</table>\n",
       "<p>15819 rows × 2 columns</p>\n",
       "</div>"
      ],
      "text/plain": [
       "                                                   message  sentiment\n",
       "tweetid                                                              \n",
       "625221   [polyscimajor, epa, chief, doesnt, think, carb...          1\n",
       "126103       [like, lack, evid, anthropogen, global, warm]          1\n",
       "698562   [rt, rawstori, research, say, three, year, act...          2\n",
       "573736   [todayinmak, wire, 2016, wa, pivot, year, war,...          1\n",
       "466954   [rt, soynoviodetoda, 2016, racist, sexist, cli...          1\n",
       "...                                                    ...        ...\n",
       "22001    [rt, ezlusztig, took, materi, global, warm, lg...          1\n",
       "17856    [rt, washingtonpost, climat, chang, could, bre...          2\n",
       "384248   [notiven, rt, nytimesworld, doe, trump, actual...          0\n",
       "819732   [rt, sara8smil, hey, liber, climat, chang, cra...         -1\n",
       "806319   [rt, chetcannon, kurteichenwald, climat, chang...          0\n",
       "\n",
       "[15819 rows x 2 columns]"
      ]
     },
     "execution_count": 11,
     "metadata": {},
     "output_type": "execute_result"
    }
   ],
   "source": [
    "#remove standard stop words, which are words of insignificance\n",
    "def remove_stop_words(tokens):    \n",
    "    return [t for t in tokens if t not in stopwords.words('english')]\n",
    "\n",
    "data_sorted['message'] = data_sorted['message'].apply(remove_stop_words)\n",
    "\n",
    "data_sorted"
   ]
  },
  {
   "cell_type": "markdown",
   "id": "aaf25238",
   "metadata": {
    "papermill": {
     "duration": 0.103979,
     "end_time": "2022-11-28T15:20:31.229191",
     "exception": false,
     "start_time": "2022-11-28T15:20:31.125212",
     "status": "completed"
    },
    "tags": []
   },
   "source": [
    "# exploratory data analysis"
   ]
  },
  {
   "cell_type": "code",
   "execution_count": 12,
   "id": "2b7a59b4",
   "metadata": {},
   "outputs": [
    {
     "name": "stdout",
     "output_type": "stream",
     "text": [
      "min: -1\n",
      "max: 2\n",
      "total number of sentiments: 15819\n",
      "counts of the respective sentiments: {1: 8530, 2: 3640, 0: 2353, -1: 1296}\n"
     ]
    }
   ],
   "source": [
    "#see the min, max and mode(from dictionary) category of the sentiments\n",
    "print(\"min:\", np.min(data_sorted[\"sentiment\"]))\n",
    "print(\"max:\", np.max(data_sorted[\"sentiment\"]))\n",
    "\n",
    "dict_ = {}\n",
    "\n",
    "for i in data_sorted[\"sentiment\"]:\n",
    "    if i in dict_:\n",
    "        dict_[i] += 1\n",
    "    else:\n",
    "        dict_[i] = 1\n",
    "\n",
    "print(\"total number of sentiments:\", len(data_sorted))\n",
    "print(\"counts of the respective sentiments:\", dict_)\n"
   ]
  },
  {
   "cell_type": "code",
   "execution_count": 13,
   "id": "6893199f",
   "metadata": {},
   "outputs": [
    {
     "name": "stdout",
     "output_type": "stream",
     "text": [
      "skewness:  -0.6839586535115556\n",
      " kurtosis:  0.12297618882173778\n"
     ]
    }
   ],
   "source": [
    "#the skewness and kurtosis(lack of ourtliers) of the sentiments\n",
    "print(\"skewness: \", data_sorted[\"sentiment\"].skew())\n",
    "print(\" kurtosis: \",data_sorted[\"sentiment\"].kurtosis())"
   ]
  },
  {
   "cell_type": "code",
   "execution_count": 14,
   "id": "b4506cfe",
   "metadata": {},
   "outputs": [
    {
     "data": {
      "text/plain": [
       "Text(0.5, 1.0, 'Distribution of Sentiments')"
      ]
     },
     "execution_count": 14,
     "metadata": {},
     "output_type": "execute_result"
    },
    {
     "data": {
      "image/png": "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\n",
      "text/plain": [
       "<Figure size 432x288 with 1 Axes>"
      ]
     },
     "metadata": {
      "needs_background": "light"
     },
     "output_type": "display_data"
    }
   ],
   "source": [
    "#the frequency distribution of the sentiments\n",
    "#Thibello\n",
    "sns.countplot(x = 'sentiment', data = data_sorted, palette=\"hls\")\n",
    "plt.title(\"Distribution of Sentiments\")"
   ]
  },
  {
   "cell_type": "markdown",

   "id": "6dac89d0",
   "metadata": {},
   "source": [
    "# Feature Enigneering\n"

   "id": "32eeaac0",
   "metadata": {},
   "source": [
    "# Streamlit"

   ]
  },
  {
   "cell_type": "markdown",

   "id": "a58add18",
   "metadata": {},
   "source": [
    "In this section we deal with feature engineering including vectoriastion in preparation for model training"
   "id": "8938cfbf",
   "metadata": {},
   "source": [
    "Streamlit will enable the visualisation and user interfaces for the Twitter Sentiment Predict."

   ]
  },
  {
   "cell_type": "code",
   "execution_count": null,

   "id": "e21ff27a",
   "metadata": {},
   "outputs": [],
   "source": [
    "from sklearn.feature_extraction.text import TfidVectorizer\n",
    "#Bronwyn\n"

   "id": "9f7fb285",
   "metadata": {},
   "outputs": [],
   "source": [
    "# JS\n",
    "# Example code we may use for Streamlit\n",
    "\n",
    "# import Streamlit (ensure all libraries and dependencies downloaded for environment)\n",
    "import streamlit as st\n",
    "import altair as alt\n",
    "\n",
    "# slider functionality\n",
    "# x = st.slider('x')\n",
    "# st.write(x, 'squared is', x * x)\n",
    "\n",
    "# reuse data across runs (this would be the final clean data we have)\n",
    "# read_and_cashe_csv = st.cache(pd.read_csv)\n",
    "\n",
    "# create title on webpage\n",
    "# st.write('# Streamlit Twitter Sentiment App')"

   ]
  }
 ],
 "metadata": {
  "kernelspec": {
   "display_name": "Python 3 (ipykernel)",
   "language": "python",
   "name": "python3"
  },
  "language_info": {
   "codemirror_mode": {
    "name": "ipython",
    "version": 3
   },
   "file_extension": ".py",
   "mimetype": "text/x-python",
   "name": "python",
   "nbconvert_exporter": "python",
   "pygments_lexer": "ipython3",
   "version": "3.9.12"
  },
  "papermill": {
   "default_parameters": {},
   "duration": 64.18422,
   "end_time": "2022-11-28T15:20:33.254982",
   "environment_variables": {},
   "exception": null,
   "input_path": "__notebook__.ipynb",
   "output_path": "__notebook__.ipynb",
   "parameters": {},
   "start_time": "2022-11-28T15:19:29.070762",
   "version": "2.3.4"
  }
 },
 "nbformat": 4,
 "nbformat_minor": 5
}
