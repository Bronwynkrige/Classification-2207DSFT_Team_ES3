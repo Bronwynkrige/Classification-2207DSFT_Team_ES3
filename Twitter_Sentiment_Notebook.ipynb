{
 "cells": [
  {
   "cell_type": "markdown",
   "id": "23aef5a7",
   "metadata": {},
   "source": [
    "# Classification Predict"
   ]
  },
  {
   "cell_type": "markdown",
   "id": "3111688a",
   "metadata": {},
   "source": [
    "## Table of Contents\n",
    "\n",
    "\n",
    "1. [Introduction](#1.-Introduction)\n",
    "    - Problem statement\n",
    "    - Objective\n",
    "    \n",
    "2. [Importing Packages](#2.-Importing-Packages)\n",
    "\n",
    "3. [Exploratory Data Analysis](#3.-Exploratory-Data-Analysis)\n",
    "    - Load Data \n",
    "    \n",
    "4. [Pre-processing](#4.-Pre-processing)\n",
    "    - [Removing the Noise](#Removing-the-Noise)\n",
    "       - [Lowercasing Data](#Lowercasing-Data) \n",
    "       - [Removing Contractions](#Removing-Contractions)\n",
    "       - [Removing Web Urls](#Removing-Web-Urls)\n",
    "       - [Removing Punctuations](#Removing-Punctuations)\n",
    "       - [Removing Numbers](#Removing-Numbers)\n",
    "       - [Removing Extra Space](#Removing-Extra-Space) \n",
    "       - [Tokenization](#Tokenization)\n",
    "       - [Removing Stop Words](#Removing-Stop-Words)\n",
    "       - [Removing Emojis](#Removing-Emojis)\n",
    "       - [Removing Punctuation once more](#Removing-Punctuation-once-more)\n",
    "       - [Tokenization_2](#Tokenization_2)\n",
    "       - [Stemmer](#Stemmer)\n",
    "       - [Lemmatization](#Lemmatization)\n",
    "      \n",
    "       \n",
    "    \n",
    "5. [Feature Engineering](#5.-Feature-Engineering)\n",
    "    - Bag of Words\n",
    "    - N-grams\n",
    "        \n",
    "6. [Modelling](#6.-Modelling)\n",
    "7. [Conclusion](#7.-Conclusion)"
   ]
  },
  {
   "cell_type": "markdown",
   "id": "c936fbe5",
   "metadata": {},
   "source": [
    "## 1. Introduction\n",
    "[Back to Table of Contents](#Table-of-Contents)"
   ]
  },
  {
   "cell_type": "markdown",
   "id": "411c83a4",
   "metadata": {},
   "source": [
    "###  Problem Statement"
   ]
  },
  {
   "cell_type": "markdown",
   "id": "09f142cb",
   "metadata": {},
   "source": [
    "Many companies would like to determine how their customers perceive climate change and whether or not they believe it is a real threat. \n",
    "Knowledge of this would add to their market research efforts in gauging how their product/service may be received.\n",
    "\n",
    "An accurate and robust solution to this problem would give the companies access to a broad understanding of consumer sentiment, spanning multiple demographic and geographics, as a result increasing companies' insights and informing future\n",
    "marketing strategies for the betterment of consumer experience and company performance.\n",
    "\n"
   ]
  },
  {
   "cell_type": "markdown",
   "id": "fa683f2b",
   "metadata": {},
   "source": [
    "### Objective"
   ]
  },
  {
   "cell_type": "markdown",
   "id": "cd3fe348",
   "metadata": {},
   "source": [
    "Building a Machine Learning model that is able to classify whether or not a person believes in climate change, based on their novel tweet data. The tweets belonging to any of the following class descriptions:\n",
    "\n",
    "2 News: the tweet links to factual news about climate change\n",
    "\n",
    "1 Pro: the tweet supports the belief of man-made climate change\n",
    "\n",
    "0 Neutral: the tweet neither supports nor refutes the belief of man-made climate change\n",
    "\n",
    "-1 Anti: the tweet does not believe in man-made climate change Variable definitions"
   ]
  },
  {
   "cell_type": "markdown",
   "id": "c91162e4",
   "metadata": {},
   "source": [
    "## 2. Importing Packages\n",
    "[Back to Table of Contents](#Table-of-Contents)"
   ]
  },
  {
   "cell_type": "code",
   "execution_count": 15,
   "id": "085b167c",
   "metadata": {
    "execution": {
     "iopub.execute_input": "2022-11-28T15:19:37.676891Z",
     "iopub.status.busy": "2022-11-28T15:19:37.675944Z",
     "iopub.status.idle": "2022-11-28T15:19:40.037958Z",
     "shell.execute_reply": "2022-11-28T15:19:40.036606Z"
    },
    "papermill": {
     "duration": 2.371747,
     "end_time": "2022-11-28T15:19:40.041545",
     "exception": false,
     "start_time": "2022-11-28T15:19:37.669798",
     "status": "completed"
    },
    "tags": []
   },
   "outputs": [],
   "source": [
    "import nltk\n",
    "import string\n",
    "import re\n",
    "import string\n",
    "import contractions\n",
    "import sys  \n",
    "import warnings\n",
    "import seaborn as sns\n",
    "import numpy as np\n",
    "import pandas as pd\n",
    "import matplotlib.pyplot as plt\n",
    "import pickle\n",
    "\n",
    "from cleantext import clean\n",
    "\n",
    "from sklearn.svm import SVC\n",
    "from sklearn.linear_model import LogisticRegression\n",
    "from sklearn.neighbors import KNeighborsClassifier\n",
    "from sklearn.tree import DecisionTreeClassifier\n",
    "from sklearn.naive_bayes import MultinomialNB\n",
    "from sklearn.ensemble import RandomForestClassifier, GradientBoostingClassifier, AdaBoostClassifier\n",
    "from sklearn.svm import LinearSVC\n",
    "\n",
    "from sklearn.metrics import precision_score\n",
    "from sklearn.metrics import recall_score\n",
    "from sklearn.metrics import f1_score\n",
    "from sklearn.metrics import classification_report, confusion_matrix, accuracy_score\n",
    "\n",
    "from nltk import TreebankWordTokenizer, SnowballStemmer\n",
    "from nltk.stem import WordNetLemmatizer\n",
    "from nltk.corpus import stopwords\n",
    "\n",
    "from sklearn.feature_extraction.text import CountVectorizer\n",
    "# from pandas.core.common import SettingWithCopyWarning\n",
    "from comet_ml import Experiment"
   ]
  },
  {
   "cell_type": "code",
   "execution_count": null,
   "id": "7169895d",
   "metadata": {},
   "outputs": [],
   "source": [
    "# Only run this cell if you need to install it\n",
    "pip install comet_ml\n",
    "pip install cleantext"
   ]
  },
  {
   "cell_type": "markdown",
   "id": "5e4de1c1",
   "metadata": {},
   "source": [
    "### Starting comet experiment"
   ]
  },
  {
   "cell_type": "code",
   "execution_count": null,
   "id": "8944676c",
   "metadata": {},
   "outputs": [],
   "source": [
    "experiment = Experiment(api_key=\"DgOUdi281ImcebtckQoquGSnl\",project_name=\"general\",workspace=\"bronwyn\",)"
   ]
  },
  {
   "cell_type": "markdown",
   "id": "41669775",
   "metadata": {},
   "source": [
    "## 3. Exploratory Data Analysis\n",
    "[Back to Table of Contents](#Table-of-Contents)"
   ]
  },
  {
   "cell_type": "markdown",
   "id": "39831b46",
   "metadata": {},
   "source": [
    "### Load data"
   ]
  },
  {
   "cell_type": "code",
   "execution_count": null,
   "id": "ca86340b",
   "metadata": {},
   "outputs": [],
   "source": [
    "# Display data\n",
    "data = pd.read_csv(\"train.csv\")\n",
    "data.head(3)"
   ]
  },
  {
   "cell_type": "code",
   "execution_count": null,
   "id": "074d7f11",
   "metadata": {},
   "outputs": [],
   "source": [
    "#see the min, max and mode(from dictionary) category of the sentiments\n",
    "data_sorted = data[[\"message\", \"sentiment\"]]\n",
    "\n",
    "dict_ = {}\n",
    "\n",
    "for i in data_sorted[\"sentiment\"]:\n",
    "    if i in dict_:\n",
    "        dict_[i] += 1\n",
    "    else:\n",
    "        dict_[i] = 1\n",
    "\n",
    "print(\"total number of sentiments:\", len(data_sorted))\n",
    "print(\"counts of the respective sentiments:\", dict_)"
   ]
  },
  {
   "cell_type": "code",
   "execution_count": null,
   "id": "741c520d",
   "metadata": {},
   "outputs": [],
   "source": [
    "#the skewness and kurtosis(lack of ourtliers) of the sentiments\n",
    "print(\"skewness: \", data_sorted[\"sentiment\"].skew())\n",
    "print(\"kurtosis: \",data_sorted[\"sentiment\"].kurtosis())"
   ]
  },
  {
   "cell_type": "code",
   "execution_count": null,
   "id": "baf3b899",
   "metadata": {},
   "outputs": [],
   "source": [
    "#the frequency distribution of the sentiments\n",
    "#Thibello\n",
    "sns.countplot(x = 'sentiment', data = data_sorted, palette=\"hls\")\n",
    "plt.title(\"Distribution of Sentiments\")"
   ]
  },
  {
   "cell_type": "code",
   "execution_count": null,
   "id": "5671e07a",
   "metadata": {},
   "outputs": [],
   "source": [
    "#counting the number of respective impurities\n",
    "\n",
    "punctuations = 0\n",
    "numbers = 0\n",
    "\n",
    "for i in data_sorted[\"message\"]:\n",
    "    for k in i.split():\n",
    "        if k in string.punctuation:\n",
    "            punctuations+=1\n",
    "        if k.isdigit():\n",
    "            numbers += 1\n",
    "print(\"punctuations present in the tweets:\", punctuations)\n",
    "print(\"numbers present in the tweets:\", numbers)\n"
   ]
  },
  {
   "cell_type": "markdown",
   "id": "f01f02b4",
   "metadata": {},
   "source": [
    "## 4. Pre-processing\n",
    "[Back to Table of Contents](#Table-of-Contents)"
   ]
  },
  {
   "cell_type": "markdown",
   "id": "088b1634",
   "metadata": {},
   "source": [
    "### Revise data "
   ]
  },
  {
   "cell_type": "code",
   "execution_count": null,
   "id": "d28136a2",
   "metadata": {
    "execution": {
     "iopub.execute_input": "2022-11-28T15:19:40.061702Z",
     "iopub.status.busy": "2022-11-28T15:19:40.061313Z",
     "iopub.status.idle": "2022-11-28T15:19:40.218017Z",
     "shell.execute_reply": "2022-11-28T15:19:40.216968Z"
    },
    "papermill": {
     "duration": 0.165336,
     "end_time": "2022-11-28T15:19:40.220589",
     "exception": false,
     "start_time": "2022-11-28T15:19:40.055253",
     "status": "completed"
    },
    "tags": []
   },
   "outputs": [],
   "source": [
    "#making the tweetid the index\n",
    "data = pd.read_csv(\"train.csv\", index_col = \"tweetid\")\n",
    "data.head(3)\n"
   ]
  },
  {
   "cell_type": "code",
   "execution_count": null,
   "id": "ffc0477f",
   "metadata": {
    "execution": {
     "iopub.execute_input": "2022-11-28T15:19:40.244946Z",
     "iopub.status.busy": "2022-11-28T15:19:40.243923Z",
     "iopub.status.idle": "2022-11-28T15:19:40.413307Z",
     "shell.execute_reply": "2022-11-28T15:19:40.412462Z"
    },
    "papermill": {
     "duration": 0.348007,
     "end_time": "2022-11-28T15:19:40.586043",
     "exception": false,
     "start_time": "2022-11-28T15:19:40.238036",
     "status": "completed"
    },
    "tags": []
   },
   "outputs": [],
   "source": [
    "#rearrange the columns for clarity\n",
    "data_sorted = data[[\"message\", \"sentiment\"]]\n",
    "data_sorted.head(3)"
   ]
  },
  {
   "cell_type": "markdown",
   "id": "f6760874",
   "metadata": {},
   "source": [
    "## Removing the Noise"
   ]
  },
  {
   "cell_type": "markdown",
   "id": "93ea83d1",
   "metadata": {},
   "source": [
    "### Lowercasing Data"
   ]
  },
  {
   "cell_type": "code",
   "execution_count": null,
   "id": "4840213f",
   "metadata": {},
   "outputs": [],
   "source": [
    "#make everything lower case\n",
    "'''\n",
    "Converting every letter into lowercase helps to understand better what the words \n",
    "state.\n",
    "'''\n",
    "data_sorted['message'] = data_sorted['message'].str.lower()\n",
    "data_sorted.head(20)"
   ]
  },
  {
   "cell_type": "code",
   "execution_count": null,
   "id": "3f12b1c8",
   "metadata": {},
   "outputs": [],
   "source": [
    "data_sorted.tail(20)"
   ]
  },
  {
   "cell_type": "markdown",
   "id": "d9794d89",
   "metadata": {},
   "source": [
    "### Removing Contractions"
   ]
  },
  {
   "cell_type": "code",
   "execution_count": null,
   "id": "b29cba22",
   "metadata": {},
   "outputs": [],
   "source": [
    "#expand all existing contractions\n",
    "\n",
    "def expand_contractions(tweet):\n",
    "    return \" \".join([contractions.fix(c) for c in tweet.split()])\n",
    "\n",
    "data_sorted[\"message\"] = data_sorted[\"message\"].apply(expand_contractions)\n",
    "data_sorted.head()"
   ]
  },
  {
   "cell_type": "markdown",
   "id": "d234109f",
   "metadata": {},
   "source": [
    "### Removing Web Urls"
   ]
  },
  {
   "cell_type": "code",
   "execution_count": null,
   "id": "ab8de161",
   "metadata": {},
   "outputs": [],
   "source": [
    "#remove web urls \n",
    "pattern_url = r'http[s]?://(?:[A-Za-z]|[0-9]|[$-_@.&+]|[!*\\(\\),]|(?:%[0-9A-Fa-f][0-9A-Fa-f]))+'\n",
    "subs_url = r'url-web'\n",
    "data_sorted['message'] = data_sorted['message'].replace(to_replace = pattern_url, value = subs_url, regex = True)\n",
    "data_sorted.iloc[0]['message']"
   ]
  },
  {
   "cell_type": "markdown",
   "id": "ba47e2d0",
   "metadata": {},
   "source": [
    "### Removing Punctuations\n",
    "\n",
    "Removing punctuation marks assists us to treat every word equally, \n",
    "E.g sweet! and sweet are the same without punctuation. "
   ]
  },
  {
   "cell_type": "code",
   "execution_count": null,
   "id": "1b2d4406",
   "metadata": {},
   "outputs": [],
   "source": [
    "#remove all punctuations\n",
    "\n",
    "def remove_punctuation(post):\n",
    "    return ''.join([l for l in post if l not in string.punctuation])\n",
    "\n",
    "data_sorted['message'] = data_sorted['message'].apply(remove_punctuation)\n",
    "data_sorted.head()"
   ]
  },
  {
   "cell_type": "code",
   "execution_count": null,
   "id": "0626fa73",
   "metadata": {},
   "outputs": [],
   "source": [
    "data_sorted.iloc[0]['message']"
   ]
  },
  {
   "cell_type": "markdown",
   "id": "d17848a5",
   "metadata": {},
   "source": [
    "### Removing Numbers"
   ]
  },
  {
   "cell_type": "markdown",
   "id": "3e0471bc",
   "metadata": {},
   "source": [
    "\"For example, when we are doing sentiment analysis then the number doesn’t hold any specific meaning to the data but if the task is to perform NER (Name Entity Recognition) or POS (Part of Speech tagging) then use the removing of number technique carefully.\""
   ]
  },
  {
   "cell_type": "code",
   "execution_count": null,
   "id": "00ee69ec",
   "metadata": {},
   "outputs": [],
   "source": [
    "def remove_digits(post):\n",
    "    return ''.join([i for i in post if not i.isdigit()])\n",
    "\n",
    "data_sorted['message'] = data_sorted['message'].apply(remove_digits)\n",
    "data_sorted.head()"
   ]
  },
  {
   "cell_type": "code",
   "execution_count": null,
   "id": "2656984d",
   "metadata": {},
   "outputs": [],
   "source": [
    "data_sorted.iloc[3]['message']"
   ]
  },
  {
   "cell_type": "code",
   "execution_count": null,
   "id": "dafa1a42",
   "metadata": {},
   "outputs": [],
   "source": [
    "len(data_sorted.iloc[3]['message'])"
   ]
  },
  {
   "cell_type": "markdown",
   "id": "9537150a",
   "metadata": {},
   "source": [
    "### Removing Extra Space"
   ]
  },
  {
   "cell_type": "markdown",
   "id": "fe0e2304",
   "metadata": {},
   "source": [
    "Removing expace could help reduce the memory usage "
   ]
  },
  {
   "cell_type": "code",
   "execution_count": null,
   "id": "add7dc9a",
   "metadata": {},
   "outputs": [],
   "source": [
    "def remove_extra_space(text):\n",
    "    return \" \".join(text.split())\n",
    "\n",
    "data_sorted['message'] = data_sorted['message'].apply(remove_extra_space)\n",
    "data_sorted.head()"
   ]
  },
  {
   "cell_type": "code",
   "execution_count": null,
   "id": "c8dc01bf",
   "metadata": {},
   "outputs": [],
   "source": [
    "data_sorted.iloc[3]['message']"
   ]
  },
  {
   "cell_type": "code",
   "execution_count": null,
   "id": "8de0a4e6",
   "metadata": {},
   "outputs": [],
   "source": [
    "len(data_sorted.iloc[3]['message']) "
   ]
  },
  {
   "cell_type": "markdown",
   "id": "bdbc075c",
   "metadata": {},
   "source": [
    "The decrease in the number of characters shows that extra space have been removed."
   ]
  },
  {
   "cell_type": "markdown",
   "id": "39ac4d91",
   "metadata": {},
   "source": [
    "### Tokenization"
   ]
  },
  {
   "cell_type": "code",
   "execution_count": null,
   "id": "e25fe7b4",
   "metadata": {},
   "outputs": [],
   "source": [
    "#tokenisation to treat each word with respect\n",
    "tokeniser = TreebankWordTokenizer()\n",
    "data_sorted['message'] = data_sorted['message'].apply(tokeniser.tokenize)\n",
    "\n",
    "data_sorted"
   ]
  },
  {
   "cell_type": "code",
   "execution_count": null,
   "id": "ebf97334",
   "metadata": {},
   "outputs": [],
   "source": [
    "data_sorted.iloc[0]['message']"
   ]
  },
  {
   "cell_type": "markdown",
   "id": "d334fffd",
   "metadata": {},
   "source": [
    "### Removing Stop Words"
   ]
  },
  {
   "cell_type": "code",
   "execution_count": null,
   "id": "616d2b3d",
   "metadata": {},
   "outputs": [],
   "source": [
    "#remove standard stop words, which are words of insignificance\n",
    "def remove_stop_words(tokens):    \n",
    "    return [t for t in tokens if t not in stopwords.words('english')]\n",
    "\n",
    "data_sorted['message'] = data_sorted['message'].apply(remove_stop_words)\n",
    "data_sorted"
   ]
  },
  {
   "cell_type": "code",
   "execution_count": null,
   "id": "debf0f98",
   "metadata": {},
   "outputs": [],
   "source": [
    "for i in data_sorted[\"message\"]:\n",
    "    print(i)"
   ]
  },
  {
   "cell_type": "markdown",
   "id": "a32615a8",
   "metadata": {},
   "source": [
    "### Removing Emojis"
   ]
  },
  {
   "cell_type": "code",
   "execution_count": null,
   "id": "6be3f733",
   "metadata": {},
   "outputs": [],
   "source": [
    "from cleantext import clean"
   ]
  },
  {
   "cell_type": "code",
   "execution_count": null,
   "id": "a292157c",
   "metadata": {},
   "outputs": [],
   "source": [
    "def remove_emoji(data): \n",
    "    for i in data:\n",
    "        return clean(data, no_emoji=True)\n",
    "\n",
    "data_sorted['message'] = data_sorted['message'].apply(remove_emoji)\n",
    "data_sorted"
   ]
  },
  {
   "cell_type": "code",
   "execution_count": null,
   "id": "688df938",
   "metadata": {},
   "outputs": [],
   "source": [
    "for i in data_sorted[\"message\"]:\n",
    "    print(i)"
   ]
  },
  {
   "cell_type": "markdown",
   "id": "fdab42aa",
   "metadata": {},
   "source": [
    "### Removing Punctuations once more"
   ]
  },
  {
   "cell_type": "code",
   "execution_count": null,
   "id": "003e39bd",
   "metadata": {},
   "outputs": [],
   "source": [
    "#remove all punctuations\n",
    "\n",
    "def remove_punctuation(post):\n",
    "    return ''.join([l for l in post if l not in string.punctuation])\n",
    "\n",
    "data_sorted['message'] = data_sorted['message'].apply(remove_punctuation)\n",
    "data_sorted.head()"
   ]
  },
  {
   "cell_type": "code",
   "execution_count": null,
   "id": "98e1b772",
   "metadata": {},
   "outputs": [],
   "source": [
    "for i in data_sorted[\"message\"]:\n",
    "    print(i)"
   ]
  },
  {
   "cell_type": "markdown",
   "id": "3b83059b",
   "metadata": {},
   "source": [
    "### Tokenization_2"
   ]
  },
  {
   "cell_type": "code",
   "execution_count": null,
   "id": "98472116",
   "metadata": {},
   "outputs": [],
   "source": [
    "#tokenisation to treat each word with respect\n",
    "tokeniser = TreebankWordTokenizer()\n",
    "data_sorted['message'] = data_sorted['message'].apply(tokeniser.tokenize)\n",
    "\n",
    "data_sorted"
   ]
  },
  {
   "cell_type": "markdown",
   "id": "a934c345",
   "metadata": {},
   "source": [
    "### Stemmer"
   ]
  },
  {
   "cell_type": "code",
   "execution_count": null,
   "id": "cc50910c",
   "metadata": {
    "execution": {
     "iopub.execute_input": "2022-11-28T15:19:41.570671Z",
     "iopub.status.busy": "2022-11-28T15:19:41.570247Z",
     "iopub.status.idle": "2022-11-28T15:19:41.856920Z",
     "shell.execute_reply": "2022-11-28T15:19:41.855719Z"
    },
    "papermill": {
     "duration": 0.404003,
     "end_time": "2022-11-28T15:19:41.863354",
     "exception": false,
     "start_time": "2022-11-28T15:19:41.459351",
     "status": "completed"
    },
    "tags": []
   },
   "outputs": [],
   "source": [
    "#stem to transform to the root word, and have more common words\n",
    "stemmer = SnowballStemmer('english')\n",
    "\n",
    "def mbti_stemmer(words, stemmer):\n",
    "    return [stemmer.stem(word) for word in words]\n",
    "\n",
    "data_sorted['message'] = data_sorted['message'].apply(mbti_stemmer, args=(stemmer, ))\n",
    "data_sorted"
   ]
  },
  {
   "cell_type": "code",
   "execution_count": null,
   "id": "95b56931",
   "metadata": {},
   "outputs": [],
   "source": [
    "for i in data_sorted[\"message\"]:\n",
    "    print(i)"
   ]
  },
  {
   "cell_type": "markdown",
   "id": "62c4996b",
   "metadata": {
    "execution": {
     "iopub.execute_input": "2022-11-28T15:19:43.856279Z",
     "iopub.status.busy": "2022-11-28T15:19:43.855687Z",
     "iopub.status.idle": "2022-11-28T15:19:47.640001Z",
     "shell.execute_reply": "2022-11-28T15:19:47.638509Z"
    },
    "papermill": {
     "duration": 3.901759,
     "end_time": "2022-11-28T15:19:47.642397",
     "exception": false,
     "start_time": "2022-11-28T15:19:43.740638",
     "status": "completed"
    },
    "tags": []
   },
   "source": [
    "### Lemmatization "
   ]
  },
  {
   "cell_type": "code",
   "execution_count": null,
   "id": "e495cb57",
   "metadata": {
    "execution": {
     "iopub.execute_input": "2022-11-28T15:19:47.858966Z",
     "iopub.status.busy": "2022-11-28T15:19:47.858543Z",
     "iopub.status.idle": "2022-11-28T15:19:51.096017Z",
     "shell.execute_reply": "2022-11-28T15:19:51.094836Z"
    },
    "papermill": {
     "duration": 3.348943,
     "end_time": "2022-11-28T15:19:51.098635",
     "exception": false,
     "start_time": "2022-11-28T15:19:47.749692",
     "status": "completed"
    },
    "tags": []
   },
   "outputs": [],
   "source": [
    "#lemmatization to lessen unique words even more by changing tenses of words and plurals\n",
    "lemmatizer = WordNetLemmatizer()\n",
    "\n",
    "def mbti_lemma(words, lemmatizer):\n",
    "    return [lemmatizer.lemmatize(word) for word in words]\n",
    "\n",
    "data_sorted['message'] = data_sorted['message'].apply(mbti_lemma, args=(lemmatizer, ))\n",
    "\n",
    "data_sorted"
   ]
  },
  {
   "cell_type": "code",
   "execution_count": null,
   "id": "77d87308",
   "metadata": {},
   "outputs": [],
   "source": [
    "for i in data_sorted[\"message\"]:\n",
    "    print(i)"
   ]
  },
  {
   "cell_type": "markdown",
   "id": "64ff9071",
   "metadata": {},
   "source": [
    "## 5. Feature Engineering\n",
    "[Back to Table of Contents](#Table-of-Contents)"
   ]
  },
  {
   "cell_type": "markdown",
   "id": "a0b67a33",
   "metadata": {},
   "source": [
    "### Bag of Words"
   ]
  },
  {
   "cell_type": "code",
   "execution_count": null,
   "id": "e6b01f09",
   "metadata": {},
   "outputs": [],
   "source": [
    "def bag_of_words_count(words):\n",
    "    word_dict = {}\n",
    "    for word in words:\n",
    "        if word in word_dict.keys():\n",
    "            word_dict[word] += 1\n",
    "        else:\n",
    "            word_dict[word] = 1\n",
    "    return word_dict"
   ]
  },
  {
   "cell_type": "markdown",
   "id": "3a9ae4fa",
   "metadata": {},
   "source": [
    "##### creating bag_of_words column in the data frame"
   ]
  },
  {
   "cell_type": "code",
   "execution_count": null,
   "id": "ef990807",
   "metadata": {},
   "outputs": [],
   "source": [
    "\n",
    "# bow means bag_of_words\n",
    "list_of_bow = list()\n",
    "\n",
    "for row in data_sorted['message']:\n",
    "    list_of_bow.append(bag_of_words_count(row))\n",
    "    \n",
    "    \n",
    "data_sorted['bag of words'] = list_of_bow\n"
   ]
  },
  {
   "cell_type": "code",
   "execution_count": null,
   "id": "a4633bcb",
   "metadata": {},
   "outputs": [],
   "source": [
    "data_sorted"
   ]
  },
  {
   "cell_type": "markdown",
   "id": "3d913bb0",
   "metadata": {},
   "source": [
    "### N-grams"
   ]
  },
  {
   "cell_type": "code",
   "execution_count": null,
   "id": "0eabc762",
   "metadata": {},
   "outputs": [],
   "source": [
    "from nltk.util import ngrams"
   ]
  },
  {
   "cell_type": "markdown",
   "id": "45ad33ea",
   "metadata": {},
   "source": [
    "##### Bi-grams"
   ]
  },
  {
   "cell_type": "code",
   "execution_count": null,
   "id": "9ac549ac",
   "metadata": {},
   "outputs": [],
   "source": [
    "\n",
    "def bi_grams(words):\n",
    "    s = []\n",
    "    for n in range(0,2):\n",
    "        for ngram in ngrams(words, n):\n",
    "            s.append(' '.join(str(i) for i in ngram))\n",
    "    return s"
   ]
  },
  {
   "cell_type": "markdown",
   "id": "986eb700",
   "metadata": {},
   "source": [
    "##### Creating Bi-grams and converting them to strings"
   ]
  },
  {
   "cell_type": "code",
   "execution_count": null,
   "id": "4b338ac4",
   "metadata": {},
   "outputs": [],
   "source": [
    "list_of_bi_grams = []\n",
    "\n",
    "\n",
    "for row in data_sorted['message']:\n",
    "    zip_gram =  ngrams(row,2)\n",
    "#coverting zip object to list of list containing bi-grams\n",
    "    list_gram = [list(i) for i in zip_gram]\n",
    "\n",
    "#Joining adjacent words\n",
    "    bi_grams = [[' '.join(j) for j in i] for i in list_gram]\n",
    "    \n",
    "    bi_grams_str_list = []\n",
    "    \n",
    "#Converting Bi-grams from list to string    \n",
    "    for item in bi_grams:\n",
    "        tmp = ''\n",
    "        tmp = '  '.join(item)\n",
    "        bi_grams_str_list.append(tmp)\n",
    "    \n",
    "    \n",
    "#Adding a row off all Bi-grams    \n",
    "    list_of_bi_grams.append(bi_grams_str_list)\n",
    "list_of_bi_grams\n",
    "\n",
    "\n",
    "    "
   ]
  },
  {
   "cell_type": "code",
   "execution_count": null,
   "id": "beecbf46",
   "metadata": {},
   "outputs": [],
   "source": [
    "data_sorted['bi_grams'] = list_of_bi_grams"
   ]
  },
  {
   "cell_type": "code",
   "execution_count": null,
   "id": "c2018204",
   "metadata": {},
   "outputs": [],
   "source": [
    "data_sorted"
   ]
  },
  {
   "cell_type": "markdown",
   "id": "cd1e5cc3",
   "metadata": {},
   "source": [
    "### Word Cloud for the train data"
   ]
  },
  {
   "cell_type": "code",
   "execution_count": null,
   "id": "c726c78e",
   "metadata": {},
   "outputs": [],
   "source": [
    "from wordcloud import WordCloud \n",
    "allwords = ' '.join( [tweets for tweets in train_data['message']])\n",
    "wordCloud = WordCloud(width=800, height=400,random_state=42).generate(allwords)\n",
    "plt.figure( figsize=(15,10) )\n",
    "plt.imshow(wordCloud)"
   ]
  },
  {
   "cell_type": "markdown",
   "id": "3218e537",
   "metadata": {},
   "source": [
    "### putting in the category column for better analysis"
   ]
  },
  {
   "cell_type": "code",
   "execution_count": null,
   "id": "d4b9575c",
   "metadata": {},
   "outputs": [],
   "source": [
    "#Function to lable our Sentiments\n",
    "def getAnalysis(score):\n",
    "    \"\"\"\n",
    "    Classifies tweets as News, Pro, Neutral, or Anti based on their sentiment number\n",
    "    \n",
    "    Parameters:\n",
    "    score: an integer (int64)\n",
    "    \n",
    "    returns:\n",
    "    The word corresponding to the integer\n",
    "    \"\"\"\n",
    "    if score == 2:\n",
    "        return 'News'\n",
    "    elif score == 1:\n",
    "        return 'Pro'\n",
    "    elif score == 0:\n",
    "        return 'Neutral'\n",
    "    else:\n",
    "        return 'Anti'\n",
    "train_data['Analysis'] = train_data['sentiment'].apply(getAnalysis) # Adding an Analysis column to the df dataframe\n"
   ]
  },
  {
   "cell_type": "code",
   "execution_count": null,
   "id": "0a189bbb",
   "metadata": {},
   "outputs": [],
   "source": [
    "#Show the counts\n",
    "train_data['Analysis'].value_counts()\n",
    "\n",
    "#plot and visualize the counts\n",
    "plt.title('Sentiment Analysis')\n",
    "plt.xlabel('Sentiments')\n",
    "plt.ylabel('Counts')\n",
    "train_data['Analysis'].value_counts().plot(kind='bar')\n",
    "plt.show()"
   ]
  },
  {
   "cell_type": "code",
   "execution_count": null,
   "id": "21b60651",
   "metadata": {},
   "outputs": [],
   "source": [
    "# Extracting the length of each entry under the message column in the train data\n",
    "train_data['msg_len'] = train_data['message'].apply(lambda x: len(x)) \n",
    "from matplotlib import pyplot\n",
    "%matplotlib inline\n",
    "bins = np.linspace(0, 175,10)\n",
    "pyplot.hist(train_data[train_data['Analysis'] == 'News']['msg_len'],bins, label = 'News')\n",
    "pyplot.hist(train_data[train_data['Analysis'] == 'Pro']['msg_len'],bins, label = 'Pro')\n",
    "pyplot.hist(train_data[train_data['Analysis'] == 'Neutral']['msg_len'],bins,label = 'Neutral')\n",
    "pyplot.hist(train_data[train_data['Analysis'] == 'Anti']['msg_len'],bins, label = 'Anti')\n",
    "pyplot.title('Length of messages')\n",
    "pyplot.legend(loc='upper right')\n",
    "pyplot.xlabel('length of messages')\n",
    "pyplot.ylabel('Number of messages')\n",
    "pyplot.show()"
   ]
  },
  {
   "cell_type": "markdown",
   "id": "ff68b952",
   "metadata": {},
   "source": []
  },
  {
   "cell_type": "markdown",
   "id": "abe1ef3d",
   "metadata": {},
   "source": [
    "## 6. Modelling\n",
    "[Back to Table of Contents](#Table-of-Contents)"
   ]
  },
  {
   "cell_type": "code",
   "execution_count": 3,
   "id": "eac3f033",
   "metadata": {},
   "outputs": [],
   "source": [
    "#splitting data into features and label\n",
    "X = pd.read_csv(\"train.csv\", index_col = \"tweetid\")[\"message\"]\n",
    "y = pd.read_csv(\"train.csv\", index_col = \"tweetid\")[\"sentiment\"]"
   ]
  },
  {
   "cell_type": "code",
   "execution_count": 4,
   "id": "3c033188",
   "metadata": {},
   "outputs": [],
   "source": [
    "#feature engineering/extraction\n",
    "from sklearn.feature_extraction.text import TfidfVectorizer\n",
    "tfid_vectorizer = TfidfVectorizer()\n",
    "X = tfid_vectorizer.fit_transform(X)"
   ]
  },
  {
   "cell_type": "code",
   "execution_count": 5,
   "id": "e48b371a",
   "metadata": {},
   "outputs": [],
   "source": [
    "#splitting data into train and test\n",
    "from sklearn.model_selection import train_test_split\n",
    "X_train, X_test, y_train, y_test = train_test_split(X, y, test_size=0.2, random_state=42)"
   ]
  },
  {
   "cell_type": "code",
   "execution_count": 10,
   "id": "9fe685a2",
   "metadata": {},
   "outputs": [],
   "source": [
    "#model selection and initialization\n",
    "names = ['Logistic Regression', 'Nearest Neighbors',\n",
    "         'Linear SVM', 'RBF SVM',\n",
    "         'Decision Tree', 'Random Forest',  'AdaBoost']\n",
    "\n",
    "classifiers = [\n",
    "    LogisticRegression(),\n",
    "    KNeighborsClassifier(3),\n",
    "    SVC(kernel=\"linear\", C=0.025),\n",
    "    SVC(gamma=2, C=1),\n",
    "    DecisionTreeClassifier(max_depth=5),\n",
    "    RandomForestClassifier(max_depth=5, n_estimators=10, max_features=1),\n",
    "    AdaBoostClassifier()\n",
    "]"
   ]
  },
  {
   "cell_type": "code",
   "execution_count": 16,
   "id": "bfcc7d03",
   "metadata": {},
   "outputs": [
    {
     "name": "stdout",
     "output_type": "stream",
     "text": [
      "Fitting Logistic Regression model...\n",
      "making predictings...\n",
      "calculating scores...\n",
      "Fitting Nearest Neighbors model...\n",
      "making predictings...\n",
      "calculating scores...\n",
      "Fitting Linear SVM model...\n",
      "making predictings...\n",
      "calculating scores...\n",
      "Fitting RBF SVM model...\n",
      "making predictings...\n",
      "calculating scores...\n",
      "Fitting Decision Tree model...\n",
      "making predictings...\n",
      "calculating scores...\n",
      "Fitting Random Forest model...\n",
      "making predictings...\n",
      "calculating scores...\n",
      "Fitting AdaBoost model...\n",
      "making predictings...\n",
      "calculating scores...\n"
     ]
    }
   ],
   "source": [
    "#making predictions\n",
    "import warnings\n",
    "warnings.filterwarnings(\"ignore\")\n",
    "\n",
    "results = []\n",
    "\n",
    "models = {}\n",
    "confusion = {}\n",
    "class_report = {}\n",
    "\n",
    "\n",
    "for name, clf in zip(names, classifiers):\n",
    "    print ('Fitting {:s} model...'.format(name))\n",
    "    run_time = %timeit -q -o clf.fit(X_train, y_train)\n",
    "\n",
    "    print ('making predictings...')\n",
    "    y_pred = clf.predict(X_train)\n",
    "    y_pred_test = clf.predict(X_test)\n",
    "\n",
    "    print ('calculating scores...')\n",
    "    accuracy  = accuracy_score(y_train, y_pred)\n",
    "    precision = precision_score(y_train, y_pred, average='macro')\n",
    "    recall    = recall_score(y_train, y_pred, average='macro')\n",
    "\n",
    "    f1        = f1_score(y_train, y_pred, average='macro')\n",
    "    f1_test   = f1_score(y_test, y_pred_test, average='macro')\n",
    "\n",
    "    # Save the results to dictionaries\n",
    "    models[name] = clf\n",
    "    confusion[name] = confusion_matrix(y_train, y_pred)\n",
    "    class_report[name] = classification_report(y_train, y_pred)\n",
    "\n",
    "    results.append([name, accuracy, precision, recall, f1, f1_test, run_time.best])\n",
    "\n",
    "\n",
    "results = pd.DataFrame(results, columns=['Classifier', 'Accuracy', 'Precision', 'Recall', 'F1 Train', 'F1 Test', 'Train Time'])\n",
    "results.set_index('Classifier', inplace= True)\n"
   ]
  },
  {
   "cell_type": "markdown",
   "id": "4e0e4c71",
   "metadata": {},
   "source": [
    "### Model Performance"
   ]
  },
  {
   "cell_type": "code",
   "execution_count": 17,
   "id": "718732cc",
   "metadata": {},
   "outputs": [
    {
     "data": {
      "text/html": [
       "<div>\n",
       "<style scoped>\n",
       "    .dataframe tbody tr th:only-of-type {\n",
       "        vertical-align: middle;\n",
       "    }\n",
       "\n",
       "    .dataframe tbody tr th {\n",
       "        vertical-align: top;\n",
       "    }\n",
       "\n",
       "    .dataframe thead th {\n",
       "        text-align: right;\n",
       "    }\n",
       "</style>\n",
       "<table border=\"1\" class=\"dataframe\">\n",
       "  <thead>\n",
       "    <tr style=\"text-align: right;\">\n",
       "      <th></th>\n",
       "      <th>Accuracy</th>\n",
       "      <th>Precision</th>\n",
       "      <th>Recall</th>\n",
       "      <th>F1 Train</th>\n",
       "      <th>F1 Test</th>\n",
       "      <th>Train Time</th>\n",
       "    </tr>\n",
       "    <tr>\n",
       "      <th>Classifier</th>\n",
       "      <th></th>\n",
       "      <th></th>\n",
       "      <th></th>\n",
       "      <th></th>\n",
       "      <th></th>\n",
       "      <th></th>\n",
       "    </tr>\n",
       "  </thead>\n",
       "  <tbody>\n",
       "    <tr>\n",
       "      <th>RBF SVM</th>\n",
       "      <td>0.997313</td>\n",
       "      <td>0.998177</td>\n",
       "      <td>0.995396</td>\n",
       "      <td>0.996779</td>\n",
       "      <td>0.493685</td>\n",
       "      <td>122.989893</td>\n",
       "    </tr>\n",
       "    <tr>\n",
       "      <th>Logistic Regression</th>\n",
       "      <td>0.864085</td>\n",
       "      <td>0.906353</td>\n",
       "      <td>0.745004</td>\n",
       "      <td>0.796442</td>\n",
       "      <td>0.613175</td>\n",
       "      <td>3.845944</td>\n",
       "    </tr>\n",
       "    <tr>\n",
       "      <th>Nearest Neighbors</th>\n",
       "      <td>0.813591</td>\n",
       "      <td>0.756959</td>\n",
       "      <td>0.768024</td>\n",
       "      <td>0.760940</td>\n",
       "      <td>0.570438</td>\n",
       "      <td>0.003032</td>\n",
       "    </tr>\n",
       "    <tr>\n",
       "      <th>AdaBoost</th>\n",
       "      <td>0.648044</td>\n",
       "      <td>0.611720</td>\n",
       "      <td>0.498738</td>\n",
       "      <td>0.522683</td>\n",
       "      <td>0.512082</td>\n",
       "      <td>44.453100</td>\n",
       "    </tr>\n",
       "    <tr>\n",
       "      <th>Decision Tree</th>\n",
       "      <td>0.609561</td>\n",
       "      <td>0.675869</td>\n",
       "      <td>0.399907</td>\n",
       "      <td>0.418678</td>\n",
       "      <td>0.400835</td>\n",
       "      <td>1.262356</td>\n",
       "    </tr>\n",
       "    <tr>\n",
       "      <th>Linear SVM</th>\n",
       "      <td>0.536231</td>\n",
       "      <td>0.383957</td>\n",
       "      <td>0.250937</td>\n",
       "      <td>0.176310</td>\n",
       "      <td>0.179875</td>\n",
       "      <td>60.953367</td>\n",
       "    </tr>\n",
       "    <tr>\n",
       "      <th>Random Forest</th>\n",
       "      <td>0.535362</td>\n",
       "      <td>0.133840</td>\n",
       "      <td>0.250000</td>\n",
       "      <td>0.174344</td>\n",
       "      <td>0.178390</td>\n",
       "      <td>0.024269</td>\n",
       "    </tr>\n",
       "  </tbody>\n",
       "</table>\n",
       "</div>"
      ],
      "text/plain": [
       "                     Accuracy  Precision    Recall  F1 Train   F1 Test  \\\n",
       "Classifier                                                               \n",
       "RBF SVM              0.997313   0.998177  0.995396  0.996779  0.493685   \n",
       "Logistic Regression  0.864085   0.906353  0.745004  0.796442  0.613175   \n",
       "Nearest Neighbors    0.813591   0.756959  0.768024  0.760940  0.570438   \n",
       "AdaBoost             0.648044   0.611720  0.498738  0.522683  0.512082   \n",
       "Decision Tree        0.609561   0.675869  0.399907  0.418678  0.400835   \n",
       "Linear SVM           0.536231   0.383957  0.250937  0.176310  0.179875   \n",
       "Random Forest        0.535362   0.133840  0.250000  0.174344  0.178390   \n",
       "\n",
       "                     Train Time  \n",
       "Classifier                       \n",
       "RBF SVM              122.989893  \n",
       "Logistic Regression    3.845944  \n",
       "Nearest Neighbors      0.003032  \n",
       "AdaBoost              44.453100  \n",
       "Decision Tree          1.262356  \n",
       "Linear SVM            60.953367  \n",
       "Random Forest          0.024269  "
      ]
     },
     "execution_count": 17,
     "metadata": {},
     "output_type": "execute_result"
    }
   ],
   "source": [
    "#getting the model performance\n",
    "results.sort_values('F1 Train', ascending=False)"
   ]
  },
  {
   "cell_type": "code",
   "execution_count": 18,
   "id": "664c6967",
   "metadata": {},
   "outputs": [
    {
     "data": {
      "text/plain": [
       "<AxesSubplot:xlabel='Classifier'>"
      ]
     },
     "execution_count": 18,
     "metadata": {},
     "output_type": "execute_result"
    },
    {
     "data": {
      "image/png": "[encoded data removed]",
      "text/plain": [
       "<Figure size 720x360 with 2 Axes>"
      ]
     },
     "metadata": {
      "needs_background": "light"
     },
     "output_type": "display_data"
    }
   ],
   "source": [
    "#visualizing the model performances for comparison\n",
    "fig, ax = plt.subplots(1, 2, figsize=(10, 5))\n",
    "results.sort_values('Accuracy', ascending=False, inplace=True)\n",
    "results.plot(y=['Accuracy'], kind='bar', ax=ax[0], xlim=[0,1.1], ylim=[0.50,1.1])\n",
    "results.plot(y='F1 Test', kind='bar', ax=ax[1])\n"
   ]
  },
  {
   "cell_type": "code",
   "execution_count": null,
   "id": "56bc9ca9",
   "metadata": {},
   "outputs": [],
   "source": [
    "#choosing the logistic Regression\n",
    "model_lg = models['Logistic Regression']\n",
    "X_test =  pd.read_csv(\"test_with_no_labels.csv\")[\"message\"]\n",
    "v_test = tfid_vectorizer.transform(X_test)\n",
    "# Making predictions on the test data and adding a sentiment column \n",
    "test_data['sentiment'] = model_lg.predict(v_test)\n",
    "\n",
    "#creating an output csv for submission\n",
    "test_data[['tweetid','sentiment']].to_csv('logistic.csv', index=False)"
   ]
  },
  {
   "cell_type": "code",
   "execution_count": null,
   "id": "506273cf",
   "metadata": {},
   "outputs": [],
   "source": [
    "# this section must come underneath the modelling\n",
    "# save model to pickle \n",
    "'''\"\"\n",
    "model_save_path = \"mlr_model.pkl\"\n",
    "with open(model_save_path,'wb') as file:\n",
    "    pickle.dump(model, file)\n",
    "'''"
   ]
  },
  {
   "cell_type": "markdown",
   "id": "55604b9f",
   "metadata": {},
   "source": [
    "#### Stopping the comet experiment"
   ]
  },
  {
   "cell_type": "code",
   "execution_count": null,
   "id": "3770a74f",
   "metadata": {},
   "outputs": [],
   "source": [
    "experiment.end()"
   ]
  },
  {
   "cell_type": "markdown",
   "id": "a9ebc33f",
   "metadata": {},
   "source": [
    "## 7. Conclusion\n",
    "[Back to Table of Contents](#Table-of-Contents)"
   ]
  },
  {
   "cell_type": "code",
   "execution_count": null,
   "id": "93e7ed41",
   "metadata": {},
   "outputs": [],
   "source": []
  }
 ],
 "metadata": {
  "kernelspec": {
   "display_name": "Python 3 (ipykernel)",
   "language": "python",
   "name": "python3"
  },
  "language_info": {
   "codemirror_mode": {
    "name": "ipython",
    "version": 3
   },
   "file_extension": ".py",
   "mimetype": "text/x-python",
   "name": "python",
   "nbconvert_exporter": "python",
   "pygments_lexer": "ipython3",
   "version": "3.9.12"
  },
  "papermill": {
   "default_parameters": {},
   "duration": 64.18422,
   "end_time": "2022-11-28T15:20:33.254982",
   "environment_variables": {},
   "exception": null,
   "input_path": "__notebook__.ipynb",
   "output_path": "__notebook__.ipynb",
   "parameters": {},
   "start_time": "2022-11-28T15:19:29.070762",
   "version": "2.3.4"
  },
  "vscode": {
   "interpreter": {
    "hash": "688cbbec7a053cd5a9d74b7ca400d144792d3a4aae4971fffa547d81f8cb8b6e"
   }
  }
 },
 "nbformat": 4,
 "nbformat_minor": 5
}
