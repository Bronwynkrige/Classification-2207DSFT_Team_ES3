{
 "cells": [
  {
   "cell_type": "markdown",
   "id": "eb630f8f",
   "metadata": {
    "papermill": {
     "duration": 0.005371,
     "end_time": "2022-11-28T15:19:37.665439",
     "exception": false,
     "start_time": "2022-11-28T15:19:37.660068",
     "status": "completed"
    },
    "tags": []
   },
   "source": [
    "# Cleaning some data\n",
    "## Getting our hands dirty!! :)"
   ]
  },
  {
   "cell_type": "code",
   "execution_count": null,
   "id": "085b167c",
   "metadata": {
    "execution": {
     "iopub.execute_input": "2022-11-28T15:19:37.676891Z",
     "iopub.status.busy": "2022-11-28T15:19:37.675944Z",
     "iopub.status.idle": "2022-11-28T15:19:40.037958Z",
     "shell.execute_reply": "2022-11-28T15:19:40.036606Z"
    },
    "papermill": {
     "duration": 2.371747,
     "end_time": "2022-11-28T15:19:40.041545",
     "exception": false,
     "start_time": "2022-11-28T15:19:37.669798",
     "status": "completed"
    },
    "tags": []
   },
   "outputs": [],
   "source": [
    "import nltk\n",
    "import string\n",
    "from sklearn.feature_extraction.text import CountVectorizer\n",
    "from nltk import TreebankWordTokenizer, SnowballStemmer\n",
    "from nltk.corpus import stopwords\n",
    "from sklearn.feature_extraction.text import CountVectorizer\n",
    "from nltk.stem import WordNetLemmatizer\n",
    "nltk.download('omw-1.4')\n",
    "import seaborn as sns\n",
    "import matplotlib.pyplot as plt\n",
    "import numpy as np\n",
    "import pandas as pd\n",
    "import re\n",
    "import string\n",
    "import warnings\n",
    "from pandas.core.common import SettingWithCopyWarning"
   ]
  },
  {
   "cell_type": "markdown",
   "id": "2bcb019f",
   "metadata": {
    "papermill": {
     "duration": 0.004297,
     "end_time": "2022-11-28T15:19:40.050661",
     "exception": false,
     "start_time": "2022-11-28T15:19:40.046364",
     "status": "completed"
    },
    "tags": []
   },
   "source": [
    "### Collect some data"
   ]
  },
  {
   "cell_type": "code",
   "execution_count": null,
   "id": "d28136a2",
   "metadata": {
    "execution": {
     "iopub.execute_input": "2022-11-28T15:19:40.061702Z",
     "iopub.status.busy": "2022-11-28T15:19:40.061313Z",
     "iopub.status.idle": "2022-11-28T15:19:40.218017Z",
     "shell.execute_reply": "2022-11-28T15:19:40.216968Z"
    },
    "papermill": {
     "duration": 0.165336,
     "end_time": "2022-11-28T15:19:40.220589",
     "exception": false,
     "start_time": "2022-11-28T15:19:40.055253",
     "status": "completed"
    },
    "tags": []
   },
   "outputs": [],
   "source": [
    "data = pd.read_csv(\"train.csv\", index_col = \"tweetid\")\n",
    "data.head()\n",
    "#change index to tweetid\n",
    "#g = pd.read_csv(\"test_with_no_labels.csv\")\n",
    "#g.head()"
   ]
  },
  {
   "cell_type": "markdown",
   "id": "717b3eb7",
   "metadata": {
    "papermill": {
     "duration": 0.004815,
     "end_time": "2022-11-28T15:19:40.230247",
     "exception": false,
     "start_time": "2022-11-28T15:19:40.225432",
     "status": "completed"
    },
    "tags": []
   },
   "source": [
    "## let the washing begin!!"
   ]
  },
  {
   "cell_type": "code",
   "execution_count": null,
   "id": "ffc0477f",
   "metadata": {
    "execution": {
     "iopub.execute_input": "2022-11-28T15:19:40.244946Z",
     "iopub.status.busy": "2022-11-28T15:19:40.243923Z",
     "iopub.status.idle": "2022-11-28T15:19:40.413307Z",
     "shell.execute_reply": "2022-11-28T15:19:40.412462Z"
    },
    "papermill": {
     "duration": 0.348007,
     "end_time": "2022-11-28T15:19:40.586043",
     "exception": false,
     "start_time": "2022-11-28T15:19:40.238036",
     "status": "completed"
    },
    "tags": []
   },
   "outputs": [],
   "source": [
    "#rearrange the columns for clarity\n",
    "data_sorted = data[[\"message\", \"sentiment\"]]\n",
    "data_sorted.head()\n",
    "\n"
   ]
  },
  {
   "cell_type": "code",
   "execution_count": null,
   "id": "38b5485c",
   "metadata": {
    "execution": {
     "iopub.execute_input": "2022-11-28T15:19:40.711854Z",
     "iopub.status.busy": "2022-11-28T15:19:40.711456Z",
     "iopub.status.idle": "2022-11-28T15:19:40.925598Z",
     "shell.execute_reply": "2022-11-28T15:19:40.924077Z"
    },
    "papermill": {
     "duration": 0.389452,
     "end_time": "2022-11-28T15:19:41.042146",
     "exception": false,
     "start_time": "2022-11-28T15:19:40.652694",
     "status": "completed"
    },
    "tags": []
   },
   "outputs": [],
   "source": [
    "#remove web urls \n",
    "pattern_url = r'http[s]?://(?:[A-Za-z]|[0-9]|[$-_@.&+]|[!*\\(\\),]|(?:%[0-9A-Fa-f][0-9A-Fa-f]))+'\n",
    "subs_url = r'url-web'\n",
    "data_sorted['message'] = data_sorted['message'].replace(to_replace = pattern_url, value = subs_url, regex = True)\n",
    "\n"
   ]
  },
  {
   "cell_type": "code",
   "execution_count": null,
   "id": "6353998f",
   "metadata": {
    "execution": {
     "iopub.execute_input": "2022-11-28T15:19:41.288625Z",
     "iopub.status.busy": "2022-11-28T15:19:41.288221Z",
     "iopub.status.idle": "2022-11-28T15:19:41.324249Z",
     "shell.execute_reply": "2022-11-28T15:19:41.323103Z"
    },
    "papermill": {
     "duration": 0.152848,
     "end_time": "2022-11-28T15:19:41.326941",
     "exception": false,
     "start_time": "2022-11-28T15:19:41.174093",
     "status": "completed"
    },
    "tags": []
   },
   "outputs": [],
   "source": [
    "#make everything lower case\n",
    "data_sorted['message'] = data_sorted['message'].str.lower()\n",
    "\n",
    "data_sorted"
   ]
  },
  {
   "cell_type": "code",
   "execution_count": null,
   "id": "cc50910c",
   "metadata": {
    "execution": {
     "iopub.execute_input": "2022-11-28T15:19:41.570671Z",
     "iopub.status.busy": "2022-11-28T15:19:41.570247Z",
     "iopub.status.idle": "2022-11-28T15:19:41.856920Z",
     "shell.execute_reply": "2022-11-28T15:19:41.855719Z"
    },
    "papermill": {
     "duration": 0.404003,
     "end_time": "2022-11-28T15:19:41.863354",
     "exception": false,
     "start_time": "2022-11-28T15:19:41.459351",
     "status": "completed"
    },
    "tags": []
   },
   "outputs": [],
   "source": [
    "#remove all punctuations\n",
    "\n",
    "def remove_punctuation(post):\n",
    "    return ''.join([l for l in post if l not in string.punctuation])\n",
    "\n",
    "data_sorted['message'] = data_sorted['message'].apply(remove_punctuation)\n",
    "data_sorted"
   ]
  },
  {
   "cell_type": "code",
   "execution_count": null,
   "id": "f04513ac",
   "metadata": {
    "execution": {
     "iopub.execute_input": "2022-11-28T15:19:42.094079Z",
     "iopub.status.busy": "2022-11-28T15:19:42.093182Z",
     "iopub.status.idle": "2022-11-28T15:19:43.627123Z",
     "shell.execute_reply": "2022-11-28T15:19:43.625838Z"
    },
    "papermill": {
     "duration": 1.648704,
     "end_time": "2022-11-28T15:19:43.629784",
     "exception": false,
     "start_time": "2022-11-28T15:19:41.981080",
     "status": "completed"
    },
    "tags": []
   },
   "outputs": [],
   "source": [
    "#tokenisation to treat each word with respect\n",
    "tokeniser = TreebankWordTokenizer()\n",
    "data_sorted['message'] = data_sorted['message'].apply(tokeniser.tokenize)\n",
    "\n",
    "data_sorted"
   ]
  },
  {
   "cell_type": "code",
   "execution_count": null,
   "id": "169a5670",
   "metadata": {
    "execution": {
     "iopub.execute_input": "2022-11-28T15:19:43.856279Z",
     "iopub.status.busy": "2022-11-28T15:19:43.855687Z",
     "iopub.status.idle": "2022-11-28T15:19:47.640001Z",
     "shell.execute_reply": "2022-11-28T15:19:47.638509Z"
    },
    "papermill": {
     "duration": 3.901759,
     "end_time": "2022-11-28T15:19:47.642397",
     "exception": false,
     "start_time": "2022-11-28T15:19:43.740638",
     "status": "completed"
    },
    "tags": []
   },
   "outputs": [],
   "source": [
    "#stem to transform to the root word, and have more common words\n",
    "stemmer = SnowballStemmer('english')\n",
    "\n",
    "def mbti_stemmer(words, stemmer):\n",
    "    return [stemmer.stem(word) for word in words]\n",
    "\n",
    "data_sorted['message'] = data_sorted['message'].apply(mbti_stemmer, args=(stemmer, ))\n",
    "\n",
    "data_sorted"
   ]
  },
  {
   "cell_type": "code",
   "execution_count": null,
   "id": "e495cb57",
   "metadata": {
    "execution": {
     "iopub.execute_input": "2022-11-28T15:19:47.858966Z",
     "iopub.status.busy": "2022-11-28T15:19:47.858543Z",
     "iopub.status.idle": "2022-11-28T15:19:51.096017Z",
     "shell.execute_reply": "2022-11-28T15:19:51.094836Z"
    },
    "papermill": {
     "duration": 3.348943,
     "end_time": "2022-11-28T15:19:51.098635",
     "exception": false,
     "start_time": "2022-11-28T15:19:47.749692",
     "status": "completed"
    },
    "tags": []
   },
   "outputs": [],
   "source": [
    "#lemmatization to lessen unique words even more by changing tenses of words and plurals\n",
    "lemmatizer = WordNetLemmatizer()\n",
    "\n",
    "def mbti_lemma(words, lemmatizer):\n",
    "    return [lemmatizer.lemmatize(word) for word in words]\n",
    "\n",
    "data_sorted['message'] = data_sorted['message'].apply(mbti_lemma, args=(lemmatizer, ))\n",
    "\n",
    "data_sorted"
   ]
  },
  {
   "cell_type": "code",
   "execution_count": null,
   "id": "4dc9d5de",
   "metadata": {
    "execution": {
     "iopub.execute_input": "2022-11-28T15:19:51.318471Z",
     "iopub.status.busy": "2022-11-28T15:19:51.317479Z",
     "iopub.status.idle": "2022-11-28T15:20:30.910103Z",
     "shell.execute_reply": "2022-11-28T15:20:30.908934Z"
    },
    "papermill": {
     "duration": 39.811608,
     "end_time": "2022-11-28T15:20:31.019701",
     "exception": false,
     "start_time": "2022-11-28T15:19:51.208093",
     "status": "completed"
    },
    "tags": []
   },
   "outputs": [],
   "source": [
    "#remove standard stop words, which are words of insignificance\n",
    "def remove_stop_words(tokens):    \n",
    "    return [t for t in tokens if t not in stopwords.words('english')]\n",
    "\n",
    "data_sorted['message'] = data_sorted['message'].apply(remove_stop_words)\n",
    "\n",
    "data_sorted"
   ]
  },
  {
   "cell_type": "markdown",
   "id": "aaf25238",
   "metadata": {
    "papermill": {
     "duration": 0.103979,
     "end_time": "2022-11-28T15:20:31.229191",
     "exception": false,
     "start_time": "2022-11-28T15:20:31.125212",
     "status": "completed"
    },
    "tags": []
   },
   "source": [
    "# exploratory data analysis"
   ]
  },
  {
   "cell_type": "code",
   "execution_count": null,
   "id": "2b7a59b4",
   "metadata": {},
   "outputs": [],
   "source": [
    "#see the min, max and mode(from dictionary) category of the sentiments\n",
    "print(\"min:\", np.min(data_sorted[\"sentiment\"]))\n",
    "print(\"max:\", np.max(data_sorted[\"sentiment\"]))\n",
    "\n",
    "dict_ = {}\n",
    "\n",
    "for i in data_sorted[\"sentiment\"]:\n",
    "    if i in dict_:\n",
    "        dict_[i] += 1\n",
    "    else:\n",
    "        dict_[i] = 1\n",
    "\n",
    "print(\"total number of sentiments:\", len(data_sorted))\n",
    "print(\"counts of the respective sentiments:\", dict_)\n"
   ]
  },
  {
   "cell_type": "code",
   "execution_count": null,
   "id": "6893199f",
   "metadata": {},
   "outputs": [],
   "source": [
    "#the skewness and kurtosis(lack of ourtliers) of the sentiments\n",
    "print(\"skewness: \", data_sorted[\"sentiment\"].skew())\n",
    "print(\" kurtosis: \",data_sorted[\"sentiment\"].kurtosis())"
   ]
  },
  {
   "cell_type": "code",
   "execution_count": null,
   "id": "b4506cfe",
   "metadata": {},
   "outputs": [],
   "source": [
    "#the frequency distribution of the sentiments\n",
    "#Thibello\n",
    "sns.countplot(x = 'sentiment', data = data_sorted, palette=\"hls\")\n",
    "plt.title(\"Distribution of Sentiments\")"
   ]
  },
  {
   "cell_type": "markdown",
   "id": "32eeaac0",
   "metadata": {},
   "source": [
    "# Streamlit"
   ]
  },
  {
   "cell_type": "markdown",
   "id": "8938cfbf",
   "metadata": {},
   "source": [
    "Streamlit will enable the visualisation and user interfaces for the Twitter Sentiment Predict."
   ]
  },
  {
   "cell_type": "code",
   "execution_count": null,
   "id": "9f7fb285",
   "metadata": {},
   "outputs": [],
   "source": [
    "# JS\n",
    "# Example code we may use for Streamlit\n",
    "\n",
    "# import Streamlit (ensure all libraries and dependencies downloaded for environment)\n",
    "import streamlit as st\n",
    "import altair as alt\n",
    "\n",
    "# slider functionality\n",
    "# x = st.slider('x')\n",
    "# st.write(x, 'squared is', x * x)\n",
    "\n",
    "# reuse data across runs (this would be the final clean data we have)\n",
    "# read_and_cashe_csv = st.cache(pd.read_csv)\n",
    "\n",
    "# create title on webpage\n",
    "# st.write('# Streamlit Twitter Sentiment App')"
   ]
  }
 ],
 "metadata": {
  "kernelspec": {
   "display_name": "Python 3 (ipykernel)",
   "language": "python",
   "name": "python3"
  },
  "language_info": {
   "codemirror_mode": {
    "name": "ipython",
    "version": 3
   },
   "file_extension": ".py",
   "mimetype": "text/x-python",
   "name": "python",
   "nbconvert_exporter": "python",
   "pygments_lexer": "ipython3",
   "version": "3.9.12"
  },
  "papermill": {
   "default_parameters": {},
   "duration": 64.18422,
   "end_time": "2022-11-28T15:20:33.254982",
   "environment_variables": {},
   "exception": null,
   "input_path": "__notebook__.ipynb",
   "output_path": "__notebook__.ipynb",
   "parameters": {},
   "start_time": "2022-11-28T15:19:29.070762",
   "version": "2.3.4"
  }
 },
 "nbformat": 4,
 "nbformat_minor": 5
}
