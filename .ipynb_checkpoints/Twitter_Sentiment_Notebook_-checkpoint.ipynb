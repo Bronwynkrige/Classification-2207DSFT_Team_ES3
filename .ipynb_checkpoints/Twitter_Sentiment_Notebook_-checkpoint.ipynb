{
 "cells": [
  {
   "cell_type": "markdown",
   "id": "23aef5a7",
   "metadata": {},
   "source": [
    "# Classification Predict"
   ]
  },
  {
   "cell_type": "markdown",
   "id": "3111688a",
   "metadata": {},
   "source": [
    "## Table of Contents\n",
    "\n",
    "\n",
    "1. [Introduction](#1.-Introduction)\n",
    "    - Problem statement\n",
    "    - Objective\n",
    "    \n",
    "2. [Importing Packages](#2.-Importing-Packages)\n",
    "\n",
    "3. [Exploratory Data Analysis](#3.-Exploratory-Data-Analysis)\n",
    "    - Load Data \n",
    "    \n",
    "4. [Pre-processing](#4.-Pre-processing)\n",
    "    - [Removing the Noise](#Removing-the-Noise)\n",
    "       - Lowercasing the Data \n",
    "       - Removing Contractions\n",
    "       - Removing Punctuation\n",
    "       - Removing Numbers \n",
    "       - Removing Extra Space\n",
    "       - Replacing Repetition of punctuation\n",
    "       - Removing Emojis\n",
    "       - Removing Emoticons\n",
    "       - Removing Stop Words\n",
    "       \n",
    "    \n",
    "5. [Feature Engineering](#5.-Feature-Engineering)\n",
    "    - Bag of Words\n",
    "    - N-grams\n",
    "        \n",
    "6. [Modelling](#6.-Modelling)\n",
    "7. [Conclusion](#7.-Conclusion)"
   ]
  },
  {
   "cell_type": "markdown",
   "id": "c936fbe5",
   "metadata": {},
   "source": [
    "## 1. Introduction\n",
    "[Back to Table of Contents](#Table-of-Contents)"
   ]
  },
  {
   "cell_type": "markdown",
   "id": "411c83a4",
   "metadata": {},
   "source": [
    "###  Problem Statement"
   ]
  },
  {
   "cell_type": "markdown",
   "id": "09f142cb",
   "metadata": {},
   "source": [
    "Many companies would like to determine how their customers perceive climate change and whether or not they believe it is a real threat. \n",
    "Knowledge of this would add to their market research efforts in gauging how their product/service may be received.\n",
    "\n",
    "An accurate and robust solution to this problem would give the companies access to a broad understanding of consumer sentiment, spanning multiple demographic and geographics, as a result increasing companies' insights and informing future\n",
    "marketing strategies for the betterment of consumer experience and company performance.\n",
    "\n"
   ]
  },
  {
   "cell_type": "markdown",
   "id": "fa683f2b",
   "metadata": {},
   "source": [
    "### Objective"
   ]
  },
  {
   "cell_type": "markdown",
   "id": "cd3fe348",
   "metadata": {},
   "source": [
    "Building a Machine Learning model that is able to classify whether or not a person believes in climate change, based on their novel tweet data. The tweets belonging to any of the following class descriptions:\n",
    "\n",
    "2 News: the tweet links to factual news about climate change\n",
    "\n",
    "1 Pro: the tweet supports the belief of man-made climate change\n",
    "\n",
    "0 Neutral: the tweet neither supports nor refutes the belief of man-made climate change\n",
    "\n",
    "-1 Anti: the tweet does not believe in man-made climate change Variable definitions"
   ]
  },
  {
   "cell_type": "markdown",
   "id": "c91162e4",
   "metadata": {},
   "source": [
    "## 2. Importing Packages\n",
    "[Back to Table of Contents](#Table-of-Contents)"
   ]
  },
  {
   "cell_type": "code",
   "execution_count": 75,
   "id": "085b167c",
   "metadata": {
    "execution": {
     "iopub.execute_input": "2022-11-28T15:19:37.676891Z",
     "iopub.status.busy": "2022-11-28T15:19:37.675944Z",
     "iopub.status.idle": "2022-11-28T15:19:40.037958Z",
     "shell.execute_reply": "2022-11-28T15:19:40.036606Z"
    },
    "papermill": {
     "duration": 2.371747,
     "end_time": "2022-11-28T15:19:40.041545",
     "exception": false,
     "start_time": "2022-11-28T15:19:37.669798",
     "status": "completed"
    },
    "tags": []
   },
   "outputs": [
    {
     "name": "stderr",
     "output_type": "stream",
     "text": [
      "[nltk_data] Downloading package omw-1.4 to\n",
      "[nltk_data]     C:\\Users\\thibe\\AppData\\Roaming\\nltk_data...\n",
      "[nltk_data]   Package omw-1.4 is already up-to-date!\n"
     ]
    },
    {
     "name": "stdout",
     "output_type": "stream",
     "text": [
      "Requirement already satisfied: contractions in c:\\users\\thibe\\anaconda3\\lib\\site-packages (0.1.73)\n",
      "Requirement already satisfied: textsearch>=0.0.21 in c:\\users\\thibe\\anaconda3\\lib\\site-packages (from contractions) (0.0.24)\n",
      "Requirement already satisfied: anyascii in c:\\users\\thibe\\anaconda3\\lib\\site-packages (from textsearch>=0.0.21->contractions) (0.3.1)\n",
      "Requirement already satisfied: pyahocorasick in c:\\users\\thibe\\anaconda3\\lib\\site-packages (from textsearch>=0.0.21->contractions) (1.4.4)\n"
     ]
    }
   ],
   "source": [
    "import nltk\n",
    "import string\n",
    "from sklearn.feature_extraction.text import CountVectorizer\n",
    "from nltk import TreebankWordTokenizer, SnowballStemmer\n",
    "from nltk.corpus import stopwords\n",
    "from sklearn.feature_extraction.text import CountVectorizer\n",
    "from nltk.stem import WordNetLemmatizer\n",
    "nltk.download('omw-1.4')\n",
    "import seaborn as sns\n",
    "import matplotlib.pyplot as plt\n",
    "import numpy as np\n",
    "import pandas as pd\n",
    "import re\n",
    "import string\n",
    "import contractions\n",
    "import sys  \n",
    "from pandas.core.common import SettingWithCopyWarning\n"
   ]
  },
  {
   "cell_type": "markdown",
   "id": "41669775",
   "metadata": {},
   "source": [
    "## 3. Exploratory Data Analysis\n",
    "[Back to Table of Contents](#Table-of-Contents)"
   ]
  },
  {
   "cell_type": "markdown",
   "id": "39831b46",
   "metadata": {},
   "source": [
    "### Load data"
   ]
  },
  {
   "cell_type": "code",
   "execution_count": 76,
   "id": "ca86340b",
   "metadata": {},
   "outputs": [
    {
     "data": {
      "text/html": [
       "<div>\n",
       "<style scoped>\n",
       "    .dataframe tbody tr th:only-of-type {\n",
       "        vertical-align: middle;\n",
       "    }\n",
       "\n",
       "    .dataframe tbody tr th {\n",
       "        vertical-align: top;\n",
       "    }\n",
       "\n",
       "    .dataframe thead th {\n",
       "        text-align: right;\n",
       "    }\n",
       "</style>\n",
       "<table border=\"1\" class=\"dataframe\">\n",
       "  <thead>\n",
       "    <tr style=\"text-align: right;\">\n",
       "      <th></th>\n",
       "      <th>sentiment</th>\n",
       "      <th>message</th>\n",
       "      <th>tweetid</th>\n",
       "    </tr>\n",
       "  </thead>\n",
       "  <tbody>\n",
       "    <tr>\n",
       "      <th>0</th>\n",
       "      <td>1</td>\n",
       "      <td>PolySciMajor EPA chief doesn't think carbon di...</td>\n",
       "      <td>625221</td>\n",
       "    </tr>\n",
       "    <tr>\n",
       "      <th>1</th>\n",
       "      <td>1</td>\n",
       "      <td>It's not like we lack evidence of anthropogeni...</td>\n",
       "      <td>126103</td>\n",
       "    </tr>\n",
       "    <tr>\n",
       "      <th>2</th>\n",
       "      <td>2</td>\n",
       "      <td>RT @RawStory: Researchers say we have three ye...</td>\n",
       "      <td>698562</td>\n",
       "    </tr>\n",
       "  </tbody>\n",
       "</table>\n",
       "</div>"
      ],
      "text/plain": [
       "   sentiment                                            message  tweetid\n",
       "0          1  PolySciMajor EPA chief doesn't think carbon di...   625221\n",
       "1          1  It's not like we lack evidence of anthropogeni...   126103\n",
       "2          2  RT @RawStory: Researchers say we have three ye...   698562"
      ]
     },
     "execution_count": 76,
     "metadata": {},
     "output_type": "execute_result"
    }
   ],
   "source": [
    "# Display data\n",
    "data = pd.read_csv(\"train.csv\")\n",
    "data.head(3)"
   ]
  },
  {
   "cell_type": "code",
   "execution_count": 84,
   "id": "074d7f11",
   "metadata": {},
   "outputs": [
    {
     "name": "stdout",
     "output_type": "stream",
     "text": [
      "total number of sentiments: 15819\n",
      "counts of the respective sentiments: {1: 8530, 2: 3640, 0: 2353, -1: 1296}\n"
     ]
    }
   ],
   "source": [
    "#see the min, max and mode(from dictionary) category of the sentiments\n",
    "data_sorted = data[[\"message\", \"sentiment\"]]\n",
    "\n",
    "dict_ = {}\n",
    "\n",
    "for i in data_sorted[\"sentiment\"]:\n",
    "    if i in dict_:\n",
    "        dict_[i] += 1\n",
    "    else:\n",
    "        dict_[i] = 1\n",
    "\n",
    "print(\"total number of sentiments:\", len(data_sorted))\n",
    "print(\"counts of the respective sentiments:\", dict_)"
   ]
  },
  {
   "cell_type": "code",
   "execution_count": 78,
   "id": "741c520d",
   "metadata": {},
   "outputs": [
    {
     "name": "stdout",
     "output_type": "stream",
     "text": [
      "skewness:  -0.6839586535115556\n",
      "kurtosis:  0.12297618882173778\n"
     ]
    }
   ],
   "source": [
    "#the skewness and kurtosis(lack of ourtliers) of the sentiments\n",
    "print(\"skewness: \", data_sorted[\"sentiment\"].skew())\n",
    "print(\"kurtosis: \",data_sorted[\"sentiment\"].kurtosis())"
   ]
  },
  {
   "cell_type": "code",
   "execution_count": 64,
   "id": "baf3b899",
   "metadata": {},
   "outputs": [
    {
     "data": {
      "text/plain": [
       "Text(0.5, 1.0, 'Distribution of Sentiments')"
      ]
     },
     "execution_count": 64,
     "metadata": {},
     "output_type": "execute_result"
    },
    {
     "data": {
      "image/png": "[encoded data removed]",
      "text/plain": [
       "<Figure size 432x288 with 1 Axes>"
      ]
     },
     "metadata": {
      "needs_background": "light"
     },
     "output_type": "display_data"
    }
   ],
   "source": [
    "#the frequency distribution of the sentiments\n",
    "#Thibello\n",
    "sns.countplot(x = 'sentiment', data = data_sorted, palette=\"hls\")\n",
    "plt.title(\"Distribution of Sentiments\")"
   ]
  },
  {
   "cell_type": "code",
   "execution_count": 107,
   "id": "5671e07a",
   "metadata": {},
   "outputs": [
    {
     "name": "stdout",
     "output_type": "stream",
     "text": [
      "punctuations present in the tweets: 1440\n",
      "numbers present in the tweets: 1111\n"
     ]
    }
   ],
   "source": [
    "#counting the number of respective impurities\n",
    "\n",
    "punctuations = 0\n",
    "numbers = 0\n",
    "\n",
    "for i in data_sorted[\"message\"]:\n",
    "    for k in i.split():\n",
    "        if k in string.punctuation:\n",
    "            punctuations+=1\n",
    "        if k.isdigit():\n",
    "            numbers += 1\n",
    "print(\"punctuations present in the tweets:\", punctuations)\n",
    "print(\"numbers present in the tweets:\", numbers)\n"
   ]
  },
  {
   "cell_type": "markdown",
   "id": "f01f02b4",
   "metadata": {},
   "source": [
    "## 4. Pre-processing\n",
    "[Back to Table of Contents](#Table-of-Contents)"
   ]
  },
  {
   "cell_type": "markdown",
   "id": "088b1634",
   "metadata": {},
   "source": [
    "### Revise data "
   ]
  },
  {
   "cell_type": "code",
   "execution_count": 87,
   "id": "d28136a2",
   "metadata": {
    "execution": {
     "iopub.execute_input": "2022-11-28T15:19:40.061702Z",
     "iopub.status.busy": "2022-11-28T15:19:40.061313Z",
     "iopub.status.idle": "2022-11-28T15:19:40.218017Z",
     "shell.execute_reply": "2022-11-28T15:19:40.216968Z"
    },
    "papermill": {
     "duration": 0.165336,
     "end_time": "2022-11-28T15:19:40.220589",
     "exception": false,
     "start_time": "2022-11-28T15:19:40.055253",
     "status": "completed"
    },
    "tags": []
   },
   "outputs": [
    {
     "data": {
      "text/html": [
       "<div>\n",
       "<style scoped>\n",
       "    .dataframe tbody tr th:only-of-type {\n",
       "        vertical-align: middle;\n",
       "    }\n",
       "\n",
       "    .dataframe tbody tr th {\n",
       "        vertical-align: top;\n",
       "    }\n",
       "\n",
       "    .dataframe thead th {\n",
       "        text-align: right;\n",
       "    }\n",
       "</style>\n",
       "<table border=\"1\" class=\"dataframe\">\n",
       "  <thead>\n",
       "    <tr style=\"text-align: right;\">\n",
       "      <th></th>\n",
       "      <th>sentiment</th>\n",
       "      <th>message</th>\n",
       "    </tr>\n",
       "    <tr>\n",
       "      <th>tweetid</th>\n",
       "      <th></th>\n",
       "      <th></th>\n",
       "    </tr>\n",
       "  </thead>\n",
       "  <tbody>\n",
       "    <tr>\n",
       "      <th>625221</th>\n",
       "      <td>1</td>\n",
       "      <td>PolySciMajor EPA chief doesn't think carbon di...</td>\n",
       "    </tr>\n",
       "    <tr>\n",
       "      <th>126103</th>\n",
       "      <td>1</td>\n",
       "      <td>It's not like we lack evidence of anthropogeni...</td>\n",
       "    </tr>\n",
       "    <tr>\n",
       "      <th>698562</th>\n",
       "      <td>2</td>\n",
       "      <td>RT @RawStory: Researchers say we have three ye...</td>\n",
       "    </tr>\n",
       "  </tbody>\n",
       "</table>\n",
       "</div>"
      ],
      "text/plain": [
       "         sentiment                                            message\n",
       "tweetid                                                              \n",
       "625221           1  PolySciMajor EPA chief doesn't think carbon di...\n",
       "126103           1  It's not like we lack evidence of anthropogeni...\n",
       "698562           2  RT @RawStory: Researchers say we have three ye..."
      ]
     },
     "execution_count": 87,
     "metadata": {},
     "output_type": "execute_result"
    }
   ],
   "source": [
    "#making the tweetid the index\n",
    "data = pd.read_csv(\"train.csv\", index_col = \"tweetid\")\n",
    "data.head(3)\n"
   ]
  },
  {
   "cell_type": "code",
   "execution_count": 88,
   "id": "ffc0477f",
   "metadata": {
    "execution": {
     "iopub.execute_input": "2022-11-28T15:19:40.244946Z",
     "iopub.status.busy": "2022-11-28T15:19:40.243923Z",
     "iopub.status.idle": "2022-11-28T15:19:40.413307Z",
     "shell.execute_reply": "2022-11-28T15:19:40.412462Z"
    },
    "papermill": {
     "duration": 0.348007,
     "end_time": "2022-11-28T15:19:40.586043",
     "exception": false,
     "start_time": "2022-11-28T15:19:40.238036",
     "status": "completed"
    },
    "tags": []
   },
   "outputs": [
    {
     "data": {
      "text/html": [
       "<div>\n",
       "<style scoped>\n",
       "    .dataframe tbody tr th:only-of-type {\n",
       "        vertical-align: middle;\n",
       "    }\n",
       "\n",
       "    .dataframe tbody tr th {\n",
       "        vertical-align: top;\n",
       "    }\n",
       "\n",
       "    .dataframe thead th {\n",
       "        text-align: right;\n",
       "    }\n",
       "</style>\n",
       "<table border=\"1\" class=\"dataframe\">\n",
       "  <thead>\n",
       "    <tr style=\"text-align: right;\">\n",
       "      <th></th>\n",
       "      <th>message</th>\n",
       "      <th>sentiment</th>\n",
       "    </tr>\n",
       "    <tr>\n",
       "      <th>tweetid</th>\n",
       "      <th></th>\n",
       "      <th></th>\n",
       "    </tr>\n",
       "  </thead>\n",
       "  <tbody>\n",
       "    <tr>\n",
       "      <th>625221</th>\n",
       "      <td>PolySciMajor EPA chief doesn't think carbon di...</td>\n",
       "      <td>1</td>\n",
       "    </tr>\n",
       "    <tr>\n",
       "      <th>126103</th>\n",
       "      <td>It's not like we lack evidence of anthropogeni...</td>\n",
       "      <td>1</td>\n",
       "    </tr>\n",
       "    <tr>\n",
       "      <th>698562</th>\n",
       "      <td>RT @RawStory: Researchers say we have three ye...</td>\n",
       "      <td>2</td>\n",
       "    </tr>\n",
       "  </tbody>\n",
       "</table>\n",
       "</div>"
      ],
      "text/plain": [
       "                                                   message  sentiment\n",
       "tweetid                                                              \n",
       "625221   PolySciMajor EPA chief doesn't think carbon di...          1\n",
       "126103   It's not like we lack evidence of anthropogeni...          1\n",
       "698562   RT @RawStory: Researchers say we have three ye...          2"
      ]
     },
     "execution_count": 88,
     "metadata": {},
     "output_type": "execute_result"
    }
   ],
   "source": [
    "#rearrange the columns for clarity\n",
    "data_sorted = data[[\"message\", \"sentiment\"]]\n",
    "data_sorted.head(3)"
   ]
  },
  {
   "cell_type": "markdown",
   "id": "f6760874",
   "metadata": {},
   "source": [
    "## Removing the Noise"
   ]
  },
  {
   "cell_type": "markdown",
   "id": "93ea83d1",
   "metadata": {},
   "source": [
    "### Lowercasing the data"
   ]
  },
  {
   "cell_type": "code",
   "execution_count": 89,
   "id": "4840213f",
   "metadata": {},
   "outputs": [
    {
     "data": {
      "text/html": [
       "<div>\n",
       "<style scoped>\n",
       "    .dataframe tbody tr th:only-of-type {\n",
       "        vertical-align: middle;\n",
       "    }\n",
       "\n",
       "    .dataframe tbody tr th {\n",
       "        vertical-align: top;\n",
       "    }\n",
       "\n",
       "    .dataframe thead th {\n",
       "        text-align: right;\n",
       "    }\n",
       "</style>\n",
       "<table border=\"1\" class=\"dataframe\">\n",
       "  <thead>\n",
       "    <tr style=\"text-align: right;\">\n",
       "      <th></th>\n",
       "      <th>message</th>\n",
       "      <th>sentiment</th>\n",
       "    </tr>\n",
       "    <tr>\n",
       "      <th>tweetid</th>\n",
       "      <th></th>\n",
       "      <th></th>\n",
       "    </tr>\n",
       "  </thead>\n",
       "  <tbody>\n",
       "    <tr>\n",
       "      <th>625221</th>\n",
       "      <td>polyscimajor epa chief doesn't think carbon di...</td>\n",
       "      <td>1</td>\n",
       "    </tr>\n",
       "    <tr>\n",
       "      <th>126103</th>\n",
       "      <td>it's not like we lack evidence of anthropogeni...</td>\n",
       "      <td>1</td>\n",
       "    </tr>\n",
       "    <tr>\n",
       "      <th>698562</th>\n",
       "      <td>rt @rawstory: researchers say we have three ye...</td>\n",
       "      <td>2</td>\n",
       "    </tr>\n",
       "  </tbody>\n",
       "</table>\n",
       "</div>"
      ],
      "text/plain": [
       "                                                   message  sentiment\n",
       "tweetid                                                              \n",
       "625221   polyscimajor epa chief doesn't think carbon di...          1\n",
       "126103   it's not like we lack evidence of anthropogeni...          1\n",
       "698562   rt @rawstory: researchers say we have three ye...          2"
      ]
     },
     "execution_count": 89,
     "metadata": {},
     "output_type": "execute_result"
    }
   ],
   "source": [
    "#make everything lower case\n",
    "'''\n",
    "Converting every letter into lowercase helps to understand better what the words \n",
    "state.\n",
    "'''\n",
    "data_sorted['message'] = data_sorted['message'].str.lower()\n",
    "data_sorted.head(3)"
   ]
  },
  {
   "cell_type": "markdown",
   "id": "d9794d89",
   "metadata": {},
   "source": [
    "### Removing Contractions"
   ]
  },
  {
   "cell_type": "code",
   "execution_count": 90,
   "id": "b29cba22",
   "metadata": {},
   "outputs": [
    {
     "data": {
      "text/html": [
       "<div>\n",
       "<style scoped>\n",
       "    .dataframe tbody tr th:only-of-type {\n",
       "        vertical-align: middle;\n",
       "    }\n",
       "\n",
       "    .dataframe tbody tr th {\n",
       "        vertical-align: top;\n",
       "    }\n",
       "\n",
       "    .dataframe thead th {\n",
       "        text-align: right;\n",
       "    }\n",
       "</style>\n",
       "<table border=\"1\" class=\"dataframe\">\n",
       "  <thead>\n",
       "    <tr style=\"text-align: right;\">\n",
       "      <th></th>\n",
       "      <th>message</th>\n",
       "      <th>sentiment</th>\n",
       "    </tr>\n",
       "    <tr>\n",
       "      <th>tweetid</th>\n",
       "      <th></th>\n",
       "      <th></th>\n",
       "    </tr>\n",
       "  </thead>\n",
       "  <tbody>\n",
       "    <tr>\n",
       "      <th>625221</th>\n",
       "      <td>polyscimajor epa chief does not think carbon d...</td>\n",
       "      <td>1</td>\n",
       "    </tr>\n",
       "    <tr>\n",
       "      <th>126103</th>\n",
       "      <td>it is not like we lack evidence of anthropogen...</td>\n",
       "      <td>1</td>\n",
       "    </tr>\n",
       "    <tr>\n",
       "      <th>698562</th>\n",
       "      <td>rt @rawstory: researchers say we have three ye...</td>\n",
       "      <td>2</td>\n",
       "    </tr>\n",
       "    <tr>\n",
       "      <th>573736</th>\n",
       "      <td>#todayinmaker# wired : 2016 was a pivotal year...</td>\n",
       "      <td>1</td>\n",
       "    </tr>\n",
       "    <tr>\n",
       "      <th>466954</th>\n",
       "      <td>rt @soynoviodetodas: it is 2016, and a racist,...</td>\n",
       "      <td>1</td>\n",
       "    </tr>\n",
       "  </tbody>\n",
       "</table>\n",
       "</div>"
      ],
      "text/plain": [
       "                                                   message  sentiment\n",
       "tweetid                                                              \n",
       "625221   polyscimajor epa chief does not think carbon d...          1\n",
       "126103   it is not like we lack evidence of anthropogen...          1\n",
       "698562   rt @rawstory: researchers say we have three ye...          2\n",
       "573736   #todayinmaker# wired : 2016 was a pivotal year...          1\n",
       "466954   rt @soynoviodetodas: it is 2016, and a racist,...          1"
      ]
     },
     "execution_count": 90,
     "metadata": {},
     "output_type": "execute_result"
    }
   ],
   "source": [
    "#expand all existing contractions\n",
    "\n",
    "def expand_contractions(tweet):\n",
    "    return \" \".join([contractions.fix(c) for c in tweet.split()])\n",
    "\n",
    "data_sorted[\"message\"] = data_sorted[\"message\"].apply(expand_contractions)\n",
    "data_sorted.head()"
   ]
  },
  {
   "cell_type": "markdown",
   "id": "d234109f",
   "metadata": {},
   "source": [
    "### Removing all hyperlinks(web urls)"
   ]
  },
  {
   "cell_type": "code",
   "execution_count": 70,
   "id": "ab8de161",
   "metadata": {},
   "outputs": [],
   "source": [
    "#remove web urls \n",
    "pattern_url = r'http[s]?://(?:[A-Za-z]|[0-9]|[$-_@.&+]|[!*\\(\\),]|(?:%[0-9A-Fa-f][0-9A-Fa-f]))+'\n",
    "subs_url = r'url-web'\n",
    "data_sorted['message'] = data_sorted['message'].replace(to_replace = pattern_url, value = subs_url, regex = True)"
   ]
  },
  {
   "cell_type": "markdown",
   "id": "ba47e2d0",
   "metadata": {},
   "source": [
    "### Removing Punctuations\n",
    "\n",
    "Removing punctuation marks assists us to treat every word equally, \n",
    "E.g sweet! and sweet are the same without punctuation. "
   ]
  },
  {
   "cell_type": "code",
   "execution_count": 71,
   "id": "1b2d4406",
   "metadata": {},
   "outputs": [
    {
     "data": {
      "text/html": [
       "<div>\n",
       "<style scoped>\n",
       "    .dataframe tbody tr th:only-of-type {\n",
       "        vertical-align: middle;\n",
       "    }\n",
       "\n",
       "    .dataframe tbody tr th {\n",
       "        vertical-align: top;\n",
       "    }\n",
       "\n",
       "    .dataframe thead th {\n",
       "        text-align: right;\n",
       "    }\n",
       "</style>\n",
       "<table border=\"1\" class=\"dataframe\">\n",
       "  <thead>\n",
       "    <tr style=\"text-align: right;\">\n",
       "      <th></th>\n",
       "      <th>message</th>\n",
       "      <th>sentiment</th>\n",
       "    </tr>\n",
       "    <tr>\n",
       "      <th>tweetid</th>\n",
       "      <th></th>\n",
       "      <th></th>\n",
       "    </tr>\n",
       "  </thead>\n",
       "  <tbody>\n",
       "    <tr>\n",
       "      <th>625221</th>\n",
       "      <td>polyscimajor epa chief does not think carbon d...</td>\n",
       "      <td>1</td>\n",
       "    </tr>\n",
       "    <tr>\n",
       "      <th>126103</th>\n",
       "      <td>it is not like we lack evidence of anthropogen...</td>\n",
       "      <td>1</td>\n",
       "    </tr>\n",
       "    <tr>\n",
       "      <th>698562</th>\n",
       "      <td>rt rawstory researchers say we have three year...</td>\n",
       "      <td>2</td>\n",
       "    </tr>\n",
       "    <tr>\n",
       "      <th>573736</th>\n",
       "      <td>todayinmaker wired  2016 was a pivotal year in...</td>\n",
       "      <td>1</td>\n",
       "    </tr>\n",
       "    <tr>\n",
       "      <th>466954</th>\n",
       "      <td>rt soynoviodetodas it is 2016 and a racist sex...</td>\n",
       "      <td>1</td>\n",
       "    </tr>\n",
       "  </tbody>\n",
       "</table>\n",
       "</div>"
      ],
      "text/plain": [
       "                                                   message  sentiment\n",
       "tweetid                                                              \n",
       "625221   polyscimajor epa chief does not think carbon d...          1\n",
       "126103   it is not like we lack evidence of anthropogen...          1\n",
       "698562   rt rawstory researchers say we have three year...          2\n",
       "573736   todayinmaker wired  2016 was a pivotal year in...          1\n",
       "466954   rt soynoviodetodas it is 2016 and a racist sex...          1"
      ]
     },
     "execution_count": 71,
     "metadata": {},
     "output_type": "execute_result"
    }
   ],
   "source": [
    "#remove all punctuations\n",
    "\n",
    "def remove_punctuation(post):\n",
    "    return ''.join([l for l in post if l not in string.punctuation])\n",
    "\n",
    "data_sorted['message'] = data_sorted['message'].apply(remove_punctuation)\n",
    "data_sorted.head()"
   ]
  },
  {
   "cell_type": "markdown",
   "id": "d17848a5",
   "metadata": {},
   "source": [
    "### Removing Numbers"
   ]
  },
  {
   "cell_type": "markdown",
   "id": "3e0471bc",
   "metadata": {},
   "source": [
    "\"For example, when we are doing sentiment analysis then the number doesn’t hold any specific meaning to the data but if the task is to perform NER (Name Entity Recognition) or POS (Part of Speech tagging) then use the removing of number technique carefully.\""
   ]
  },
  {
   "cell_type": "code",
   "execution_count": 72,
   "id": "00ee69ec",
   "metadata": {},
   "outputs": [
    {
     "data": {
      "text/html": [
       "<div>\n",
       "<style scoped>\n",
       "    .dataframe tbody tr th:only-of-type {\n",
       "        vertical-align: middle;\n",
       "    }\n",
       "\n",
       "    .dataframe tbody tr th {\n",
       "        vertical-align: top;\n",
       "    }\n",
       "\n",
       "    .dataframe thead th {\n",
       "        text-align: right;\n",
       "    }\n",
       "</style>\n",
       "<table border=\"1\" class=\"dataframe\">\n",
       "  <thead>\n",
       "    <tr style=\"text-align: right;\">\n",
       "      <th></th>\n",
       "      <th>message</th>\n",
       "      <th>sentiment</th>\n",
       "    </tr>\n",
       "    <tr>\n",
       "      <th>tweetid</th>\n",
       "      <th></th>\n",
       "      <th></th>\n",
       "    </tr>\n",
       "  </thead>\n",
       "  <tbody>\n",
       "    <tr>\n",
       "      <th>625221</th>\n",
       "      <td>polyscimajor epa chief does not think carbon d...</td>\n",
       "      <td>1</td>\n",
       "    </tr>\n",
       "    <tr>\n",
       "      <th>126103</th>\n",
       "      <td>it is not like we lack evidence of anthropogen...</td>\n",
       "      <td>1</td>\n",
       "    </tr>\n",
       "    <tr>\n",
       "      <th>698562</th>\n",
       "      <td>rt rawstory researchers say we have three year...</td>\n",
       "      <td>2</td>\n",
       "    </tr>\n",
       "    <tr>\n",
       "      <th>573736</th>\n",
       "      <td>todayinmaker wired   was a pivotal year in the...</td>\n",
       "      <td>1</td>\n",
       "    </tr>\n",
       "    <tr>\n",
       "      <th>466954</th>\n",
       "      <td>rt soynoviodetodas it is  and a racist sexist ...</td>\n",
       "      <td>1</td>\n",
       "    </tr>\n",
       "  </tbody>\n",
       "</table>\n",
       "</div>"
      ],
      "text/plain": [
       "                                                   message  sentiment\n",
       "tweetid                                                              \n",
       "625221   polyscimajor epa chief does not think carbon d...          1\n",
       "126103   it is not like we lack evidence of anthropogen...          1\n",
       "698562   rt rawstory researchers say we have three year...          2\n",
       "573736   todayinmaker wired   was a pivotal year in the...          1\n",
       "466954   rt soynoviodetodas it is  and a racist sexist ...          1"
      ]
     },
     "execution_count": 72,
     "metadata": {},
     "output_type": "execute_result"
    }
   ],
   "source": [
    "def remove_digits(post):\n",
    "    return ''.join([i for i in post if not i.isdigit()])\n",
    "\n",
    "data_sorted['message'] = data_sorted['message'].apply(remove_digits)\n",
    "data_sorted.head()"
   ]
  },
  {
   "cell_type": "markdown",
   "id": "9537150a",
   "metadata": {},
   "source": [
    "### Removing Extra Space"
   ]
  },
  {
   "cell_type": "markdown",
   "id": "fe0e2304",
   "metadata": {},
   "source": [
    "Removing expace could help reduce the memory usage "
   ]
  },
  {
   "cell_type": "code",
   "execution_count": 12,
   "id": "856dd2bc",
   "metadata": {},
   "outputs": [
    {
     "name": "stdout",
     "output_type": "stream",
     "text": [
      "<class 'pandas.core.frame.DataFrame'>\n",
      "Int64Index: 15819 entries, 625221 to 806319\n",
      "Data columns (total 2 columns):\n",
      " #   Column     Non-Null Count  Dtype \n",
      "---  ------     --------------  ----- \n",
      " 0   message    15819 non-null  object\n",
      " 1   sentiment  15819 non-null  int64 \n",
      "dtypes: int64(1), object(1)\n",
      "memory usage: 370.8+ KB\n"
     ]
    }
   ],
   "source": [
    "data_sorted.info()"
   ]
  },
  {
   "cell_type": "code",
   "execution_count": 13,
   "id": "add7dc9a",
   "metadata": {},
   "outputs": [
    {
     "data": {
      "text/html": [
       "<div>\n",
       "<style scoped>\n",
       "    .dataframe tbody tr th:only-of-type {\n",
       "        vertical-align: middle;\n",
       "    }\n",
       "\n",
       "    .dataframe tbody tr th {\n",
       "        vertical-align: top;\n",
       "    }\n",
       "\n",
       "    .dataframe thead th {\n",
       "        text-align: right;\n",
       "    }\n",
       "</style>\n",
       "<table border=\"1\" class=\"dataframe\">\n",
       "  <thead>\n",
       "    <tr style=\"text-align: right;\">\n",
       "      <th></th>\n",
       "      <th>message</th>\n",
       "      <th>sentiment</th>\n",
       "    </tr>\n",
       "    <tr>\n",
       "      <th>tweetid</th>\n",
       "      <th></th>\n",
       "      <th></th>\n",
       "    </tr>\n",
       "  </thead>\n",
       "  <tbody>\n",
       "    <tr>\n",
       "      <th>625221</th>\n",
       "      <td>polyscimajor epa chief doesnt think carbon dio...</td>\n",
       "      <td>1</td>\n",
       "    </tr>\n",
       "    <tr>\n",
       "      <th>126103</th>\n",
       "      <td>its not like we lack evidence of anthropogenic...</td>\n",
       "      <td>1</td>\n",
       "    </tr>\n",
       "    <tr>\n",
       "      <th>698562</th>\n",
       "      <td>rt rawstory researchers say we have three year...</td>\n",
       "      <td>2</td>\n",
       "    </tr>\n",
       "    <tr>\n",
       "      <th>573736</th>\n",
       "      <td>todayinmaker wired was a pivotal year in the w...</td>\n",
       "      <td>1</td>\n",
       "    </tr>\n",
       "    <tr>\n",
       "      <th>466954</th>\n",
       "      <td>rt soynoviodetodas its and a racist sexist cli...</td>\n",
       "      <td>1</td>\n",
       "    </tr>\n",
       "  </tbody>\n",
       "</table>\n",
       "</div>"
      ],
      "text/plain": [
       "                                                   message  sentiment\n",
       "tweetid                                                              \n",
       "625221   polyscimajor epa chief doesnt think carbon dio...          1\n",
       "126103   its not like we lack evidence of anthropogenic...          1\n",
       "698562   rt rawstory researchers say we have three year...          2\n",
       "573736   todayinmaker wired was a pivotal year in the w...          1\n",
       "466954   rt soynoviodetodas its and a racist sexist cli...          1"
      ]
     },
     "execution_count": 13,
     "metadata": {},
     "output_type": "execute_result"
    }
   ],
   "source": [
    "def remove_extra_space(text):\n",
    "    return \" \".join(text.split())\n",
    "\n",
    "data_sorted['message'] = data_sorted['message'].apply(remove_extra_space)\n",
    "data_sorted.head()"
   ]
  },
  {
   "cell_type": "code",
   "execution_count": 14,
   "id": "48a18e64",
   "metadata": {},
   "outputs": [
    {
     "name": "stdout",
     "output_type": "stream",
     "text": [
      "<class 'pandas.core.frame.DataFrame'>\n",
      "Int64Index: 15819 entries, 625221 to 806319\n",
      "Data columns (total 2 columns):\n",
      " #   Column     Non-Null Count  Dtype \n",
      "---  ------     --------------  ----- \n",
      " 0   message    15819 non-null  object\n",
      " 1   sentiment  15819 non-null  int64 \n",
      "dtypes: int64(1), object(1)\n",
      "memory usage: 370.8+ KB\n"
     ]
    }
   ],
   "source": [
    "data_sorted.info()"
   ]
  },
  {
   "cell_type": "markdown",
   "id": "fdab42aa",
   "metadata": {},
   "source": [
    "### Removing the repetitions of Punctuations "
   ]
  },
  {
   "cell_type": "code",
   "execution_count": 15,
   "id": "3048fb48",
   "metadata": {},
   "outputs": [
    {
     "data": {
      "text/html": [
       "<div>\n",
       "<style scoped>\n",
       "    .dataframe tbody tr th:only-of-type {\n",
       "        vertical-align: middle;\n",
       "    }\n",
       "\n",
       "    .dataframe tbody tr th {\n",
       "        vertical-align: top;\n",
       "    }\n",
       "\n",
       "    .dataframe thead th {\n",
       "        text-align: right;\n",
       "    }\n",
       "</style>\n",
       "<table border=\"1\" class=\"dataframe\">\n",
       "  <thead>\n",
       "    <tr style=\"text-align: right;\">\n",
       "      <th></th>\n",
       "      <th>message</th>\n",
       "      <th>sentiment</th>\n",
       "    </tr>\n",
       "    <tr>\n",
       "      <th>tweetid</th>\n",
       "      <th></th>\n",
       "      <th></th>\n",
       "    </tr>\n",
       "  </thead>\n",
       "  <tbody>\n",
       "    <tr>\n",
       "      <th>625221</th>\n",
       "      <td>polyscimajor epa chief doesnt think carbon dio...</td>\n",
       "      <td>1</td>\n",
       "    </tr>\n",
       "    <tr>\n",
       "      <th>126103</th>\n",
       "      <td>its not like we lack evidence of anthropogenic...</td>\n",
       "      <td>1</td>\n",
       "    </tr>\n",
       "    <tr>\n",
       "      <th>698562</th>\n",
       "      <td>rt rawstory researchers say we have three year...</td>\n",
       "      <td>2</td>\n",
       "    </tr>\n",
       "    <tr>\n",
       "      <th>573736</th>\n",
       "      <td>todayinmaker wired was a pivotal year in the w...</td>\n",
       "      <td>1</td>\n",
       "    </tr>\n",
       "    <tr>\n",
       "      <th>466954</th>\n",
       "      <td>rt soynoviodetodas its and a racist sexist cli...</td>\n",
       "      <td>1</td>\n",
       "    </tr>\n",
       "  </tbody>\n",
       "</table>\n",
       "</div>"
      ],
      "text/plain": [
       "                                                   message  sentiment\n",
       "tweetid                                                              \n",
       "625221   polyscimajor epa chief doesnt think carbon dio...          1\n",
       "126103   its not like we lack evidence of anthropogenic...          1\n",
       "698562   rt rawstory researchers say we have three year...          2\n",
       "573736   todayinmaker wired was a pivotal year in the w...          1\n",
       "466954   rt soynoviodetodas its and a racist sexist cli...          1"
      ]
     },
     "execution_count": 15,
     "metadata": {},
     "output_type": "execute_result"
    }
   ],
   "source": [
    "def remove_rep_signs(text):\n",
    "    return re.sub(r'(!|.)1+', '', text)\n",
    "\n",
    "data_sorted['message'] = data_sorted['message'].apply(remove_rep_signs)\n",
    "data_sorted.head()"
   ]
  },
  {
   "cell_type": "markdown",
   "id": "65e92e67",
   "metadata": {},
   "source": [
    "### Removing Emojis"
   ]
  },
  {
   "cell_type": "code",
   "execution_count": 16,
   "id": "4ce368ca",
   "metadata": {},
   "outputs": [
    {
     "data": {
      "text/html": [
       "<div>\n",
       "<style scoped>\n",
       "    .dataframe tbody tr th:only-of-type {\n",
       "        vertical-align: middle;\n",
       "    }\n",
       "\n",
       "    .dataframe tbody tr th {\n",
       "        vertical-align: top;\n",
       "    }\n",
       "\n",
       "    .dataframe thead th {\n",
       "        text-align: right;\n",
       "    }\n",
       "</style>\n",
       "<table border=\"1\" class=\"dataframe\">\n",
       "  <thead>\n",
       "    <tr style=\"text-align: right;\">\n",
       "      <th></th>\n",
       "      <th>message</th>\n",
       "      <th>sentiment</th>\n",
       "    </tr>\n",
       "    <tr>\n",
       "      <th>tweetid</th>\n",
       "      <th></th>\n",
       "      <th></th>\n",
       "    </tr>\n",
       "  </thead>\n",
       "  <tbody>\n",
       "    <tr>\n",
       "      <th>625221</th>\n",
       "      <td>polyscimajor epa chief doesnt think carbon dio...</td>\n",
       "      <td>1</td>\n",
       "    </tr>\n",
       "    <tr>\n",
       "      <th>126103</th>\n",
       "      <td>its not like we lack evidence of anthropogenic...</td>\n",
       "      <td>1</td>\n",
       "    </tr>\n",
       "    <tr>\n",
       "      <th>698562</th>\n",
       "      <td>rt rawstory researchers say we have three year...</td>\n",
       "      <td>2</td>\n",
       "    </tr>\n",
       "    <tr>\n",
       "      <th>573736</th>\n",
       "      <td>todayinmaker wired was a pivotal year in the w...</td>\n",
       "      <td>1</td>\n",
       "    </tr>\n",
       "    <tr>\n",
       "      <th>466954</th>\n",
       "      <td>rt soynoviodetodas its and a racist sexist cli...</td>\n",
       "      <td>1</td>\n",
       "    </tr>\n",
       "  </tbody>\n",
       "</table>\n",
       "</div>"
      ],
      "text/plain": [
       "                                                   message  sentiment\n",
       "tweetid                                                              \n",
       "625221   polyscimajor epa chief doesnt think carbon dio...          1\n",
       "126103   its not like we lack evidence of anthropogenic...          1\n",
       "698562   rt rawstory researchers say we have three year...          2\n",
       "573736   todayinmaker wired was a pivotal year in the w...          1\n",
       "466954   rt soynoviodetodas its and a racist sexist cli...          1"
      ]
     },
     "execution_count": 16,
     "metadata": {},
     "output_type": "execute_result"
    }
   ],
   "source": [
    "def remove_emoji(string):\n",
    "    emoji_pattern = re.compile(\"[\"\n",
    "                           u\"U0001F600-U0001F64F\"  # emoticons\n",
    "                           u\"U0001F300-U0001F5FF\"  # symbols & pictographs\n",
    "                           u\"U0001F680-U0001F6FF\"  # transport & map symbols\n",
    "                           u\"U0001F1E0-U0001F1FF\"  # flags (iOS)\n",
    "                           u\"U00002702-U000027B0\"\n",
    "                           u\"U000024C2-U0001F251\"\n",
    "                           \"]+\", flags=re.UNICODE)\n",
    "    return emoji_pattern.sub(r'', string)\n",
    "data_sorted['message'] = data_sorted['message'].apply(remove_emoji)\n",
    "data_sorted.head()"
   ]
  },
  {
   "cell_type": "markdown",
   "id": "e442651e",
   "metadata": {},
   "source": [
    "### Removing Emoticons"
   ]
  },
  {
   "cell_type": "markdown",
   "id": "4ea25acf",
   "metadata": {},
   "source": [
    "def remove_emoticons(string):\n",
    "    EMOTICONS = {\n",
    "            u\":‑)\":\"Happy face or smiley\",\n",
    "            u\":)\":\"Happy face or smiley\",\n",
    "            u\":-]\":\"Happy face or smiley\",\n",
    "            u\":]\":\"Happy face or smiley\",\n",
    "            u\":-3\":\"Happy face smiley\",\n",
    "            u\":3\":\"Happy face smiley\",\n",
    "            u\":->\":\"Happy face smiley\",\n",
    "            u\":>\":\"Happy face smiley\",\n",
    "            u\"8-)\":\"Happy face smiley\",\n",
    "            u\":o)\":\"Happy face smiley\",\n",
    "            u\":-\":\"Happy face smiley\",\n",
    "            u\":}\":\"Happy face smiley\",\n",
    "            u\":-)\":\"Happy face smiley\",\n",
    "            u\":c)\":\"Happy face smiley\",\n",
    "            u\":^)\":\"Happy face smiley\",\n",
    "            u\"=]\":\"Happy face smiley\"\n",
    "            }\n",
    "    emoticon_pattern = re.compile(u'(' + u'|'.join(k for k in EMOTICONS) + u')') \n",
    "    return emoticon_pattern.sub(r'',text) \n",
    "\n",
    "data_sorted['message'] = data_sorted['message'].apply(remove_emoticons)\n",
    "data_sorted.head()            \n",
    " "
   ]
  },
  {
   "cell_type": "markdown",
   "id": "731d341c",
   "metadata": {},
   "source": [
    "EMOTICONS = {\n",
    "            u\":‑)\":\"Happy face or smiley\",\n",
    "            u\":)\":\"Happy face or smiley\",\n",
    "            u\":-]\":\"Happy face or smiley\",\n",
    "            u\":]\":\"Happy face or smiley\",\n",
    "            u\":-3\":\"Happy face smiley\",\n",
    "            u\":3\":\"Happy face smiley\",\n",
    "            u\":->\":\"Happy face smiley\",\n",
    "            u\":>\":\"Happy face smiley\",\n",
    "            u\"8-)\":\"Happy face smiley\",\n",
    "            u\":o)\":\"Happy face smiley\",\n",
    "            u\":-\":\"Happy face smiley\",\n",
    "            u\":}\":\"Happy face smiley\",\n",
    "            u\":-)\":\"Happy face smiley\",\n",
    "            u\":c)\":\"Happy face smiley\",\n",
    "            u\":^)\":\"Happy face smiley\",\n",
    "            u\"=]\":\"Happy face smiley\"\n",
    "            }\n",
    "\n",
    "def convert_emoticons(text):\n",
    "    for emot in EMOTICONS:\n",
    "        text = re.sub(u'('+emot+')', \"_\".join(EMOTICONS[emot].replace(\",\",\"\").split()), text)\n",
    "    return text\n",
    "\n",
    "\n",
    "data_sorted['message'] = data_sorted['message'].apply(convert_emoticons)\n",
    "data_sorted"
   ]
  },
  {
   "cell_type": "markdown",
   "id": "56ae0f7f",
   "metadata": {},
   "source": [
    "### Tokenizerization"
   ]
  },
  {
   "cell_type": "code",
   "execution_count": 17,
   "id": "a5576cd4",
   "metadata": {},
   "outputs": [
    {
     "data": {
      "text/html": [
       "<div>\n",
       "<style scoped>\n",
       "    .dataframe tbody tr th:only-of-type {\n",
       "        vertical-align: middle;\n",
       "    }\n",
       "\n",
       "    .dataframe tbody tr th {\n",
       "        vertical-align: top;\n",
       "    }\n",
       "\n",
       "    .dataframe thead th {\n",
       "        text-align: right;\n",
       "    }\n",
       "</style>\n",
       "<table border=\"1\" class=\"dataframe\">\n",
       "  <thead>\n",
       "    <tr style=\"text-align: right;\">\n",
       "      <th></th>\n",
       "      <th>message</th>\n",
       "      <th>sentiment</th>\n",
       "    </tr>\n",
       "    <tr>\n",
       "      <th>tweetid</th>\n",
       "      <th></th>\n",
       "      <th></th>\n",
       "    </tr>\n",
       "  </thead>\n",
       "  <tbody>\n",
       "    <tr>\n",
       "      <th>625221</th>\n",
       "      <td>[polyscimajor, epa, chief, doesnt, think, carb...</td>\n",
       "      <td>1</td>\n",
       "    </tr>\n",
       "    <tr>\n",
       "      <th>126103</th>\n",
       "      <td>[its, not, like, we, lack, evidence, of, anthr...</td>\n",
       "      <td>1</td>\n",
       "    </tr>\n",
       "    <tr>\n",
       "      <th>698562</th>\n",
       "      <td>[rt, rawstory, researchers, say, we, have, thr...</td>\n",
       "      <td>2</td>\n",
       "    </tr>\n",
       "    <tr>\n",
       "      <th>573736</th>\n",
       "      <td>[todayinmaker, wired, was, a, pivotal, year, i...</td>\n",
       "      <td>1</td>\n",
       "    </tr>\n",
       "    <tr>\n",
       "      <th>466954</th>\n",
       "      <td>[rt, soynoviodetodas, its, and, a, racist, sex...</td>\n",
       "      <td>1</td>\n",
       "    </tr>\n",
       "    <tr>\n",
       "      <th>...</th>\n",
       "      <td>...</td>\n",
       "      <td>...</td>\n",
       "    </tr>\n",
       "    <tr>\n",
       "      <th>22001</th>\n",
       "      <td>[rt, ezlusztig, they, took, down, the, materia...</td>\n",
       "      <td>1</td>\n",
       "    </tr>\n",
       "    <tr>\n",
       "      <th>17856</th>\n",
       "      <td>[rt, washingtonpost, how, climate, change, cou...</td>\n",
       "      <td>2</td>\n",
       "    </tr>\n",
       "    <tr>\n",
       "      <th>384248</th>\n",
       "      <td>[notiven, rt, nytimesworld, what, does, trump,...</td>\n",
       "      <td>0</td>\n",
       "    </tr>\n",
       "    <tr>\n",
       "      <th>819732</th>\n",
       "      <td>[rt, sarasmiles, hey, liberals, the, climate, ...</td>\n",
       "      <td>-1</td>\n",
       "    </tr>\n",
       "    <tr>\n",
       "      <th>806319</th>\n",
       "      <td>[rt, chetcannon, kurteichenwalds, climate, cha...</td>\n",
       "      <td>0</td>\n",
       "    </tr>\n",
       "  </tbody>\n",
       "</table>\n",
       "<p>15819 rows × 2 columns</p>\n",
       "</div>"
      ],
      "text/plain": [
       "                                                   message  sentiment\n",
       "tweetid                                                              \n",
       "625221   [polyscimajor, epa, chief, doesnt, think, carb...          1\n",
       "126103   [its, not, like, we, lack, evidence, of, anthr...          1\n",
       "698562   [rt, rawstory, researchers, say, we, have, thr...          2\n",
       "573736   [todayinmaker, wired, was, a, pivotal, year, i...          1\n",
       "466954   [rt, soynoviodetodas, its, and, a, racist, sex...          1\n",
       "...                                                    ...        ...\n",
       "22001    [rt, ezlusztig, they, took, down, the, materia...          1\n",
       "17856    [rt, washingtonpost, how, climate, change, cou...          2\n",
       "384248   [notiven, rt, nytimesworld, what, does, trump,...          0\n",
       "819732   [rt, sarasmiles, hey, liberals, the, climate, ...         -1\n",
       "806319   [rt, chetcannon, kurteichenwalds, climate, cha...          0\n",
       "\n",
       "[15819 rows x 2 columns]"
      ]
     },
     "execution_count": 17,
     "metadata": {},
     "output_type": "execute_result"
    }
   ],
   "source": [
    "#tokenisation to treat each word with respect\n",
    "tokeniser = TreebankWordTokenizer()\n",
    "data_sorted['message'] = data_sorted['message'].apply(tokeniser.tokenize)\n",
    "\n",
    "data_sorted"
   ]
  },
  {
   "cell_type": "markdown",
   "id": "8b05361a",
   "metadata": {},
   "source": [
    "### Removing Stop Words"
   ]
  },
  {
   "cell_type": "code",
   "execution_count": 18,
   "id": "ee0c89c2",
   "metadata": {},
   "outputs": [
    {
     "data": {
      "text/html": [
       "<div>\n",
       "<style scoped>\n",
       "    .dataframe tbody tr th:only-of-type {\n",
       "        vertical-align: middle;\n",
       "    }\n",
       "\n",
       "    .dataframe tbody tr th {\n",
       "        vertical-align: top;\n",
       "    }\n",
       "\n",
       "    .dataframe thead th {\n",
       "        text-align: right;\n",
       "    }\n",
       "</style>\n",
       "<table border=\"1\" class=\"dataframe\">\n",
       "  <thead>\n",
       "    <tr style=\"text-align: right;\">\n",
       "      <th></th>\n",
       "      <th>message</th>\n",
       "      <th>sentiment</th>\n",
       "    </tr>\n",
       "    <tr>\n",
       "      <th>tweetid</th>\n",
       "      <th></th>\n",
       "      <th></th>\n",
       "    </tr>\n",
       "  </thead>\n",
       "  <tbody>\n",
       "    <tr>\n",
       "      <th>625221</th>\n",
       "      <td>[polyscimajor, epa, chief, doesnt, think, carb...</td>\n",
       "      <td>1</td>\n",
       "    </tr>\n",
       "    <tr>\n",
       "      <th>126103</th>\n",
       "      <td>[like, lack, evidence, anthropogenic, global, ...</td>\n",
       "      <td>1</td>\n",
       "    </tr>\n",
       "    <tr>\n",
       "      <th>698562</th>\n",
       "      <td>[rt, rawstory, researchers, say, three, years,...</td>\n",
       "      <td>2</td>\n",
       "    </tr>\n",
       "    <tr>\n",
       "      <th>573736</th>\n",
       "      <td>[todayinmaker, wired, pivotal, year, war, clim...</td>\n",
       "      <td>1</td>\n",
       "    </tr>\n",
       "    <tr>\n",
       "      <th>466954</th>\n",
       "      <td>[rt, soynoviodetodas, racist, sexist, climate,...</td>\n",
       "      <td>1</td>\n",
       "    </tr>\n",
       "    <tr>\n",
       "      <th>...</th>\n",
       "      <td>...</td>\n",
       "      <td>...</td>\n",
       "    </tr>\n",
       "    <tr>\n",
       "      <th>22001</th>\n",
       "      <td>[rt, ezlusztig, took, material, global, warmin...</td>\n",
       "      <td>1</td>\n",
       "    </tr>\n",
       "    <tr>\n",
       "      <th>17856</th>\n",
       "      <td>[rt, washingtonpost, climate, change, could, b...</td>\n",
       "      <td>2</td>\n",
       "    </tr>\n",
       "    <tr>\n",
       "      <th>384248</th>\n",
       "      <td>[notiven, rt, nytimesworld, trump, actually, b...</td>\n",
       "      <td>0</td>\n",
       "    </tr>\n",
       "    <tr>\n",
       "      <th>819732</th>\n",
       "      <td>[rt, sarasmiles, hey, liberals, climate, chang...</td>\n",
       "      <td>-1</td>\n",
       "    </tr>\n",
       "    <tr>\n",
       "      <th>806319</th>\n",
       "      <td>[rt, chetcannon, kurteichenwalds, climate, cha...</td>\n",
       "      <td>0</td>\n",
       "    </tr>\n",
       "  </tbody>\n",
       "</table>\n",
       "<p>15819 rows × 2 columns</p>\n",
       "</div>"
      ],
      "text/plain": [
       "                                                   message  sentiment\n",
       "tweetid                                                              \n",
       "625221   [polyscimajor, epa, chief, doesnt, think, carb...          1\n",
       "126103   [like, lack, evidence, anthropogenic, global, ...          1\n",
       "698562   [rt, rawstory, researchers, say, three, years,...          2\n",
       "573736   [todayinmaker, wired, pivotal, year, war, clim...          1\n",
       "466954   [rt, soynoviodetodas, racist, sexist, climate,...          1\n",
       "...                                                    ...        ...\n",
       "22001    [rt, ezlusztig, took, material, global, warmin...          1\n",
       "17856    [rt, washingtonpost, climate, change, could, b...          2\n",
       "384248   [notiven, rt, nytimesworld, trump, actually, b...          0\n",
       "819732   [rt, sarasmiles, hey, liberals, climate, chang...         -1\n",
       "806319   [rt, chetcannon, kurteichenwalds, climate, cha...          0\n",
       "\n",
       "[15819 rows x 2 columns]"
      ]
     },
     "execution_count": 18,
     "metadata": {},
     "output_type": "execute_result"
    }
   ],
   "source": [
    "#remove standard stop words, which are words of insignificance\n",
    "def remove_stop_words(tokens):    \n",
    "    return [t for t in tokens if t not in stopwords.words('english')]\n",
    "\n",
    "data_sorted['message'] = data_sorted['message'].apply(remove_stop_words)\n",
    "data_sorted"
   ]
  },
  {
   "cell_type": "markdown",
   "id": "a934c345",
   "metadata": {},
   "source": [
    "### Stemmer"
   ]
  },
  {
   "cell_type": "code",
   "execution_count": 19,
   "id": "cc50910c",
   "metadata": {
    "execution": {
     "iopub.execute_input": "2022-11-28T15:19:41.570671Z",
     "iopub.status.busy": "2022-11-28T15:19:41.570247Z",
     "iopub.status.idle": "2022-11-28T15:19:41.856920Z",
     "shell.execute_reply": "2022-11-28T15:19:41.855719Z"
    },
    "papermill": {
     "duration": 0.404003,
     "end_time": "2022-11-28T15:19:41.863354",
     "exception": false,
     "start_time": "2022-11-28T15:19:41.459351",
     "status": "completed"
    },
    "tags": []
   },
   "outputs": [
    {
     "data": {
      "text/html": [
       "<div>\n",
       "<style scoped>\n",
       "    .dataframe tbody tr th:only-of-type {\n",
       "        vertical-align: middle;\n",
       "    }\n",
       "\n",
       "    .dataframe tbody tr th {\n",
       "        vertical-align: top;\n",
       "    }\n",
       "\n",
       "    .dataframe thead th {\n",
       "        text-align: right;\n",
       "    }\n",
       "</style>\n",
       "<table border=\"1\" class=\"dataframe\">\n",
       "  <thead>\n",
       "    <tr style=\"text-align: right;\">\n",
       "      <th></th>\n",
       "      <th>message</th>\n",
       "      <th>sentiment</th>\n",
       "    </tr>\n",
       "    <tr>\n",
       "      <th>tweetid</th>\n",
       "      <th></th>\n",
       "      <th></th>\n",
       "    </tr>\n",
       "  </thead>\n",
       "  <tbody>\n",
       "    <tr>\n",
       "      <th>625221</th>\n",
       "      <td>[polyscimajor, epa, chief, doesnt, think, carb...</td>\n",
       "      <td>1</td>\n",
       "    </tr>\n",
       "    <tr>\n",
       "      <th>126103</th>\n",
       "      <td>[like, lack, evid, anthropogen, global, warm]</td>\n",
       "      <td>1</td>\n",
       "    </tr>\n",
       "    <tr>\n",
       "      <th>698562</th>\n",
       "      <td>[rt, rawstori, research, say, three, year, act...</td>\n",
       "      <td>2</td>\n",
       "    </tr>\n",
       "    <tr>\n",
       "      <th>573736</th>\n",
       "      <td>[todayinmak, wire, pivot, year, war, climat, c...</td>\n",
       "      <td>1</td>\n",
       "    </tr>\n",
       "    <tr>\n",
       "      <th>466954</th>\n",
       "      <td>[rt, soynoviodetoda, racist, sexist, climat, c...</td>\n",
       "      <td>1</td>\n",
       "    </tr>\n",
       "    <tr>\n",
       "      <th>...</th>\n",
       "      <td>...</td>\n",
       "      <td>...</td>\n",
       "    </tr>\n",
       "    <tr>\n",
       "      <th>22001</th>\n",
       "      <td>[rt, ezlusztig, took, materi, global, warm, lg...</td>\n",
       "      <td>1</td>\n",
       "    </tr>\n",
       "    <tr>\n",
       "      <th>17856</th>\n",
       "      <td>[rt, washingtonpost, climat, chang, could, bre...</td>\n",
       "      <td>2</td>\n",
       "    </tr>\n",
       "    <tr>\n",
       "      <th>384248</th>\n",
       "      <td>[notiven, rt, nytimesworld, trump, actual, bel...</td>\n",
       "      <td>0</td>\n",
       "    </tr>\n",
       "    <tr>\n",
       "      <th>819732</th>\n",
       "      <td>[rt, sarasmil, hey, liber, climat, chang, crap...</td>\n",
       "      <td>-1</td>\n",
       "    </tr>\n",
       "    <tr>\n",
       "      <th>806319</th>\n",
       "      <td>[rt, chetcannon, kurteichenwald, climat, chang...</td>\n",
       "      <td>0</td>\n",
       "    </tr>\n",
       "  </tbody>\n",
       "</table>\n",
       "<p>15819 rows × 2 columns</p>\n",
       "</div>"
      ],
      "text/plain": [
       "                                                   message  sentiment\n",
       "tweetid                                                              \n",
       "625221   [polyscimajor, epa, chief, doesnt, think, carb...          1\n",
       "126103       [like, lack, evid, anthropogen, global, warm]          1\n",
       "698562   [rt, rawstori, research, say, three, year, act...          2\n",
       "573736   [todayinmak, wire, pivot, year, war, climat, c...          1\n",
       "466954   [rt, soynoviodetoda, racist, sexist, climat, c...          1\n",
       "...                                                    ...        ...\n",
       "22001    [rt, ezlusztig, took, materi, global, warm, lg...          1\n",
       "17856    [rt, washingtonpost, climat, chang, could, bre...          2\n",
       "384248   [notiven, rt, nytimesworld, trump, actual, bel...          0\n",
       "819732   [rt, sarasmil, hey, liber, climat, chang, crap...         -1\n",
       "806319   [rt, chetcannon, kurteichenwald, climat, chang...          0\n",
       "\n",
       "[15819 rows x 2 columns]"
      ]
     },
     "execution_count": 19,
     "metadata": {},
     "output_type": "execute_result"
    }
   ],
   "source": [
    "#stem to transform to the root word, and have more common words\n",
    "stemmer = SnowballStemmer('english')\n",
    "\n",
    "def mbti_stemmer(words, stemmer):\n",
    "    return [stemmer.stem(word) for word in words]\n",
    "\n",
    "data_sorted['message'] = data_sorted['message'].apply(mbti_stemmer, args=(stemmer, ))\n",
    "data_sorted"
   ]
  },
  {
   "cell_type": "markdown",
   "id": "62c4996b",
   "metadata": {
    "execution": {
     "iopub.execute_input": "2022-11-28T15:19:43.856279Z",
     "iopub.status.busy": "2022-11-28T15:19:43.855687Z",
     "iopub.status.idle": "2022-11-28T15:19:47.640001Z",
     "shell.execute_reply": "2022-11-28T15:19:47.638509Z"
    },
    "papermill": {
     "duration": 3.901759,
     "end_time": "2022-11-28T15:19:47.642397",
     "exception": false,
     "start_time": "2022-11-28T15:19:43.740638",
     "status": "completed"
    },
    "tags": []
   },
   "source": [
    "### Lemmatization "
   ]
  },
  {
   "cell_type": "code",
   "execution_count": 20,
   "id": "e495cb57",
   "metadata": {
    "execution": {
     "iopub.execute_input": "2022-11-28T15:19:47.858966Z",
     "iopub.status.busy": "2022-11-28T15:19:47.858543Z",
     "iopub.status.idle": "2022-11-28T15:19:51.096017Z",
     "shell.execute_reply": "2022-11-28T15:19:51.094836Z"
    },
    "papermill": {
     "duration": 3.348943,
     "end_time": "2022-11-28T15:19:51.098635",
     "exception": false,
     "start_time": "2022-11-28T15:19:47.749692",
     "status": "completed"
    },
    "tags": []
   },
   "outputs": [
    {
     "data": {
      "text/html": [
       "<div>\n",
       "<style scoped>\n",
       "    .dataframe tbody tr th:only-of-type {\n",
       "        vertical-align: middle;\n",
       "    }\n",
       "\n",
       "    .dataframe tbody tr th {\n",
       "        vertical-align: top;\n",
       "    }\n",
       "\n",
       "    .dataframe thead th {\n",
       "        text-align: right;\n",
       "    }\n",
       "</style>\n",
       "<table border=\"1\" class=\"dataframe\">\n",
       "  <thead>\n",
       "    <tr style=\"text-align: right;\">\n",
       "      <th></th>\n",
       "      <th>message</th>\n",
       "      <th>sentiment</th>\n",
       "    </tr>\n",
       "    <tr>\n",
       "      <th>tweetid</th>\n",
       "      <th></th>\n",
       "      <th></th>\n",
       "    </tr>\n",
       "  </thead>\n",
       "  <tbody>\n",
       "    <tr>\n",
       "      <th>625221</th>\n",
       "      <td>[polyscimajor, epa, chief, doesnt, think, carb...</td>\n",
       "      <td>1</td>\n",
       "    </tr>\n",
       "    <tr>\n",
       "      <th>126103</th>\n",
       "      <td>[like, lack, evid, anthropogen, global, warm]</td>\n",
       "      <td>1</td>\n",
       "    </tr>\n",
       "    <tr>\n",
       "      <th>698562</th>\n",
       "      <td>[rt, rawstori, research, say, three, year, act...</td>\n",
       "      <td>2</td>\n",
       "    </tr>\n",
       "    <tr>\n",
       "      <th>573736</th>\n",
       "      <td>[todayinmak, wire, pivot, year, war, climat, c...</td>\n",
       "      <td>1</td>\n",
       "    </tr>\n",
       "    <tr>\n",
       "      <th>466954</th>\n",
       "      <td>[rt, soynoviodetoda, racist, sexist, climat, c...</td>\n",
       "      <td>1</td>\n",
       "    </tr>\n",
       "    <tr>\n",
       "      <th>...</th>\n",
       "      <td>...</td>\n",
       "      <td>...</td>\n",
       "    </tr>\n",
       "    <tr>\n",
       "      <th>22001</th>\n",
       "      <td>[rt, ezlusztig, took, materi, global, warm, lg...</td>\n",
       "      <td>1</td>\n",
       "    </tr>\n",
       "    <tr>\n",
       "      <th>17856</th>\n",
       "      <td>[rt, washingtonpost, climat, chang, could, bre...</td>\n",
       "      <td>2</td>\n",
       "    </tr>\n",
       "    <tr>\n",
       "      <th>384248</th>\n",
       "      <td>[notiven, rt, nytimesworld, trump, actual, bel...</td>\n",
       "      <td>0</td>\n",
       "    </tr>\n",
       "    <tr>\n",
       "      <th>819732</th>\n",
       "      <td>[rt, sarasmil, hey, liber, climat, chang, crap...</td>\n",
       "      <td>-1</td>\n",
       "    </tr>\n",
       "    <tr>\n",
       "      <th>806319</th>\n",
       "      <td>[rt, chetcannon, kurteichenwald, climat, chang...</td>\n",
       "      <td>0</td>\n",
       "    </tr>\n",
       "  </tbody>\n",
       "</table>\n",
       "<p>15819 rows × 2 columns</p>\n",
       "</div>"
      ],
      "text/plain": [
       "                                                   message  sentiment\n",
       "tweetid                                                              \n",
       "625221   [polyscimajor, epa, chief, doesnt, think, carb...          1\n",
       "126103       [like, lack, evid, anthropogen, global, warm]          1\n",
       "698562   [rt, rawstori, research, say, three, year, act...          2\n",
       "573736   [todayinmak, wire, pivot, year, war, climat, c...          1\n",
       "466954   [rt, soynoviodetoda, racist, sexist, climat, c...          1\n",
       "...                                                    ...        ...\n",
       "22001    [rt, ezlusztig, took, materi, global, warm, lg...          1\n",
       "17856    [rt, washingtonpost, climat, chang, could, bre...          2\n",
       "384248   [notiven, rt, nytimesworld, trump, actual, bel...          0\n",
       "819732   [rt, sarasmil, hey, liber, climat, chang, crap...         -1\n",
       "806319   [rt, chetcannon, kurteichenwald, climat, chang...          0\n",
       "\n",
       "[15819 rows x 2 columns]"
      ]
     },
     "execution_count": 20,
     "metadata": {},
     "output_type": "execute_result"
    }
   ],
   "source": [
    "#lemmatization to lessen unique words even more by changing tenses of words and plurals\n",
    "lemmatizer = WordNetLemmatizer()\n",
    "\n",
    "def mbti_lemma(words, lemmatizer):\n",
    "    return [lemmatizer.lemmatize(word) for word in words]\n",
    "\n",
    "data_sorted['message'] = data_sorted['message'].apply(mbti_lemma, args=(lemmatizer, ))\n",
    "\n",
    "data_sorted"
   ]
  },
  {
   "cell_type": "markdown",
   "id": "64ff9071",
   "metadata": {},
   "source": [
    "## 5. Feature Engineering\n",
    "[Back to Table of Contents](#Table-of-Contents)"
   ]
  },
  {
   "cell_type": "markdown",
   "id": "a0b67a33",
   "metadata": {},
   "source": [
    "### Bag of Words"
   ]
  },
  {
   "cell_type": "code",
   "execution_count": null,
   "id": "e6b01f09",
   "metadata": {},
   "outputs": [],
   "source": []
  },
  {
   "cell_type": "markdown",
   "id": "3d913bb0",
   "metadata": {},
   "source": [
    "### N-grams"
   ]
  },
  {
   "cell_type": "code",
   "execution_count": null,
   "id": "0eabc762",
   "metadata": {},
   "outputs": [],
   "source": []
  },
  {
   "cell_type": "markdown",
   "id": "abe1ef3d",
   "metadata": {},
   "source": [
    "## 6. Modelling\n",
    "[Back to Table of Contents](#Table-of-Contents)"
   ]
  },
  {
   "cell_type": "code",
   "execution_count": null,
   "id": "eac3f033",
   "metadata": {},
   "outputs": [],
   "source": []
  },
  {
   "cell_type": "markdown",
   "id": "a9ebc33f",
   "metadata": {},
   "source": [
    "## 7. Conclusion\n",
    "[Back to Table of Contents](#Table-of-Contents)"
   ]
  },
  {
   "cell_type": "code",
   "execution_count": null,
   "id": "93e7ed41",
   "metadata": {},
   "outputs": [],
   "source": []
  }
 ],
 "metadata": {
  "kernelspec": {
   "display_name": "Python 3 (ipykernel)",
   "language": "python",
   "name": "python3"
  },
  "language_info": {
   "codemirror_mode": {
    "name": "ipython",
    "version": 3
   },
   "file_extension": ".py",
   "mimetype": "text/x-python",
   "name": "python",
   "nbconvert_exporter": "python",
   "pygments_lexer": "ipython3",
   "version": "3.9.12"
  },
  "papermill": {
   "default_parameters": {},
   "duration": 64.18422,
   "end_time": "2022-11-28T15:20:33.254982",
   "environment_variables": {},
   "exception": null,
   "input_path": "__notebook__.ipynb",
   "output_path": "__notebook__.ipynb",
   "parameters": {},
   "start_time": "2022-11-28T15:19:29.070762",
   "version": "2.3.4"
  },
  "vscode": {
   "interpreter": {
    "hash": "273172bc00e81328f93293c482ecb9c3b726a8720b42d3ecf1150ba287c5a794"
   }
  }
 },
 "nbformat": 4,
 "nbformat_minor": 5
}
