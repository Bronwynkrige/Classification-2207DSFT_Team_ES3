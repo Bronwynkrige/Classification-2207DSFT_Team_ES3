{
 "cells": [
  {
   "cell_type": "markdown",
   "id": "23aef5a7",
   "metadata": {},
   "source": [
    "# Classification Predict"
   ]
  },
  {
   "cell_type": "markdown",
   "id": "3111688a",
   "metadata": {},
   "source": [
    "## Table of Contents\n",
    "\n",
    "\n",
    "1. [Introduction](#1.-Introduction)\n",
    "    - Problem statement\n",
    "    - Objective\n",
    "    \n",
    "2. [Importing Packages](#2.-Importing-Packages)\n",
    "\n",
    "3. [Exploratory Data Analysis](#3.-Exploratory-Data-Analysis)\n",
    "    - Load Data \n",
    "    \n",
    "4. [Pre-processing](#4.-Pre-processing)\n",
    "    - [Removing the Noise](#Removing-the-Noise)\n",
    "       - Lowercasing the Data \n",
    "       - Removing Contractions\n",
    "       - Removing Punctuation\n",
    "       - Removing Numbers \n",
    "       - Removing Extra Space\n",
    "       - Replacing Repetition of punctuation\n",
    "       - Removing Emojis\n",
    "       - Removing Emoticons\n",
    "       - Removing Stop Words\n",
    "       \n",
    "    \n",
    "5. [Feature Engineering](#5.-Feature-Engineering)\n",
    "    - Bag of Words\n",
    "    - N-grams\n",
    "        \n",
    "6. [Modelling](#6.-Modelling)\n",
    "7. [Conclusion](#7.-Conclusion)"
   ]
  },
  {
   "cell_type": "markdown",
   "id": "c936fbe5",
   "metadata": {},
   "source": [
    "## 1. Introduction\n",
    "[Back to Table of Contents](#Table-of-Contents)"
   ]
  },
  {
   "cell_type": "markdown",
   "id": "411c83a4",
   "metadata": {},
   "source": [
    "###  Problem Statement"
   ]
  },
  {
   "cell_type": "markdown",
   "id": "09f142cb",
   "metadata": {},
   "source": [
    "Many companies would like to determine how their customers perceive climate change and whether or not they believe it is a real threat. \n",
    "Knowledge of this would add to their market research efforts in gauging how their product/service may be received.\n",
    "\n",
    "An accurate and robust solution to this problem would give the companies access to a broad understanding of consumer sentiment, spanning multiple demographic and geographics, as a result increasing companies' insights and informing future\n",
    "marketing strategies for the betterment of consumer experience and company performance.\n",
    "\n"
   ]
  },
  {
   "cell_type": "markdown",
   "id": "fa683f2b",
   "metadata": {},
   "source": [
    "### Objective"
   ]
  },
  {
   "cell_type": "markdown",
   "id": "cd3fe348",
   "metadata": {},
   "source": [
    "Building a Machine Learning model that is able to classify whether or not a person believes in climate change, based on their novel tweet data. The tweets belonging to any of the following class descriptions:\n",
    "\n",
    "2 News: the tweet links to factual news about climate change\n",
    "\n",
    "1 Pro: the tweet supports the belief of man-made climate change\n",
    "\n",
    "0 Neutral: the tweet neither supports nor refutes the belief of man-made climate change\n",
    "\n",
    "-1 Anti: the tweet does not believe in man-made climate change Variable definitions"
   ]
  },
  {
   "cell_type": "markdown",
   "id": "c91162e4",
   "metadata": {},
   "source": [
    "## 2. Importing Packages\n",
    "[Back to Table of Contents](#Table-of-Contents)"
   ]
  },
  {
   "cell_type": "code",
   "execution_count": 1,
   "id": "085b167c",
   "metadata": {
    "execution": {
     "iopub.execute_input": "2022-11-28T15:19:37.676891Z",
     "iopub.status.busy": "2022-11-28T15:19:37.675944Z",
     "iopub.status.idle": "2022-11-28T15:19:40.037958Z",
     "shell.execute_reply": "2022-11-28T15:19:40.036606Z"
    },
    "papermill": {
     "duration": 2.371747,
     "end_time": "2022-11-28T15:19:40.041545",
     "exception": false,
     "start_time": "2022-11-28T15:19:37.669798",
     "status": "completed"
    },
    "tags": []
   },
   "outputs": [
    {
     "name": "stderr",
     "output_type": "stream",
     "text": [
      "[nltk_data] Downloading package omw-1.4 to C:\\Users\\Sweet\n",
      "[nltk_data]     pea\\AppData\\Roaming\\nltk_data...\n",
      "[nltk_data]   Package omw-1.4 is already up-to-date!\n"
     ]
    }
   ],
   "source": [
    "import nltk\n",
    "import string\n",
    "from sklearn.feature_extraction.text import CountVectorizer\n",
    "from nltk import TreebankWordTokenizer, SnowballStemmer\n",
    "from nltk.corpus import stopwords\n",
    "from sklearn.feature_extraction.text import CountVectorizer\n",
    "from nltk.stem import WordNetLemmatizer\n",
    "nltk.download('omw-1.4')\n",
    "import seaborn as sns\n",
    "import matplotlib.pyplot as plt\n",
    "import numpy as np\n",
    "import pandas as pd\n",
    "import re\n",
    "import string\n",
    "import contractions\n",
    "import sys  \n",
    "import warnings\n",
    "from pandas.core.common import SettingWithCopyWarning\n"
   ]
  },
  {
   "cell_type": "markdown",
   "id": "41669775",
   "metadata": {},
   "source": [
    "## 3. Exploratory Data Analysis\n",
    "[Back to Table of Contents](#Table-of-Contents)"
   ]
  },
  {
   "cell_type": "markdown",
   "id": "39831b46",
   "metadata": {},
   "source": [
    "### Load data"
   ]
  },
  {
   "cell_type": "code",
   "execution_count": 2,
   "id": "ca86340b",
   "metadata": {},
   "outputs": [
    {
     "data": {
      "text/html": [
       "<div>\n",
       "<style scoped>\n",
       "    .dataframe tbody tr th:only-of-type {\n",
       "        vertical-align: middle;\n",
       "    }\n",
       "\n",
       "    .dataframe tbody tr th {\n",
       "        vertical-align: top;\n",
       "    }\n",
       "\n",
       "    .dataframe thead th {\n",
       "        text-align: right;\n",
       "    }\n",
       "</style>\n",
       "<table border=\"1\" class=\"dataframe\">\n",
       "  <thead>\n",
       "    <tr style=\"text-align: right;\">\n",
       "      <th></th>\n",
       "      <th>sentiment</th>\n",
       "      <th>message</th>\n",
       "      <th>tweetid</th>\n",
       "    </tr>\n",
       "  </thead>\n",
       "  <tbody>\n",
       "    <tr>\n",
       "      <th>0</th>\n",
       "      <td>1</td>\n",
       "      <td>PolySciMajor EPA chief doesn't think carbon di...</td>\n",
       "      <td>625221</td>\n",
       "    </tr>\n",
       "    <tr>\n",
       "      <th>1</th>\n",
       "      <td>1</td>\n",
       "      <td>It's not like we lack evidence of anthropogeni...</td>\n",
       "      <td>126103</td>\n",
       "    </tr>\n",
       "    <tr>\n",
       "      <th>2</th>\n",
       "      <td>2</td>\n",
       "      <td>RT @RawStory: Researchers say we have three ye...</td>\n",
       "      <td>698562</td>\n",
       "    </tr>\n",
       "  </tbody>\n",
       "</table>\n",
       "</div>"
      ],
      "text/plain": [
       "   sentiment                                            message  tweetid\n",
       "0          1  PolySciMajor EPA chief doesn't think carbon di...   625221\n",
       "1          1  It's not like we lack evidence of anthropogeni...   126103\n",
       "2          2  RT @RawStory: Researchers say we have three ye...   698562"
      ]
     },
     "execution_count": 2,
     "metadata": {},
     "output_type": "execute_result"
    }
   ],
   "source": [
    "# Display data\n",
    "data = pd.read_csv(\"train.csv\")\n",
    "data.head(3)"
   ]
  },
  {
   "cell_type": "code",
   "execution_count": 3,
   "id": "074d7f11",
   "metadata": {},
   "outputs": [
    {
     "name": "stdout",
     "output_type": "stream",
     "text": [
      "total number of sentiments: 15819\n",
      "counts of the respective sentiments: {1: 8530, 2: 3640, 0: 2353, -1: 1296}\n"
     ]
    }
   ],
   "source": [
    "#see the min, max and mode(from dictionary) category of the sentiments\n",
    "data_sorted = data[[\"message\", \"sentiment\"]]\n",
    "\n",
    "dict_ = {}\n",
    "\n",
    "for i in data_sorted[\"sentiment\"]:\n",
    "    if i in dict_:\n",
    "        dict_[i] += 1\n",
    "    else:\n",
    "        dict_[i] = 1\n",
    "\n",
    "print(\"total number of sentiments:\", len(data_sorted))\n",
    "print(\"counts of the respective sentiments:\", dict_)"
   ]
  },
  {
   "cell_type": "code",
   "execution_count": 4,
   "id": "741c520d",
   "metadata": {},
   "outputs": [
    {
     "name": "stdout",
     "output_type": "stream",
     "text": [
      "skewness:  -0.6839586535115556\n",
      "kurtosis:  0.12297618882173778\n"
     ]
    }
   ],
   "source": [
    "#the skewness and kurtosis(lack of ourtliers) of the sentiments\n",
    "print(\"skewness: \", data_sorted[\"sentiment\"].skew())\n",
    "print(\"kurtosis: \",data_sorted[\"sentiment\"].kurtosis())"
   ]
  },
  {
   "cell_type": "code",
   "execution_count": 5,
   "id": "baf3b899",
   "metadata": {},
   "outputs": [
    {
     "data": {
      "text/plain": [
       "Text(0.5, 1.0, 'Distribution of Sentiments')"
      ]
     },
     "execution_count": 5,
     "metadata": {},
     "output_type": "execute_result"
    },
    {
     "data": {
      "image/png": "[encoded data removed]",
      "text/plain": [
       "<Figure size 432x288 with 1 Axes>"
      ]
     },
     "metadata": {
      "needs_background": "light"
     },
     "output_type": "display_data"
    }
   ],
   "source": [
    "#the frequency distribution of the sentiments\n",
    "#Thibello\n",
    "sns.countplot(x = 'sentiment', data = data_sorted, palette=\"hls\")\n",
    "plt.title(\"Distribution of Sentiments\")"
   ]
  },
  {
   "cell_type": "code",
   "execution_count": 6,
   "id": "5671e07a",
   "metadata": {},
   "outputs": [
    {
     "name": "stdout",
     "output_type": "stream",
     "text": [
      "punctuations present in the tweets: 1440\n",
      "numbers present in the tweets: 1111\n"
     ]
    }
   ],
   "source": [
    "#counting the number of respective impurities\n",
    "\n",
    "punctuations = 0\n",
    "numbers = 0\n",
    "\n",
    "for i in data_sorted[\"message\"]:\n",
    "    for k in i.split():\n",
    "        if k in string.punctuation:\n",
    "            punctuations+=1\n",
    "        if k.isdigit():\n",
    "            numbers += 1\n",
    "print(\"punctuations present in the tweets:\", punctuations)\n",
    "print(\"numbers present in the tweets:\", numbers)\n"
   ]
  },
  {
   "cell_type": "markdown",
   "id": "f01f02b4",
   "metadata": {},
   "source": [
    "## 4. Pre-processing\n",
    "[Back to Table of Contents](#Table-of-Contents)"
   ]
  },
  {
   "cell_type": "markdown",
   "id": "088b1634",
   "metadata": {},
   "source": [
    "### Revise data "
   ]
  },
  {
   "cell_type": "code",
   "execution_count": 7,
   "id": "d28136a2",
   "metadata": {
    "execution": {
     "iopub.execute_input": "2022-11-28T15:19:40.061702Z",
     "iopub.status.busy": "2022-11-28T15:19:40.061313Z",
     "iopub.status.idle": "2022-11-28T15:19:40.218017Z",
     "shell.execute_reply": "2022-11-28T15:19:40.216968Z"
    },
    "papermill": {
     "duration": 0.165336,
     "end_time": "2022-11-28T15:19:40.220589",
     "exception": false,
     "start_time": "2022-11-28T15:19:40.055253",
     "status": "completed"
    },
    "tags": []
   },
   "outputs": [
    {
     "data": {
      "text/html": [
       "<div>\n",
       "<style scoped>\n",
       "    .dataframe tbody tr th:only-of-type {\n",
       "        vertical-align: middle;\n",
       "    }\n",
       "\n",
       "    .dataframe tbody tr th {\n",
       "        vertical-align: top;\n",
       "    }\n",
       "\n",
       "    .dataframe thead th {\n",
       "        text-align: right;\n",
       "    }\n",
       "</style>\n",
       "<table border=\"1\" class=\"dataframe\">\n",
       "  <thead>\n",
       "    <tr style=\"text-align: right;\">\n",
       "      <th></th>\n",
       "      <th>sentiment</th>\n",
       "      <th>message</th>\n",
       "    </tr>\n",
       "    <tr>\n",
       "      <th>tweetid</th>\n",
       "      <th></th>\n",
       "      <th></th>\n",
       "    </tr>\n",
       "  </thead>\n",
       "  <tbody>\n",
       "    <tr>\n",
       "      <th>625221</th>\n",
       "      <td>1</td>\n",
       "      <td>PolySciMajor EPA chief doesn't think carbon di...</td>\n",
       "    </tr>\n",
       "    <tr>\n",
       "      <th>126103</th>\n",
       "      <td>1</td>\n",
       "      <td>It's not like we lack evidence of anthropogeni...</td>\n",
       "    </tr>\n",
       "    <tr>\n",
       "      <th>698562</th>\n",
       "      <td>2</td>\n",
       "      <td>RT @RawStory: Researchers say we have three ye...</td>\n",
       "    </tr>\n",
       "  </tbody>\n",
       "</table>\n",
       "</div>"
      ],
      "text/plain": [
       "         sentiment                                            message\n",
       "tweetid                                                              \n",
       "625221           1  PolySciMajor EPA chief doesn't think carbon di...\n",
       "126103           1  It's not like we lack evidence of anthropogeni...\n",
       "698562           2  RT @RawStory: Researchers say we have three ye..."
      ]
     },
     "execution_count": 7,
     "metadata": {},
     "output_type": "execute_result"
    }
   ],
   "source": [
    "#making the tweetid the index\n",
    "data = pd.read_csv(\"train.csv\", index_col = \"tweetid\")\n",
    "data.head(3)\n"
   ]
  },
  {
   "cell_type": "code",
   "execution_count": 8,
   "id": "ffc0477f",
   "metadata": {
    "execution": {
     "iopub.execute_input": "2022-11-28T15:19:40.244946Z",
     "iopub.status.busy": "2022-11-28T15:19:40.243923Z",
     "iopub.status.idle": "2022-11-28T15:19:40.413307Z",
     "shell.execute_reply": "2022-11-28T15:19:40.412462Z"
    },
    "papermill": {
     "duration": 0.348007,
     "end_time": "2022-11-28T15:19:40.586043",
     "exception": false,
     "start_time": "2022-11-28T15:19:40.238036",
     "status": "completed"
    },
    "tags": []
   },
   "outputs": [
    {
     "data": {
      "text/html": [
       "<div>\n",
       "<style scoped>\n",
       "    .dataframe tbody tr th:only-of-type {\n",
       "        vertical-align: middle;\n",
       "    }\n",
       "\n",
       "    .dataframe tbody tr th {\n",
       "        vertical-align: top;\n",
       "    }\n",
       "\n",
       "    .dataframe thead th {\n",
       "        text-align: right;\n",
       "    }\n",
       "</style>\n",
       "<table border=\"1\" class=\"dataframe\">\n",
       "  <thead>\n",
       "    <tr style=\"text-align: right;\">\n",
       "      <th></th>\n",
       "      <th>message</th>\n",
       "      <th>sentiment</th>\n",
       "    </tr>\n",
       "    <tr>\n",
       "      <th>tweetid</th>\n",
       "      <th></th>\n",
       "      <th></th>\n",
       "    </tr>\n",
       "  </thead>\n",
       "  <tbody>\n",
       "    <tr>\n",
       "      <th>625221</th>\n",
       "      <td>PolySciMajor EPA chief doesn't think carbon di...</td>\n",
       "      <td>1</td>\n",
       "    </tr>\n",
       "    <tr>\n",
       "      <th>126103</th>\n",
       "      <td>It's not like we lack evidence of anthropogeni...</td>\n",
       "      <td>1</td>\n",
       "    </tr>\n",
       "    <tr>\n",
       "      <th>698562</th>\n",
       "      <td>RT @RawStory: Researchers say we have three ye...</td>\n",
       "      <td>2</td>\n",
       "    </tr>\n",
       "  </tbody>\n",
       "</table>\n",
       "</div>"
      ],
      "text/plain": [
       "                                                   message  sentiment\n",
       "tweetid                                                              \n",
       "625221   PolySciMajor EPA chief doesn't think carbon di...          1\n",
       "126103   It's not like we lack evidence of anthropogeni...          1\n",
       "698562   RT @RawStory: Researchers say we have three ye...          2"
      ]
     },
     "execution_count": 8,
     "metadata": {},
     "output_type": "execute_result"
    }
   ],
   "source": [
    "#rearrange the columns for clarity\n",
    "data_sorted = data[[\"message\", \"sentiment\"]]\n",
    "data_sorted.head(3)"
   ]
  },
  {
   "cell_type": "markdown",
   "id": "f6760874",
   "metadata": {},
   "source": [
    "## Removing the Noise"
   ]
  },
  {
   "cell_type": "markdown",
   "id": "93ea83d1",
   "metadata": {},
   "source": [
    "### Lowercasing the data"
   ]
  },
  {
   "cell_type": "code",
   "execution_count": 9,
   "id": "4840213f",
   "metadata": {},
   "outputs": [
    {
     "data": {
      "text/html": [
       "<div>\n",
       "<style scoped>\n",
       "    .dataframe tbody tr th:only-of-type {\n",
       "        vertical-align: middle;\n",
       "    }\n",
       "\n",
       "    .dataframe tbody tr th {\n",
       "        vertical-align: top;\n",
       "    }\n",
       "\n",
       "    .dataframe thead th {\n",
       "        text-align: right;\n",
       "    }\n",
       "</style>\n",
       "<table border=\"1\" class=\"dataframe\">\n",
       "  <thead>\n",
       "    <tr style=\"text-align: right;\">\n",
       "      <th></th>\n",
       "      <th>message</th>\n",
       "      <th>sentiment</th>\n",
       "    </tr>\n",
       "    <tr>\n",
       "      <th>tweetid</th>\n",
       "      <th></th>\n",
       "      <th></th>\n",
       "    </tr>\n",
       "  </thead>\n",
       "  <tbody>\n",
       "    <tr>\n",
       "      <th>625221</th>\n",
       "      <td>polyscimajor epa chief doesn't think carbon di...</td>\n",
       "      <td>1</td>\n",
       "    </tr>\n",
       "    <tr>\n",
       "      <th>126103</th>\n",
       "      <td>it's not like we lack evidence of anthropogeni...</td>\n",
       "      <td>1</td>\n",
       "    </tr>\n",
       "    <tr>\n",
       "      <th>698562</th>\n",
       "      <td>rt @rawstory: researchers say we have three ye...</td>\n",
       "      <td>2</td>\n",
       "    </tr>\n",
       "  </tbody>\n",
       "</table>\n",
       "</div>"
      ],
      "text/plain": [
       "                                                   message  sentiment\n",
       "tweetid                                                              \n",
       "625221   polyscimajor epa chief doesn't think carbon di...          1\n",
       "126103   it's not like we lack evidence of anthropogeni...          1\n",
       "698562   rt @rawstory: researchers say we have three ye...          2"
      ]
     },
     "execution_count": 9,
     "metadata": {},
     "output_type": "execute_result"
    }
   ],
   "source": [
    "#make everything lower case\n",
    "'''\n",
    "Converting every letter into lowercase helps to understand better what the words \n",
    "state.\n",
    "'''\n",
    "data_sorted['message'] = data_sorted['message'].str.lower()\n",
    "data_sorted.head(3)"
   ]
  },
  {
   "cell_type": "markdown",
   "id": "d9794d89",
   "metadata": {},
   "source": [
    "### Removing Contractions"
   ]
  },
  {
   "cell_type": "code",
   "execution_count": 10,
   "id": "b29cba22",
   "metadata": {},
   "outputs": [
    {
     "data": {
      "text/html": [
       "<div>\n",
       "<style scoped>\n",
       "    .dataframe tbody tr th:only-of-type {\n",
       "        vertical-align: middle;\n",
       "    }\n",
       "\n",
       "    .dataframe tbody tr th {\n",
       "        vertical-align: top;\n",
       "    }\n",
       "\n",
       "    .dataframe thead th {\n",
       "        text-align: right;\n",
       "    }\n",
       "</style>\n",
       "<table border=\"1\" class=\"dataframe\">\n",
       "  <thead>\n",
       "    <tr style=\"text-align: right;\">\n",
       "      <th></th>\n",
       "      <th>message</th>\n",
       "      <th>sentiment</th>\n",
       "    </tr>\n",
       "    <tr>\n",
       "      <th>tweetid</th>\n",
       "      <th></th>\n",
       "      <th></th>\n",
       "    </tr>\n",
       "  </thead>\n",
       "  <tbody>\n",
       "    <tr>\n",
       "      <th>625221</th>\n",
       "      <td>polyscimajor epa chief does not think carbon d...</td>\n",
       "      <td>1</td>\n",
       "    </tr>\n",
       "    <tr>\n",
       "      <th>126103</th>\n",
       "      <td>it is not like we lack evidence of anthropogen...</td>\n",
       "      <td>1</td>\n",
       "    </tr>\n",
       "    <tr>\n",
       "      <th>698562</th>\n",
       "      <td>rt @rawstory: researchers say we have three ye...</td>\n",
       "      <td>2</td>\n",
       "    </tr>\n",
       "    <tr>\n",
       "      <th>573736</th>\n",
       "      <td>#todayinmaker# wired : 2016 was a pivotal year...</td>\n",
       "      <td>1</td>\n",
       "    </tr>\n",
       "    <tr>\n",
       "      <th>466954</th>\n",
       "      <td>rt @soynoviodetodas: it is 2016, and a racist,...</td>\n",
       "      <td>1</td>\n",
       "    </tr>\n",
       "  </tbody>\n",
       "</table>\n",
       "</div>"
      ],
      "text/plain": [
       "                                                   message  sentiment\n",
       "tweetid                                                              \n",
       "625221   polyscimajor epa chief does not think carbon d...          1\n",
       "126103   it is not like we lack evidence of anthropogen...          1\n",
       "698562   rt @rawstory: researchers say we have three ye...          2\n",
       "573736   #todayinmaker# wired : 2016 was a pivotal year...          1\n",
       "466954   rt @soynoviodetodas: it is 2016, and a racist,...          1"
      ]
     },
     "execution_count": 10,
     "metadata": {},
     "output_type": "execute_result"
    }
   ],
   "source": [
    "#expand all existing contractions\n",
    "\n",
    "def expand_contractions(tweet):\n",
    "    return \" \".join([contractions.fix(c) for c in tweet.split()])\n",
    "\n",
    "data_sorted[\"message\"] = data_sorted[\"message\"].apply(expand_contractions)\n",
    "data_sorted.head()"
   ]
  },
  {
   "cell_type": "markdown",
   "id": "d234109f",
   "metadata": {},
   "source": [
    "### Removing all hyperlinks(web urls)"
   ]
  },
  {
   "cell_type": "code",
   "execution_count": 11,
   "id": "ab8de161",
   "metadata": {},
   "outputs": [],
   "source": [
    "#remove web urls \n",
    "pattern_url = r'http[s]?://(?:[A-Za-z]|[0-9]|[$-_@.&+]|[!*\\(\\),]|(?:%[0-9A-Fa-f][0-9A-Fa-f]))+'\n",
    "subs_url = r'url-web'\n",
    "data_sorted['message'] = data_sorted['message'].replace(to_replace = pattern_url, value = subs_url, regex = True)"
   ]
  },
  {
   "cell_type": "markdown",
   "id": "ba47e2d0",
   "metadata": {},
   "source": [
    "### Removing Punctuations\n",
    "\n",
    "Removing punctuation marks assists us to treat every word equally, \n",
    "E.g sweet! and sweet are the same without punctuation. "
   ]
  },
  {
   "cell_type": "code",
   "execution_count": 12,
   "id": "1b2d4406",
   "metadata": {},
   "outputs": [
    {
     "data": {
      "text/html": [
       "<div>\n",
       "<style scoped>\n",
       "    .dataframe tbody tr th:only-of-type {\n",
       "        vertical-align: middle;\n",
       "    }\n",
       "\n",
       "    .dataframe tbody tr th {\n",
       "        vertical-align: top;\n",
       "    }\n",
       "\n",
       "    .dataframe thead th {\n",
       "        text-align: right;\n",
       "    }\n",
       "</style>\n",
       "<table border=\"1\" class=\"dataframe\">\n",
       "  <thead>\n",
       "    <tr style=\"text-align: right;\">\n",
       "      <th></th>\n",
       "      <th>message</th>\n",
       "      <th>sentiment</th>\n",
       "    </tr>\n",
       "    <tr>\n",
       "      <th>tweetid</th>\n",
       "      <th></th>\n",
       "      <th></th>\n",
       "    </tr>\n",
       "  </thead>\n",
       "  <tbody>\n",
       "    <tr>\n",
       "      <th>625221</th>\n",
       "      <td>polyscimajor epa chief does not think carbon d...</td>\n",
       "      <td>1</td>\n",
       "    </tr>\n",
       "    <tr>\n",
       "      <th>126103</th>\n",
       "      <td>it is not like we lack evidence of anthropogen...</td>\n",
       "      <td>1</td>\n",
       "    </tr>\n",
       "    <tr>\n",
       "      <th>698562</th>\n",
       "      <td>rt rawstory researchers say we have three year...</td>\n",
       "      <td>2</td>\n",
       "    </tr>\n",
       "    <tr>\n",
       "      <th>573736</th>\n",
       "      <td>todayinmaker wired  2016 was a pivotal year in...</td>\n",
       "      <td>1</td>\n",
       "    </tr>\n",
       "    <tr>\n",
       "      <th>466954</th>\n",
       "      <td>rt soynoviodetodas it is 2016 and a racist sex...</td>\n",
       "      <td>1</td>\n",
       "    </tr>\n",
       "  </tbody>\n",
       "</table>\n",
       "</div>"
      ],
      "text/plain": [
       "                                                   message  sentiment\n",
       "tweetid                                                              \n",
       "625221   polyscimajor epa chief does not think carbon d...          1\n",
       "126103   it is not like we lack evidence of anthropogen...          1\n",
       "698562   rt rawstory researchers say we have three year...          2\n",
       "573736   todayinmaker wired  2016 was a pivotal year in...          1\n",
       "466954   rt soynoviodetodas it is 2016 and a racist sex...          1"
      ]
     },
     "execution_count": 12,
     "metadata": {},
     "output_type": "execute_result"
    }
   ],
   "source": [
    "#remove all punctuations\n",
    "\n",
    "def remove_punctuation(post):\n",
    "    return ''.join([l for l in post if l not in string.punctuation])\n",
    "\n",
    "data_sorted['message'] = data_sorted['message'].apply(remove_punctuation)\n",
    "data_sorted.head()"
   ]
  },
  {
   "cell_type": "markdown",
   "id": "d17848a5",
   "metadata": {},
   "source": [
    "### Removing Numbers"
   ]
  },
  {
   "cell_type": "markdown",
   "id": "3e0471bc",
   "metadata": {},
   "source": [
    "\"For example, when we are doing sentiment analysis then the number doesn’t hold any specific meaning to the data but if the task is to perform NER (Name Entity Recognition) or POS (Part of Speech tagging) then use the removing of number technique carefully.\""
   ]
  },
  {
   "cell_type": "code",
   "execution_count": 13,
   "id": "00ee69ec",
   "metadata": {},
   "outputs": [
    {
     "data": {
      "text/html": [
       "<div>\n",
       "<style scoped>\n",
       "    .dataframe tbody tr th:only-of-type {\n",
       "        vertical-align: middle;\n",
       "    }\n",
       "\n",
       "    .dataframe tbody tr th {\n",
       "        vertical-align: top;\n",
       "    }\n",
       "\n",
       "    .dataframe thead th {\n",
       "        text-align: right;\n",
       "    }\n",
       "</style>\n",
       "<table border=\"1\" class=\"dataframe\">\n",
       "  <thead>\n",
       "    <tr style=\"text-align: right;\">\n",
       "      <th></th>\n",
       "      <th>message</th>\n",
       "      <th>sentiment</th>\n",
       "    </tr>\n",
       "    <tr>\n",
       "      <th>tweetid</th>\n",
       "      <th></th>\n",
       "      <th></th>\n",
       "    </tr>\n",
       "  </thead>\n",
       "  <tbody>\n",
       "    <tr>\n",
       "      <th>625221</th>\n",
       "      <td>polyscimajor epa chief does not think carbon d...</td>\n",
       "      <td>1</td>\n",
       "    </tr>\n",
       "    <tr>\n",
       "      <th>126103</th>\n",
       "      <td>it is not like we lack evidence of anthropogen...</td>\n",
       "      <td>1</td>\n",
       "    </tr>\n",
       "    <tr>\n",
       "      <th>698562</th>\n",
       "      <td>rt rawstory researchers say we have three year...</td>\n",
       "      <td>2</td>\n",
       "    </tr>\n",
       "    <tr>\n",
       "      <th>573736</th>\n",
       "      <td>todayinmaker wired   was a pivotal year in the...</td>\n",
       "      <td>1</td>\n",
       "    </tr>\n",
       "    <tr>\n",
       "      <th>466954</th>\n",
       "      <td>rt soynoviodetodas it is  and a racist sexist ...</td>\n",
       "      <td>1</td>\n",
       "    </tr>\n",
       "  </tbody>\n",
       "</table>\n",
       "</div>"
      ],
      "text/plain": [
       "                                                   message  sentiment\n",
       "tweetid                                                              \n",
       "625221   polyscimajor epa chief does not think carbon d...          1\n",
       "126103   it is not like we lack evidence of anthropogen...          1\n",
       "698562   rt rawstory researchers say we have three year...          2\n",
       "573736   todayinmaker wired   was a pivotal year in the...          1\n",
       "466954   rt soynoviodetodas it is  and a racist sexist ...          1"
      ]
     },
     "execution_count": 13,
     "metadata": {},
     "output_type": "execute_result"
    }
   ],
   "source": [
    "def remove_digits(post):\n",
    "    return ''.join([i for i in post if not i.isdigit()])\n",
    "\n",
    "data_sorted['message'] = data_sorted['message'].apply(remove_digits)\n",
    "data_sorted.head()"
   ]
  },
  {
   "cell_type": "markdown",
   "id": "9537150a",
   "metadata": {},
   "source": [
    "### Removing Extra Space"
   ]
  },
  {
   "cell_type": "markdown",
   "id": "fe0e2304",
   "metadata": {},
   "source": [
    "Removing expace could help reduce the memory usage "
   ]
  },
  {
   "cell_type": "code",
   "execution_count": 14,
   "id": "856dd2bc",
   "metadata": {},
   "outputs": [
    {
     "name": "stdout",
     "output_type": "stream",
     "text": [
      "<class 'pandas.core.frame.DataFrame'>\n",
      "Int64Index: 15819 entries, 625221 to 806319\n",
      "Data columns (total 2 columns):\n",
      " #   Column     Non-Null Count  Dtype \n",
      "---  ------     --------------  ----- \n",
      " 0   message    15819 non-null  object\n",
      " 1   sentiment  15819 non-null  int64 \n",
      "dtypes: int64(1), object(1)\n",
      "memory usage: 370.8+ KB\n"
     ]
    }
   ],
   "source": [
    "data_sorted.info()"
   ]
  },
  {
   "cell_type": "code",
   "execution_count": 15,
   "id": "add7dc9a",
   "metadata": {},
   "outputs": [
    {
     "data": {
      "text/html": [
       "<div>\n",
       "<style scoped>\n",
       "    .dataframe tbody tr th:only-of-type {\n",
       "        vertical-align: middle;\n",
       "    }\n",
       "\n",
       "    .dataframe tbody tr th {\n",
       "        vertical-align: top;\n",
       "    }\n",
       "\n",
       "    .dataframe thead th {\n",
       "        text-align: right;\n",
       "    }\n",
       "</style>\n",
       "<table border=\"1\" class=\"dataframe\">\n",
       "  <thead>\n",
       "    <tr style=\"text-align: right;\">\n",
       "      <th></th>\n",
       "      <th>message</th>\n",
       "      <th>sentiment</th>\n",
       "    </tr>\n",
       "    <tr>\n",
       "      <th>tweetid</th>\n",
       "      <th></th>\n",
       "      <th></th>\n",
       "    </tr>\n",
       "  </thead>\n",
       "  <tbody>\n",
       "    <tr>\n",
       "      <th>625221</th>\n",
       "      <td>polyscimajor epa chief does not think carbon d...</td>\n",
       "      <td>1</td>\n",
       "    </tr>\n",
       "    <tr>\n",
       "      <th>126103</th>\n",
       "      <td>it is not like we lack evidence of anthropogen...</td>\n",
       "      <td>1</td>\n",
       "    </tr>\n",
       "    <tr>\n",
       "      <th>698562</th>\n",
       "      <td>rt rawstory researchers say we have three year...</td>\n",
       "      <td>2</td>\n",
       "    </tr>\n",
       "    <tr>\n",
       "      <th>573736</th>\n",
       "      <td>todayinmaker wired was a pivotal year in the w...</td>\n",
       "      <td>1</td>\n",
       "    </tr>\n",
       "    <tr>\n",
       "      <th>466954</th>\n",
       "      <td>rt soynoviodetodas it is and a racist sexist c...</td>\n",
       "      <td>1</td>\n",
       "    </tr>\n",
       "  </tbody>\n",
       "</table>\n",
       "</div>"
      ],
      "text/plain": [
       "                                                   message  sentiment\n",
       "tweetid                                                              \n",
       "625221   polyscimajor epa chief does not think carbon d...          1\n",
       "126103   it is not like we lack evidence of anthropogen...          1\n",
       "698562   rt rawstory researchers say we have three year...          2\n",
       "573736   todayinmaker wired was a pivotal year in the w...          1\n",
       "466954   rt soynoviodetodas it is and a racist sexist c...          1"
      ]
     },
     "execution_count": 15,
     "metadata": {},
     "output_type": "execute_result"
    }
   ],
   "source": [
    "def remove_extra_space(text):\n",
    "    return \" \".join(text.split())\n",
    "\n",
    "data_sorted['message'] = data_sorted['message'].apply(remove_extra_space)\n",
    "data_sorted.head()"
   ]
  },
  {
   "cell_type": "code",
   "execution_count": 16,
   "id": "48a18e64",
   "metadata": {},
   "outputs": [
    {
     "name": "stdout",
     "output_type": "stream",
     "text": [
      "<class 'pandas.core.frame.DataFrame'>\n",
      "Int64Index: 15819 entries, 625221 to 806319\n",
      "Data columns (total 2 columns):\n",
      " #   Column     Non-Null Count  Dtype \n",
      "---  ------     --------------  ----- \n",
      " 0   message    15819 non-null  object\n",
      " 1   sentiment  15819 non-null  int64 \n",
      "dtypes: int64(1), object(1)\n",
      "memory usage: 370.8+ KB\n"
     ]
    }
   ],
   "source": [
    "data_sorted.info()"
   ]
  },
  {
   "cell_type": "markdown",
   "id": "fdab42aa",
   "metadata": {},
   "source": [
    "### Removing the repetitions of Punctuations "
   ]
  },
  {
   "cell_type": "code",
   "execution_count": 17,
   "id": "3048fb48",
   "metadata": {},
   "outputs": [
    {
     "data": {
      "text/html": [
       "<div>\n",
       "<style scoped>\n",
       "    .dataframe tbody tr th:only-of-type {\n",
       "        vertical-align: middle;\n",
       "    }\n",
       "\n",
       "    .dataframe tbody tr th {\n",
       "        vertical-align: top;\n",
       "    }\n",
       "\n",
       "    .dataframe thead th {\n",
       "        text-align: right;\n",
       "    }\n",
       "</style>\n",
       "<table border=\"1\" class=\"dataframe\">\n",
       "  <thead>\n",
       "    <tr style=\"text-align: right;\">\n",
       "      <th></th>\n",
       "      <th>message</th>\n",
       "      <th>sentiment</th>\n",
       "    </tr>\n",
       "    <tr>\n",
       "      <th>tweetid</th>\n",
       "      <th></th>\n",
       "      <th></th>\n",
       "    </tr>\n",
       "  </thead>\n",
       "  <tbody>\n",
       "    <tr>\n",
       "      <th>625221</th>\n",
       "      <td>polyscimajor epa chief does not think carbon d...</td>\n",
       "      <td>1</td>\n",
       "    </tr>\n",
       "    <tr>\n",
       "      <th>126103</th>\n",
       "      <td>it is not like we lack evidence of anthropogen...</td>\n",
       "      <td>1</td>\n",
       "    </tr>\n",
       "    <tr>\n",
       "      <th>698562</th>\n",
       "      <td>rt rawstory researchers say we have three year...</td>\n",
       "      <td>2</td>\n",
       "    </tr>\n",
       "    <tr>\n",
       "      <th>573736</th>\n",
       "      <td>todayinmaker wired was a pivotal year in the w...</td>\n",
       "      <td>1</td>\n",
       "    </tr>\n",
       "    <tr>\n",
       "      <th>466954</th>\n",
       "      <td>rt soynoviodetodas it is and a racist sexist c...</td>\n",
       "      <td>1</td>\n",
       "    </tr>\n",
       "  </tbody>\n",
       "</table>\n",
       "</div>"
      ],
      "text/plain": [
       "                                                   message  sentiment\n",
       "tweetid                                                              \n",
       "625221   polyscimajor epa chief does not think carbon d...          1\n",
       "126103   it is not like we lack evidence of anthropogen...          1\n",
       "698562   rt rawstory researchers say we have three year...          2\n",
       "573736   todayinmaker wired was a pivotal year in the w...          1\n",
       "466954   rt soynoviodetodas it is and a racist sexist c...          1"
      ]
     },
     "execution_count": 17,
     "metadata": {},
     "output_type": "execute_result"
    }
   ],
   "source": [
    "def remove_rep_signs(text):\n",
    "    return re.sub(r'(!|.)1+', '', text)\n",
    "\n",
    "data_sorted['message'] = data_sorted['message'].apply(remove_rep_signs)\n",
    "data_sorted.head()"
   ]
  },
  {
   "cell_type": "markdown",
   "id": "65e92e67",
   "metadata": {},
   "source": [
    "### Removing Emojis"
   ]
  },
  {
   "cell_type": "code",
   "execution_count": 18,
   "id": "4ce368ca",
   "metadata": {},
   "outputs": [
    {
     "data": {
      "text/html": [
       "<div>\n",
       "<style scoped>\n",
       "    .dataframe tbody tr th:only-of-type {\n",
       "        vertical-align: middle;\n",
       "    }\n",
       "\n",
       "    .dataframe tbody tr th {\n",
       "        vertical-align: top;\n",
       "    }\n",
       "\n",
       "    .dataframe thead th {\n",
       "        text-align: right;\n",
       "    }\n",
       "</style>\n",
       "<table border=\"1\" class=\"dataframe\">\n",
       "  <thead>\n",
       "    <tr style=\"text-align: right;\">\n",
       "      <th></th>\n",
       "      <th>message</th>\n",
       "      <th>sentiment</th>\n",
       "    </tr>\n",
       "    <tr>\n",
       "      <th>tweetid</th>\n",
       "      <th></th>\n",
       "      <th></th>\n",
       "    </tr>\n",
       "  </thead>\n",
       "  <tbody>\n",
       "    <tr>\n",
       "      <th>625221</th>\n",
       "      <td>polyscimajor epa chief does not think carbon d...</td>\n",
       "      <td>1</td>\n",
       "    </tr>\n",
       "    <tr>\n",
       "      <th>126103</th>\n",
       "      <td>it is not like we lack evidence of anthropogen...</td>\n",
       "      <td>1</td>\n",
       "    </tr>\n",
       "    <tr>\n",
       "      <th>698562</th>\n",
       "      <td>rt rawstory researchers say we have three year...</td>\n",
       "      <td>2</td>\n",
       "    </tr>\n",
       "    <tr>\n",
       "      <th>573736</th>\n",
       "      <td>todayinmaker wired was a pivotal year in the w...</td>\n",
       "      <td>1</td>\n",
       "    </tr>\n",
       "    <tr>\n",
       "      <th>466954</th>\n",
       "      <td>rt soynoviodetodas it is and a racist sexist c...</td>\n",
       "      <td>1</td>\n",
       "    </tr>\n",
       "  </tbody>\n",
       "</table>\n",
       "</div>"
      ],
      "text/plain": [
       "                                                   message  sentiment\n",
       "tweetid                                                              \n",
       "625221   polyscimajor epa chief does not think carbon d...          1\n",
       "126103   it is not like we lack evidence of anthropogen...          1\n",
       "698562   rt rawstory researchers say we have three year...          2\n",
       "573736   todayinmaker wired was a pivotal year in the w...          1\n",
       "466954   rt soynoviodetodas it is and a racist sexist c...          1"
      ]
     },
     "execution_count": 18,
     "metadata": {},
     "output_type": "execute_result"
    }
   ],
   "source": [
    "def remove_emoji(string):\n",
    "    emoji_pattern = re.compile(\"[\"\n",
    "                           u\"U0001F600-U0001F64F\"  # emoticons\n",
    "                           u\"U0001F300-U0001F5FF\"  # symbols & pictographs\n",
    "                           u\"U0001F680-U0001F6FF\"  # transport & map symbols\n",
    "                           u\"U0001F1E0-U0001F1FF\"  # flags (iOS)\n",
    "                           u\"U00002702-U000027B0\"\n",
    "                           u\"U000024C2-U0001F251\"\n",
    "                           \"]+\", flags=re.UNICODE)\n",
    "    return emoji_pattern.sub(r'', string)\n",
    "data_sorted['message'] = data_sorted['message'].apply(remove_emoji)\n",
    "data_sorted.head()"
   ]
  },
  {
   "cell_type": "markdown",
   "id": "e442651e",
   "metadata": {},
   "source": [
    "### Removing Emoticons"
   ]
  },
  {
   "cell_type": "markdown",
   "id": "4ea25acf",
   "metadata": {},
   "source": [
    "def remove_emoticons(string):\n",
    "    EMOTICONS = {\n",
    "            u\":‑)\":\"Happy face or smiley\",\n",
    "            u\":)\":\"Happy face or smiley\",\n",
    "            u\":-]\":\"Happy face or smiley\",\n",
    "            u\":]\":\"Happy face or smiley\",\n",
    "            u\":-3\":\"Happy face smiley\",\n",
    "            u\":3\":\"Happy face smiley\",\n",
    "            u\":->\":\"Happy face smiley\",\n",
    "            u\":>\":\"Happy face smiley\",\n",
    "            u\"8-)\":\"Happy face smiley\",\n",
    "            u\":o)\":\"Happy face smiley\",\n",
    "            u\":-\":\"Happy face smiley\",\n",
    "            u\":}\":\"Happy face smiley\",\n",
    "            u\":-)\":\"Happy face smiley\",\n",
    "            u\":c)\":\"Happy face smiley\",\n",
    "            u\":^)\":\"Happy face smiley\",\n",
    "            u\"=]\":\"Happy face smiley\"\n",
    "            }\n",
    "    emoticon_pattern = re.compile(u'(' + u'|'.join(k for k in EMOTICONS) + u')') \n",
    "    return emoticon_pattern.sub(r'',text) \n",
    "\n",
    "data_sorted['message'] = data_sorted['message'].apply(remove_emoticons)\n",
    "data_sorted.head()            \n",
    " "
   ]
  },
  {
   "cell_type": "markdown",
   "id": "731d341c",
   "metadata": {},
   "source": [
    "EMOTICONS = {\n",
    "            u\":‑)\":\"Happy face or smiley\",\n",
    "            u\":)\":\"Happy face or smiley\",\n",
    "            u\":-]\":\"Happy face or smiley\",\n",
    "            u\":]\":\"Happy face or smiley\",\n",
    "            u\":-3\":\"Happy face smiley\",\n",
    "            u\":3\":\"Happy face smiley\",\n",
    "            u\":->\":\"Happy face smiley\",\n",
    "            u\":>\":\"Happy face smiley\",\n",
    "            u\"8-)\":\"Happy face smiley\",\n",
    "            u\":o)\":\"Happy face smiley\",\n",
    "            u\":-\":\"Happy face smiley\",\n",
    "            u\":}\":\"Happy face smiley\",\n",
    "            u\":-)\":\"Happy face smiley\",\n",
    "            u\":c)\":\"Happy face smiley\",\n",
    "            u\":^)\":\"Happy face smiley\",\n",
    "            u\"=]\":\"Happy face smiley\"\n",
    "            }\n",
    "\n",
    "def convert_emoticons(text):\n",
    "    for emot in EMOTICONS:\n",
    "        text = re.sub(u'('+emot+')', \"_\".join(EMOTICONS[emot].replace(\",\",\"\").split()), text)\n",
    "    return text\n",
    "\n",
    "\n",
    "data_sorted['message'] = data_sorted['message'].apply(convert_emoticons)\n",
    "data_sorted"
   ]
  },
  {
   "cell_type": "markdown",
   "id": "56ae0f7f",
   "metadata": {},
   "source": [
    "### Tokenizerization"
   ]
  },
  {
   "cell_type": "code",
   "execution_count": 19,
   "id": "a5576cd4",
   "metadata": {},
   "outputs": [
    {
     "data": {
      "text/html": [
       "<div>\n",
       "<style scoped>\n",
       "    .dataframe tbody tr th:only-of-type {\n",
       "        vertical-align: middle;\n",
       "    }\n",
       "\n",
       "    .dataframe tbody tr th {\n",
       "        vertical-align: top;\n",
       "    }\n",
       "\n",
       "    .dataframe thead th {\n",
       "        text-align: right;\n",
       "    }\n",
       "</style>\n",
       "<table border=\"1\" class=\"dataframe\">\n",
       "  <thead>\n",
       "    <tr style=\"text-align: right;\">\n",
       "      <th></th>\n",
       "      <th>message</th>\n",
       "      <th>sentiment</th>\n",
       "    </tr>\n",
       "    <tr>\n",
       "      <th>tweetid</th>\n",
       "      <th></th>\n",
       "      <th></th>\n",
       "    </tr>\n",
       "  </thead>\n",
       "  <tbody>\n",
       "    <tr>\n",
       "      <th>625221</th>\n",
       "      <td>[polyscimajor, epa, chief, does, not, think, c...</td>\n",
       "      <td>1</td>\n",
       "    </tr>\n",
       "    <tr>\n",
       "      <th>126103</th>\n",
       "      <td>[it, is, not, like, we, lack, evidence, of, an...</td>\n",
       "      <td>1</td>\n",
       "    </tr>\n",
       "    <tr>\n",
       "      <th>698562</th>\n",
       "      <td>[rt, rawstory, researchers, say, we, have, thr...</td>\n",
       "      <td>2</td>\n",
       "    </tr>\n",
       "    <tr>\n",
       "      <th>573736</th>\n",
       "      <td>[todayinmaker, wired, was, a, pivotal, year, i...</td>\n",
       "      <td>1</td>\n",
       "    </tr>\n",
       "    <tr>\n",
       "      <th>466954</th>\n",
       "      <td>[rt, soynoviodetodas, it, is, and, a, racist, ...</td>\n",
       "      <td>1</td>\n",
       "    </tr>\n",
       "    <tr>\n",
       "      <th>...</th>\n",
       "      <td>...</td>\n",
       "      <td>...</td>\n",
       "    </tr>\n",
       "    <tr>\n",
       "      <th>22001</th>\n",
       "      <td>[rt, ezlusztig, they, took, down, the, materia...</td>\n",
       "      <td>1</td>\n",
       "    </tr>\n",
       "    <tr>\n",
       "      <th>17856</th>\n",
       "      <td>[rt, washingtonpost, how, climate, change, cou...</td>\n",
       "      <td>2</td>\n",
       "    </tr>\n",
       "    <tr>\n",
       "      <th>384248</th>\n",
       "      <td>[notiven, rt, nytimesworld, what, does, trump,...</td>\n",
       "      <td>0</td>\n",
       "    </tr>\n",
       "    <tr>\n",
       "      <th>819732</th>\n",
       "      <td>[rt, sarasmiles, hey, liberals, the, climate, ...</td>\n",
       "      <td>-1</td>\n",
       "    </tr>\n",
       "    <tr>\n",
       "      <th>806319</th>\n",
       "      <td>[rt, chetcannon, kurteichenwalds, climate, cha...</td>\n",
       "      <td>0</td>\n",
       "    </tr>\n",
       "  </tbody>\n",
       "</table>\n",
       "<p>15819 rows × 2 columns</p>\n",
       "</div>"
      ],
      "text/plain": [
       "                                                   message  sentiment\n",
       "tweetid                                                              \n",
       "625221   [polyscimajor, epa, chief, does, not, think, c...          1\n",
       "126103   [it, is, not, like, we, lack, evidence, of, an...          1\n",
       "698562   [rt, rawstory, researchers, say, we, have, thr...          2\n",
       "573736   [todayinmaker, wired, was, a, pivotal, year, i...          1\n",
       "466954   [rt, soynoviodetodas, it, is, and, a, racist, ...          1\n",
       "...                                                    ...        ...\n",
       "22001    [rt, ezlusztig, they, took, down, the, materia...          1\n",
       "17856    [rt, washingtonpost, how, climate, change, cou...          2\n",
       "384248   [notiven, rt, nytimesworld, what, does, trump,...          0\n",
       "819732   [rt, sarasmiles, hey, liberals, the, climate, ...         -1\n",
       "806319   [rt, chetcannon, kurteichenwalds, climate, cha...          0\n",
       "\n",
       "[15819 rows x 2 columns]"
      ]
     },
     "execution_count": 19,
     "metadata": {},
     "output_type": "execute_result"
    }
   ],
   "source": [
    "#tokenisation to treat each word with respect\n",
    "tokeniser = TreebankWordTokenizer()\n",
    "data_sorted['message'] = data_sorted['message'].apply(tokeniser.tokenize)\n",
    "\n",
    "data_sorted"
   ]
  },
  {
   "cell_type": "markdown",
   "id": "8b05361a",
   "metadata": {},
   "source": [
    "### Removing Stop Words"
   ]
  },
  {
   "cell_type": "code",
   "execution_count": 20,
   "id": "ee0c89c2",
   "metadata": {},
   "outputs": [
    {
     "data": {
      "text/html": [
       "<div>\n",
       "<style scoped>\n",
       "    .dataframe tbody tr th:only-of-type {\n",
       "        vertical-align: middle;\n",
       "    }\n",
       "\n",
       "    .dataframe tbody tr th {\n",
       "        vertical-align: top;\n",
       "    }\n",
       "\n",
       "    .dataframe thead th {\n",
       "        text-align: right;\n",
       "    }\n",
       "</style>\n",
       "<table border=\"1\" class=\"dataframe\">\n",
       "  <thead>\n",
       "    <tr style=\"text-align: right;\">\n",
       "      <th></th>\n",
       "      <th>message</th>\n",
       "      <th>sentiment</th>\n",
       "    </tr>\n",
       "    <tr>\n",
       "      <th>tweetid</th>\n",
       "      <th></th>\n",
       "      <th></th>\n",
       "    </tr>\n",
       "  </thead>\n",
       "  <tbody>\n",
       "    <tr>\n",
       "      <th>625221</th>\n",
       "      <td>[polyscimajor, epa, chief, think, carbon, diox...</td>\n",
       "      <td>1</td>\n",
       "    </tr>\n",
       "    <tr>\n",
       "      <th>126103</th>\n",
       "      <td>[like, lack, evidence, anthropogenic, global, ...</td>\n",
       "      <td>1</td>\n",
       "    </tr>\n",
       "    <tr>\n",
       "      <th>698562</th>\n",
       "      <td>[rt, rawstory, researchers, say, three, years,...</td>\n",
       "      <td>2</td>\n",
       "    </tr>\n",
       "    <tr>\n",
       "      <th>573736</th>\n",
       "      <td>[todayinmaker, wired, pivotal, year, war, clim...</td>\n",
       "      <td>1</td>\n",
       "    </tr>\n",
       "    <tr>\n",
       "      <th>466954</th>\n",
       "      <td>[rt, soynoviodetodas, racist, sexist, climate,...</td>\n",
       "      <td>1</td>\n",
       "    </tr>\n",
       "    <tr>\n",
       "      <th>...</th>\n",
       "      <td>...</td>\n",
       "      <td>...</td>\n",
       "    </tr>\n",
       "    <tr>\n",
       "      <th>22001</th>\n",
       "      <td>[rt, ezlusztig, took, material, global, warmin...</td>\n",
       "      <td>1</td>\n",
       "    </tr>\n",
       "    <tr>\n",
       "      <th>17856</th>\n",
       "      <td>[rt, washingtonpost, climate, change, could, b...</td>\n",
       "      <td>2</td>\n",
       "    </tr>\n",
       "    <tr>\n",
       "      <th>384248</th>\n",
       "      <td>[notiven, rt, nytimesworld, trump, actually, b...</td>\n",
       "      <td>0</td>\n",
       "    </tr>\n",
       "    <tr>\n",
       "      <th>819732</th>\n",
       "      <td>[rt, sarasmiles, hey, liberals, climate, chang...</td>\n",
       "      <td>-1</td>\n",
       "    </tr>\n",
       "    <tr>\n",
       "      <th>806319</th>\n",
       "      <td>[rt, chetcannon, kurteichenwalds, climate, cha...</td>\n",
       "      <td>0</td>\n",
       "    </tr>\n",
       "  </tbody>\n",
       "</table>\n",
       "<p>15819 rows × 2 columns</p>\n",
       "</div>"
      ],
      "text/plain": [
       "                                                   message  sentiment\n",
       "tweetid                                                              \n",
       "625221   [polyscimajor, epa, chief, think, carbon, diox...          1\n",
       "126103   [like, lack, evidence, anthropogenic, global, ...          1\n",
       "698562   [rt, rawstory, researchers, say, three, years,...          2\n",
       "573736   [todayinmaker, wired, pivotal, year, war, clim...          1\n",
       "466954   [rt, soynoviodetodas, racist, sexist, climate,...          1\n",
       "...                                                    ...        ...\n",
       "22001    [rt, ezlusztig, took, material, global, warmin...          1\n",
       "17856    [rt, washingtonpost, climate, change, could, b...          2\n",
       "384248   [notiven, rt, nytimesworld, trump, actually, b...          0\n",
       "819732   [rt, sarasmiles, hey, liberals, climate, chang...         -1\n",
       "806319   [rt, chetcannon, kurteichenwalds, climate, cha...          0\n",
       "\n",
       "[15819 rows x 2 columns]"
      ]
     },
     "execution_count": 20,
     "metadata": {},
     "output_type": "execute_result"
    }
   ],
   "source": [
    "#remove standard stop words, which are words of insignificance\n",
    "def remove_stop_words(tokens):    \n",
    "    return [t for t in tokens if t not in stopwords.words('english')]\n",
    "\n",
    "data_sorted['message'] = data_sorted['message'].apply(remove_stop_words)\n",
    "data_sorted"
   ]
  },
  {
   "cell_type": "markdown",
   "id": "a934c345",
   "metadata": {},
   "source": [
    "### Stemmer"
   ]
  },
  {
   "cell_type": "code",
   "execution_count": 21,
   "id": "cc50910c",
   "metadata": {
    "execution": {
     "iopub.execute_input": "2022-11-28T15:19:41.570671Z",
     "iopub.status.busy": "2022-11-28T15:19:41.570247Z",
     "iopub.status.idle": "2022-11-28T15:19:41.856920Z",
     "shell.execute_reply": "2022-11-28T15:19:41.855719Z"
    },
    "papermill": {
     "duration": 0.404003,
     "end_time": "2022-11-28T15:19:41.863354",
     "exception": false,
     "start_time": "2022-11-28T15:19:41.459351",
     "status": "completed"
    },
    "tags": []
   },
   "outputs": [
    {
     "data": {
      "text/html": [
       "<div>\n",
       "<style scoped>\n",
       "    .dataframe tbody tr th:only-of-type {\n",
       "        vertical-align: middle;\n",
       "    }\n",
       "\n",
       "    .dataframe tbody tr th {\n",
       "        vertical-align: top;\n",
       "    }\n",
       "\n",
       "    .dataframe thead th {\n",
       "        text-align: right;\n",
       "    }\n",
       "</style>\n",
       "<table border=\"1\" class=\"dataframe\">\n",
       "  <thead>\n",
       "    <tr style=\"text-align: right;\">\n",
       "      <th></th>\n",
       "      <th>message</th>\n",
       "      <th>sentiment</th>\n",
       "    </tr>\n",
       "    <tr>\n",
       "      <th>tweetid</th>\n",
       "      <th></th>\n",
       "      <th></th>\n",
       "    </tr>\n",
       "  </thead>\n",
       "  <tbody>\n",
       "    <tr>\n",
       "      <th>625221</th>\n",
       "      <td>[polyscimajor, epa, chief, think, carbon, diox...</td>\n",
       "      <td>1</td>\n",
       "    </tr>\n",
       "    <tr>\n",
       "      <th>126103</th>\n",
       "      <td>[like, lack, evid, anthropogen, global, warm]</td>\n",
       "      <td>1</td>\n",
       "    </tr>\n",
       "    <tr>\n",
       "      <th>698562</th>\n",
       "      <td>[rt, rawstori, research, say, three, year, act...</td>\n",
       "      <td>2</td>\n",
       "    </tr>\n",
       "    <tr>\n",
       "      <th>573736</th>\n",
       "      <td>[todayinmak, wire, pivot, year, war, climat, c...</td>\n",
       "      <td>1</td>\n",
       "    </tr>\n",
       "    <tr>\n",
       "      <th>466954</th>\n",
       "      <td>[rt, soynoviodetoda, racist, sexist, climat, c...</td>\n",
       "      <td>1</td>\n",
       "    </tr>\n",
       "    <tr>\n",
       "      <th>...</th>\n",
       "      <td>...</td>\n",
       "      <td>...</td>\n",
       "    </tr>\n",
       "    <tr>\n",
       "      <th>22001</th>\n",
       "      <td>[rt, ezlusztig, took, materi, global, warm, lg...</td>\n",
       "      <td>1</td>\n",
       "    </tr>\n",
       "    <tr>\n",
       "      <th>17856</th>\n",
       "      <td>[rt, washingtonpost, climat, chang, could, bre...</td>\n",
       "      <td>2</td>\n",
       "    </tr>\n",
       "    <tr>\n",
       "      <th>384248</th>\n",
       "      <td>[notiven, rt, nytimesworld, trump, actual, bel...</td>\n",
       "      <td>0</td>\n",
       "    </tr>\n",
       "    <tr>\n",
       "      <th>819732</th>\n",
       "      <td>[rt, sarasmil, hey, liber, climat, chang, crap...</td>\n",
       "      <td>-1</td>\n",
       "    </tr>\n",
       "    <tr>\n",
       "      <th>806319</th>\n",
       "      <td>[rt, chetcannon, kurteichenwald, climat, chang...</td>\n",
       "      <td>0</td>\n",
       "    </tr>\n",
       "  </tbody>\n",
       "</table>\n",
       "<p>15819 rows × 2 columns</p>\n",
       "</div>"
      ],
      "text/plain": [
       "                                                   message  sentiment\n",
       "tweetid                                                              \n",
       "625221   [polyscimajor, epa, chief, think, carbon, diox...          1\n",
       "126103       [like, lack, evid, anthropogen, global, warm]          1\n",
       "698562   [rt, rawstori, research, say, three, year, act...          2\n",
       "573736   [todayinmak, wire, pivot, year, war, climat, c...          1\n",
       "466954   [rt, soynoviodetoda, racist, sexist, climat, c...          1\n",
       "...                                                    ...        ...\n",
       "22001    [rt, ezlusztig, took, materi, global, warm, lg...          1\n",
       "17856    [rt, washingtonpost, climat, chang, could, bre...          2\n",
       "384248   [notiven, rt, nytimesworld, trump, actual, bel...          0\n",
       "819732   [rt, sarasmil, hey, liber, climat, chang, crap...         -1\n",
       "806319   [rt, chetcannon, kurteichenwald, climat, chang...          0\n",
       "\n",
       "[15819 rows x 2 columns]"
      ]
     },
     "execution_count": 21,
     "metadata": {},
     "output_type": "execute_result"
    }
   ],
   "source": [
    "#stem to transform to the root word, and have more common words\n",
    "stemmer = SnowballStemmer('english')\n",
    "\n",
    "def mbti_stemmer(words, stemmer):\n",
    "    return [stemmer.stem(word) for word in words]\n",
    "\n",
    "data_sorted['message'] = data_sorted['message'].apply(mbti_stemmer, args=(stemmer, ))\n",
    "data_sorted"
   ]
  },
  {
   "cell_type": "markdown",
   "id": "62c4996b",
   "metadata": {
    "execution": {
     "iopub.execute_input": "2022-11-28T15:19:43.856279Z",
     "iopub.status.busy": "2022-11-28T15:19:43.855687Z",
     "iopub.status.idle": "2022-11-28T15:19:47.640001Z",
     "shell.execute_reply": "2022-11-28T15:19:47.638509Z"
    },
    "papermill": {
     "duration": 3.901759,
     "end_time": "2022-11-28T15:19:47.642397",
     "exception": false,
     "start_time": "2022-11-28T15:19:43.740638",
     "status": "completed"
    },
    "tags": []
   },
   "source": [
    "### Lemmatization "
   ]
  },
  {
   "cell_type": "code",
   "execution_count": 22,
   "id": "e495cb57",
   "metadata": {
    "execution": {
     "iopub.execute_input": "2022-11-28T15:19:47.858966Z",
     "iopub.status.busy": "2022-11-28T15:19:47.858543Z",
     "iopub.status.idle": "2022-11-28T15:19:51.096017Z",
     "shell.execute_reply": "2022-11-28T15:19:51.094836Z"
    },
    "papermill": {
     "duration": 3.348943,
     "end_time": "2022-11-28T15:19:51.098635",
     "exception": false,
     "start_time": "2022-11-28T15:19:47.749692",
     "status": "completed"
    },
    "tags": []
   },
   "outputs": [
    {
     "data": {
      "text/html": [
       "<div>\n",
       "<style scoped>\n",
       "    .dataframe tbody tr th:only-of-type {\n",
       "        vertical-align: middle;\n",
       "    }\n",
       "\n",
       "    .dataframe tbody tr th {\n",
       "        vertical-align: top;\n",
       "    }\n",
       "\n",
       "    .dataframe thead th {\n",
       "        text-align: right;\n",
       "    }\n",
       "</style>\n",
       "<table border=\"1\" class=\"dataframe\">\n",
       "  <thead>\n",
       "    <tr style=\"text-align: right;\">\n",
       "      <th></th>\n",
       "      <th>message</th>\n",
       "      <th>sentiment</th>\n",
       "    </tr>\n",
       "    <tr>\n",
       "      <th>tweetid</th>\n",
       "      <th></th>\n",
       "      <th></th>\n",
       "    </tr>\n",
       "  </thead>\n",
       "  <tbody>\n",
       "    <tr>\n",
       "      <th>625221</th>\n",
       "      <td>[polyscimajor, epa, chief, think, carbon, diox...</td>\n",
       "      <td>1</td>\n",
       "    </tr>\n",
       "    <tr>\n",
       "      <th>126103</th>\n",
       "      <td>[like, lack, evid, anthropogen, global, warm]</td>\n",
       "      <td>1</td>\n",
       "    </tr>\n",
       "    <tr>\n",
       "      <th>698562</th>\n",
       "      <td>[rt, rawstori, research, say, three, year, act...</td>\n",
       "      <td>2</td>\n",
       "    </tr>\n",
       "    <tr>\n",
       "      <th>573736</th>\n",
       "      <td>[todayinmak, wire, pivot, year, war, climat, c...</td>\n",
       "      <td>1</td>\n",
       "    </tr>\n",
       "    <tr>\n",
       "      <th>466954</th>\n",
       "      <td>[rt, soynoviodetoda, racist, sexist, climat, c...</td>\n",
       "      <td>1</td>\n",
       "    </tr>\n",
       "    <tr>\n",
       "      <th>...</th>\n",
       "      <td>...</td>\n",
       "      <td>...</td>\n",
       "    </tr>\n",
       "    <tr>\n",
       "      <th>22001</th>\n",
       "      <td>[rt, ezlusztig, took, materi, global, warm, lg...</td>\n",
       "      <td>1</td>\n",
       "    </tr>\n",
       "    <tr>\n",
       "      <th>17856</th>\n",
       "      <td>[rt, washingtonpost, climat, chang, could, bre...</td>\n",
       "      <td>2</td>\n",
       "    </tr>\n",
       "    <tr>\n",
       "      <th>384248</th>\n",
       "      <td>[notiven, rt, nytimesworld, trump, actual, bel...</td>\n",
       "      <td>0</td>\n",
       "    </tr>\n",
       "    <tr>\n",
       "      <th>819732</th>\n",
       "      <td>[rt, sarasmil, hey, liber, climat, chang, crap...</td>\n",
       "      <td>-1</td>\n",
       "    </tr>\n",
       "    <tr>\n",
       "      <th>806319</th>\n",
       "      <td>[rt, chetcannon, kurteichenwald, climat, chang...</td>\n",
       "      <td>0</td>\n",
       "    </tr>\n",
       "  </tbody>\n",
       "</table>\n",
       "<p>15819 rows × 2 columns</p>\n",
       "</div>"
      ],
      "text/plain": [
       "                                                   message  sentiment\n",
       "tweetid                                                              \n",
       "625221   [polyscimajor, epa, chief, think, carbon, diox...          1\n",
       "126103       [like, lack, evid, anthropogen, global, warm]          1\n",
       "698562   [rt, rawstori, research, say, three, year, act...          2\n",
       "573736   [todayinmak, wire, pivot, year, war, climat, c...          1\n",
       "466954   [rt, soynoviodetoda, racist, sexist, climat, c...          1\n",
       "...                                                    ...        ...\n",
       "22001    [rt, ezlusztig, took, materi, global, warm, lg...          1\n",
       "17856    [rt, washingtonpost, climat, chang, could, bre...          2\n",
       "384248   [notiven, rt, nytimesworld, trump, actual, bel...          0\n",
       "819732   [rt, sarasmil, hey, liber, climat, chang, crap...         -1\n",
       "806319   [rt, chetcannon, kurteichenwald, climat, chang...          0\n",
       "\n",
       "[15819 rows x 2 columns]"
      ]
     },
     "execution_count": 22,
     "metadata": {},
     "output_type": "execute_result"
    }
   ],
   "source": [
    "#lemmatization to lessen unique words even more by changing tenses of words and plurals\n",
    "lemmatizer = WordNetLemmatizer()\n",
    "\n",
    "def mbti_lemma(words, lemmatizer):\n",
    "    return [lemmatizer.lemmatize(word) for word in words]\n",
    "\n",
    "data_sorted['message'] = data_sorted['message'].apply(mbti_lemma, args=(lemmatizer, ))\n",
    "\n",
    "data_sorted"
   ]
  },
  {
   "cell_type": "code",
   "execution_count": 23,
   "id": "7409bcb2",
   "metadata": {},
   "outputs": [
    {
     "name": "stdout",
     "output_type": "stream",
     "text": [
      "<class 'pandas.core.frame.DataFrame'>\n",
      "Int64Index: 15819 entries, 625221 to 806319\n",
      "Data columns (total 2 columns):\n",
      " #   Column     Non-Null Count  Dtype \n",
      "---  ------     --------------  ----- \n",
      " 0   message    15819 non-null  object\n",
      " 1   sentiment  15819 non-null  int64 \n",
      "dtypes: int64(1), object(1)\n",
      "memory usage: 370.8+ KB\n"
     ]
    }
   ],
   "source": [
    "data_sorted.info()"
   ]
  },
  {
   "cell_type": "markdown",
   "id": "aa0c0aae",
   "metadata": {},
   "source": [
    "import emojis \n",
    "emojis.count() "
   ]
  },
  {
   "cell_type": "code",
   "execution_count": 59,
   "id": "eeae7e86",
   "metadata": {},
   "outputs": [
    {
     "ename": "SyntaxError",
     "evalue": "invalid syntax (3990496987.py, line 1)",
     "output_type": "error",
     "traceback": [
      "\u001b[1;36m  Input \u001b[1;32mIn [59]\u001b[1;36m\u001b[0m\n\u001b[1;33m    data = [item += item for item in data_sorted['message']]\u001b[0m\n\u001b[1;37m                 ^\u001b[0m\n\u001b[1;31mSyntaxError\u001b[0m\u001b[1;31m:\u001b[0m invalid syntax\n"
     ]
    }
   ],
   "source": [
    "data = [item += item for item in data_sorted['message']]\n",
    "print(data)"
   ]
  },
  {
   "cell_type": "code",
   "execution_count": 26,
   "id": "4b39b2c0",
   "metadata": {},
   "outputs": [
    {
     "name": "stdout",
     "output_type": "stream",
     "text": [
      "using list comprehension\n"
     ]
    }
   ],
   "source": [
    "start_list = ['using', 'list', 'comprehension']\n",
    "string = ' '.join([str(item) for item in start_list])\n",
    "print(string)"
   ]
  },
  {
   "cell_type": "markdown",
   "id": "64ff9071",
   "metadata": {},
   "source": [
    "## 5. Feature Engineering\n",
    "[Back to Table of Contents](#Table-of-Contents)"
   ]
  },
  {
   "cell_type": "markdown",
   "id": "a0b67a33",
   "metadata": {},
   "source": [
    "### N-grams"
   ]
  },
  {
   "cell_type": "code",
   "execution_count": 27,
   "id": "8929aea8",
   "metadata": {},
   "outputs": [],
   "source": [
    "from nltk.util import ngrams"
   ]
  },
  {
   "cell_type": "code",
   "execution_count": 28,
   "id": "2afa0b07",
   "metadata": {},
   "outputs": [],
   "source": [
    "def word_grams(words, min_n=1, max_n=4):\n",
    "    s = []\n",
    "    for n in range(min_n, max_n):\n",
    "        for ngram in ngrams(words, n):\n",
    "            s.append(' '.join(str(i) for i in ngram))\n",
    "    return s"
   ]
  },
  {
   "cell_type": "code",
   "execution_count": 29,
   "id": "d82eb23b",
   "metadata": {},
   "outputs": [
    {
     "name": "stdout",
     "output_type": "stream",
     "text": [
      "['tweetid\\n625221', '', '', '', '[polyscimajor,', 'epa,', 'chief,', 'think,', 'carbon,', 'diox...\\n126103', '', '', '', '', '', '', '', '[like,', 'lack,', 'evid,', 'anthropogen,', 'global,', 'warm]\\n698562', '', '', '', '[rt,', 'rawstori,', 'research,', 'say,', 'three,', 'year,', 'act...\\n573736', '', '', '', '[todayinmak,', 'wire,', 'pivot,', 'year,', 'war,', 'climat,', 'c...\\n466954', '', '', '', '[rt,', 'soynoviodetoda,', 'racist,', 'sexist,', 'climat,', 'c...\\n', '', '', '', '', '', '', '', '', '', '', '', '', '', '', '', '', '', '', '', '', '', '', '', '', '', '', '', '', '', '', '', '...', '', '', '', '', '', '', '', '', '', '', '', '', '', '', '', '', '', '', '', '', '', '', '', '\\n22001', '', '', '', '', '[rt,', 'ezlusztig,', 'took,', 'materi,', 'global,', 'warm,', 'lg...\\n17856', '', '', '', '', '[rt,', 'washingtonpost,', 'climat,', 'chang,', 'could,', 'bre...\\n384248', '', '', '', '[notiven,', 'rt,', 'nytimesworld,', 'trump,', 'actual,', 'bel...\\n819732', '', '', '', '[rt,', 'sarasmil,', 'hey,', 'liber,', 'climat,', 'chang,', 'crap...\\n806319', '', '', '', '[rt,', 'chetcannon,', 'kurteichenwald,', 'climat,', 'chang...\\nName:', 'message,', 'Length:', '15819,', 'dtype:', 'object', 'tweetid\\n625221 ', ' ', ' ', ' [polyscimajor,', '[polyscimajor, epa,', 'epa, chief,', 'chief, think,', 'think, carbon,', 'carbon, diox...\\n126103', 'diox...\\n126103 ', ' ', ' ', ' ', ' ', ' ', ' ', ' [like,', '[like, lack,', 'lack, evid,', 'evid, anthropogen,', 'anthropogen, global,', 'global, warm]\\n698562', 'warm]\\n698562 ', ' ', ' ', ' [rt,', '[rt, rawstori,', 'rawstori, research,', 'research, say,', 'say, three,', 'three, year,', 'year, act...\\n573736', 'act...\\n573736 ', ' ', ' ', ' [todayinmak,', '[todayinmak, wire,', 'wire, pivot,', 'pivot, year,', 'year, war,', 'war, climat,', 'climat, c...\\n466954', 'c...\\n466954 ', ' ', ' ', ' [rt,', '[rt, soynoviodetoda,', 'soynoviodetoda, racist,', 'racist, sexist,', 'sexist, climat,', 'climat, c...\\n', 'c...\\n ', ' ', ' ', ' ', ' ', ' ', ' ', ' ', ' ', ' ', ' ', ' ', ' ', ' ', ' ', ' ', ' ', ' ', ' ', ' ', ' ', ' ', ' ', ' ', ' ', ' ', ' ', ' ', ' ', ' ', ' ', ' ...', '... ', ' ', ' ', ' ', ' ', ' ', ' ', ' ', ' ', ' ', ' ', ' ', ' ', ' ', ' ', ' ', ' ', ' ', ' ', ' ', ' ', ' ', ' ', ' \\n22001', '\\n22001 ', ' ', ' ', ' ', ' [rt,', '[rt, ezlusztig,', 'ezlusztig, took,', 'took, materi,', 'materi, global,', 'global, warm,', 'warm, lg...\\n17856', 'lg...\\n17856 ', ' ', ' ', ' ', ' [rt,', '[rt, washingtonpost,', 'washingtonpost, climat,', 'climat, chang,', 'chang, could,', 'could, bre...\\n384248', 'bre...\\n384248 ', ' ', ' ', ' [notiven,', '[notiven, rt,', 'rt, nytimesworld,', 'nytimesworld, trump,', 'trump, actual,', 'actual, bel...\\n819732', 'bel...\\n819732 ', ' ', ' ', ' [rt,', '[rt, sarasmil,', 'sarasmil, hey,', 'hey, liber,', 'liber, climat,', 'climat, chang,', 'chang, crap...\\n806319', 'crap...\\n806319 ', ' ', ' ', ' [rt,', '[rt, chetcannon,', 'chetcannon, kurteichenwald,', 'kurteichenwald, climat,', 'climat, chang...\\nName:', 'chang...\\nName: message,', 'message, Length:', 'Length: 15819,', '15819, dtype:', 'dtype: object', 'tweetid\\n625221  ', '  ', '  [polyscimajor,', ' [polyscimajor, epa,', '[polyscimajor, epa, chief,', 'epa, chief, think,', 'chief, think, carbon,', 'think, carbon, diox...\\n126103', 'carbon, diox...\\n126103 ', 'diox...\\n126103  ', '  ', '  ', '  ', '  ', '  ', '  [like,', ' [like, lack,', '[like, lack, evid,', 'lack, evid, anthropogen,', 'evid, anthropogen, global,', 'anthropogen, global, warm]\\n698562', 'global, warm]\\n698562 ', 'warm]\\n698562  ', '  ', '  [rt,', ' [rt, rawstori,', '[rt, rawstori, research,', 'rawstori, research, say,', 'research, say, three,', 'say, three, year,', 'three, year, act...\\n573736', 'year, act...\\n573736 ', 'act...\\n573736  ', '  ', '  [todayinmak,', ' [todayinmak, wire,', '[todayinmak, wire, pivot,', 'wire, pivot, year,', 'pivot, year, war,', 'year, war, climat,', 'war, climat, c...\\n466954', 'climat, c...\\n466954 ', 'c...\\n466954  ', '  ', '  [rt,', ' [rt, soynoviodetoda,', '[rt, soynoviodetoda, racist,', 'soynoviodetoda, racist, sexist,', 'racist, sexist, climat,', 'sexist, climat, c...\\n', 'climat, c...\\n ', 'c...\\n  ', '  ', '  ', '  ', '  ', '  ', '  ', '  ', '  ', '  ', '  ', '  ', '  ', '  ', '  ', '  ', '  ', '  ', '  ', '  ', '  ', '  ', '  ', '  ', '  ', '  ', '  ', '  ', '  ', '  ', '  ...', ' ... ', '...  ', '  ', '  ', '  ', '  ', '  ', '  ', '  ', '  ', '  ', '  ', '  ', '  ', '  ', '  ', '  ', '  ', '  ', '  ', '  ', '  ', '  ', '  \\n22001', ' \\n22001 ', '\\n22001  ', '  ', '  ', '  [rt,', ' [rt, ezlusztig,', '[rt, ezlusztig, took,', 'ezlusztig, took, materi,', 'took, materi, global,', 'materi, global, warm,', 'global, warm, lg...\\n17856', 'warm, lg...\\n17856 ', 'lg...\\n17856  ', '  ', '  ', '  [rt,', ' [rt, washingtonpost,', '[rt, washingtonpost, climat,', 'washingtonpost, climat, chang,', 'climat, chang, could,', 'chang, could, bre...\\n384248', 'could, bre...\\n384248 ', 'bre...\\n384248  ', '  ', '  [notiven,', ' [notiven, rt,', '[notiven, rt, nytimesworld,', 'rt, nytimesworld, trump,', 'nytimesworld, trump, actual,', 'trump, actual, bel...\\n819732', 'actual, bel...\\n819732 ', 'bel...\\n819732  ', '  ', '  [rt,', ' [rt, sarasmil,', '[rt, sarasmil, hey,', 'sarasmil, hey, liber,', 'hey, liber, climat,', 'liber, climat, chang,', 'climat, chang, crap...\\n806319', 'chang, crap...\\n806319 ', 'crap...\\n806319  ', '  ', '  [rt,', ' [rt, chetcannon,', '[rt, chetcannon, kurteichenwald,', 'chetcannon, kurteichenwald, climat,', 'kurteichenwald, climat, chang...\\nName:', 'climat, chang...\\nName: message,', 'chang...\\nName: message, Length:', 'message, Length: 15819,', 'Length: 15819, dtype:', '15819, dtype: object']\n"
     ]
    }
   ],
   "source": [
    "print (word_grams(str(data_sorted['message']).split(' ')))"
   ]
  },
  {
   "cell_type": "code",
   "execution_count": null,
   "id": "5e695f6e",
   "metadata": {},
   "outputs": [],
   "source": []
  },
  {
   "cell_type": "markdown",
   "id": "3d913bb0",
   "metadata": {},
   "source": [
    "### Bag of Words "
   ]
  },
  {
   "cell_type": "code",
   "execution_count": null,
   "id": "0eabc762",
   "metadata": {},
   "outputs": [],
   "source": []
  },
  {
   "cell_type": "markdown",
   "id": "abe1ef3d",
   "metadata": {},
   "source": [
    "## 6. Modelling\n",
    "[Back to Table of Contents](#Table-of-Contents)"
   ]
  },
  {
   "cell_type": "markdown",
   "id": "45f15ca2",
   "metadata": {},
   "source": [
    "import numpy as np\n",
    "import pandas as pd\n",
    "\n",
    "from sklearn.preprocessing import StandardScaler\n",
    "from sklearn.datasets import load_iris\n",
    "from sklearn.model_selection import train_test_split\n",
    "\n",
    "from sklearn.tree import DecisionTreeClassifier\n",
    "\n",
    "from sklearn.metrics import confusion_matrix\n",
    "from sklearn.metrics import classification_report"
   ]
  },
  {
   "cell_type": "markdown",
   "id": "1d1c1bf8",
   "metadata": {},
   "source": [
    "y = data_sorted['sentiment']\n",
    "X = data_sorted['message']"
   ]
  },
  {
   "cell_type": "markdown",
   "id": "3f0d137e",
   "metadata": {},
   "source": [
    "#Standarise the data\n",
    "standard_scaler = StandardScaler()\n",
    "X_transformed = standard_scaler.fit_transform(X)"
   ]
  },
  {
   "cell_type": "markdown",
   "id": "3c209229",
   "metadata": {},
   "source": [
    "# Split into train and test sets\n",
    "X_train, X_test, y_train, y_test = train_test_split(X_transformed, y, test_size=0.30, random_state=50)"
   ]
  },
  {
   "cell_type": "markdown",
   "id": "166084de",
   "metadata": {},
   "source": [
    "tree = DecisionTreeClassifier(random_state=42)"
   ]
  },
  {
   "cell_type": "markdown",
   "id": "a9ebc33f",
   "metadata": {},
   "source": [
    "## 7. Conclusion\n",
    "[Back to Table of Contents](#Table-of-Contents)"
   ]
  },
  {
   "cell_type": "code",
   "execution_count": 64,
   "id": "fc84a013",
   "metadata": {},
   "outputs": [
    {
     "ename": "SyntaxError",
     "evalue": "invalid syntax (797043161.py, line 1)",
     "output_type": "error",
     "traceback": [
      "\u001b[1;36m  Input \u001b[1;32mIn [64]\u001b[1;36m\u001b[0m\n\u001b[1;33m    dict = {'ls1': ['me', 'too'], ['yeah','alright'],\u001b[0m\n\u001b[1;37m                                                    ^\u001b[0m\n\u001b[1;31mSyntaxError\u001b[0m\u001b[1;31m:\u001b[0m invalid syntax\n"
     ]
    }
   ],
   "source": [
    "dict = {'ls1': ['me', 'too'], ['yeah','alright'],\n",
    "        'ls2': ['c', 'd']}\n",
    "data = pd.DataFrame(dict)\n",
    "#ls3 = [item += item for item in  ]\n",
    "#[item += item for item in data_sorted['message']]\n",
    "print(data)"
   ]
  },
  {
   "cell_type": "code",
   "execution_count": 52,
   "id": "bb608fed",
   "metadata": {},
   "outputs": [
    {
     "data": {
      "text/html": [
       "<div>\n",
       "<style scoped>\n",
       "    .dataframe tbody tr th:only-of-type {\n",
       "        vertical-align: middle;\n",
       "    }\n",
       "\n",
       "    .dataframe tbody tr th {\n",
       "        vertical-align: top;\n",
       "    }\n",
       "\n",
       "    .dataframe thead th {\n",
       "        text-align: right;\n",
       "    }\n",
       "</style>\n",
       "<table border=\"1\" class=\"dataframe\">\n",
       "  <thead>\n",
       "    <tr style=\"text-align: right;\">\n",
       "      <th></th>\n",
       "      <th>name</th>\n",
       "      <th>degree</th>\n",
       "      <th>score</th>\n",
       "    </tr>\n",
       "  </thead>\n",
       "  <tbody>\n",
       "    <tr>\n",
       "      <th>0</th>\n",
       "      <td>aparna</td>\n",
       "      <td>MBA</td>\n",
       "      <td>90</td>\n",
       "    </tr>\n",
       "    <tr>\n",
       "      <th>1</th>\n",
       "      <td>pankaj</td>\n",
       "      <td>BCA</td>\n",
       "      <td>40</td>\n",
       "    </tr>\n",
       "    <tr>\n",
       "      <th>2</th>\n",
       "      <td>sudhir</td>\n",
       "      <td>M.Tech</td>\n",
       "      <td>80</td>\n",
       "    </tr>\n",
       "    <tr>\n",
       "      <th>3</th>\n",
       "      <td>Geeku</td>\n",
       "      <td>MBA</td>\n",
       "      <td>98</td>\n",
       "    </tr>\n",
       "  </tbody>\n",
       "</table>\n",
       "</div>"
      ],
      "text/plain": [
       "     name  degree  score\n",
       "0  aparna     MBA     90\n",
       "1  pankaj     BCA     40\n",
       "2  sudhir  M.Tech     80\n",
       "3   Geeku     MBA     98"
      ]
     },
     "execution_count": 52,
     "metadata": {},
     "output_type": "execute_result"
    }
   ],
   "source": [
    "dict75 = {'name':['aparna', 'pankaj', 'sudhir', 'Geeku'], 'degree': ['MBA', 'BCA', 'M.Tech', 'MBA'], 'score':[90, 40, 80, 98]}\n",
    "\n",
    "df75 = pd.DataFrame(dict75)\n",
    "df75"
   ]
  },
  {
   "cell_type": "code",
   "execution_count": 54,
   "id": "ad522f35",
   "metadata": {},
   "outputs": [
    {
     "ename": "AttributeError",
     "evalue": "'Series' object has no attribute 'iterrows'",
     "output_type": "error",
     "traceback": [
      "\u001b[1;31m---------------------------------------------------------------------------\u001b[0m",
      "\u001b[1;31mAttributeError\u001b[0m                            Traceback (most recent call last)",
      "Input \u001b[1;32mIn [54]\u001b[0m, in \u001b[0;36m<cell line: 1>\u001b[1;34m()\u001b[0m\n\u001b[1;32m----> 1\u001b[0m \u001b[38;5;28;01mfor\u001b[39;00m key, value \u001b[38;5;129;01min\u001b[39;00m \u001b[43mdf75\u001b[49m\u001b[43m[\u001b[49m\u001b[38;5;124;43m'\u001b[39;49m\u001b[38;5;124;43mdegree\u001b[39;49m\u001b[38;5;124;43m'\u001b[39;49m\u001b[43m]\u001b[49m\u001b[38;5;241;43m.\u001b[39;49m\u001b[43miterrows\u001b[49m():\n\u001b[0;32m      2\u001b[0m     \u001b[38;5;28mprint\u001b[39m(value)\n",
      "File \u001b[1;32m~\\anaconda3\\lib\\site-packages\\pandas\\core\\generic.py:5575\u001b[0m, in \u001b[0;36mNDFrame.__getattr__\u001b[1;34m(self, name)\u001b[0m\n\u001b[0;32m   5568\u001b[0m \u001b[38;5;28;01mif\u001b[39;00m (\n\u001b[0;32m   5569\u001b[0m     name \u001b[38;5;129;01mnot\u001b[39;00m \u001b[38;5;129;01min\u001b[39;00m \u001b[38;5;28mself\u001b[39m\u001b[38;5;241m.\u001b[39m_internal_names_set\n\u001b[0;32m   5570\u001b[0m     \u001b[38;5;129;01mand\u001b[39;00m name \u001b[38;5;129;01mnot\u001b[39;00m \u001b[38;5;129;01min\u001b[39;00m \u001b[38;5;28mself\u001b[39m\u001b[38;5;241m.\u001b[39m_metadata\n\u001b[0;32m   5571\u001b[0m     \u001b[38;5;129;01mand\u001b[39;00m name \u001b[38;5;129;01mnot\u001b[39;00m \u001b[38;5;129;01min\u001b[39;00m \u001b[38;5;28mself\u001b[39m\u001b[38;5;241m.\u001b[39m_accessors\n\u001b[0;32m   5572\u001b[0m     \u001b[38;5;129;01mand\u001b[39;00m \u001b[38;5;28mself\u001b[39m\u001b[38;5;241m.\u001b[39m_info_axis\u001b[38;5;241m.\u001b[39m_can_hold_identifiers_and_holds_name(name)\n\u001b[0;32m   5573\u001b[0m ):\n\u001b[0;32m   5574\u001b[0m     \u001b[38;5;28;01mreturn\u001b[39;00m \u001b[38;5;28mself\u001b[39m[name]\n\u001b[1;32m-> 5575\u001b[0m \u001b[38;5;28;01mreturn\u001b[39;00m \u001b[38;5;28;43mobject\u001b[39;49m\u001b[38;5;241;43m.\u001b[39;49m\u001b[38;5;21;43m__getattribute__\u001b[39;49m\u001b[43m(\u001b[49m\u001b[38;5;28;43mself\u001b[39;49m\u001b[43m,\u001b[49m\u001b[43m \u001b[49m\u001b[43mname\u001b[49m\u001b[43m)\u001b[49m\n",
      "\u001b[1;31mAttributeError\u001b[0m: 'Series' object has no attribute 'iterrows'"
     ]
    }
   ],
   "source": [
    "for key, value in df75['degree'].iterrows():\n",
    "    print(value)"
   ]
  },
  {
   "cell_type": "code",
   "execution_count": 65,
   "id": "4435c8bd",
   "metadata": {},
   "outputs": [
    {
     "name": "stdout",
     "output_type": "stream",
     "text": [
      "Collecting emoji\n",
      "  Downloading emoji-2.2.0.tar.gz (240 kB)\n",
      "Building wheels for collected packages: emoji\n",
      "  Building wheel for emoji (setup.py): started\n",
      "  Building wheel for emoji (setup.py): finished with status 'done'\n",
      "  Created wheel for emoji: filename=emoji-2.2.0-py3-none-any.whl size=234927 sha256=d2c6749d2098d5f05dc4bf83c3cfb711b9935e385a8baf657e15003fd24c1be8\n",
      "  Stored in directory: c:\\users\\sweet pea\\appdata\\local\\pip\\cache\\wheels\\9a\\b8\\0f\\f580817231cbf59f6ade9fd132ff60ada1de9f7dc85521f857\n",
      "Successfully built emoji\n",
      "Installing collected packages: emoji\n",
      "Successfully installed emoji-2.2.0\n",
      "Note: you may need to restart the kernel to use updated packages.\n"
     ]
    }
   ],
   "source": [
    "pip install emoji"
   ]
  },
  {
   "cell_type": "code",
   "execution_count": 1,
   "id": "6000daf8",
   "metadata": {},
   "outputs": [
    {
     "name": "stdout",
     "output_type": "stream",
     "text": [
      "Python is 👍\n"
     ]
    }
   ],
   "source": [
    "import emoji\n",
    "print(emoji.emojize('Python is :thumbs_up:'))"
   ]
  },
  {
   "cell_type": "code",
   "execution_count": 3,
   "id": "a29f7245",
   "metadata": {},
   "outputs": [
    {
     "name": "stderr",
     "output_type": "stream",
     "text": [
      "ERROR: unknown command \" install clean-text\"\n",
      "\n"
     ]
    }
   ],
   "source": [
    "pip install clean-text"
   ]
  },
  {
   "cell_type": "code",
   "execution_count": null,
   "id": "d0cbbd32",
   "metadata": {},
   "outputs": [],
   "source": []
  }
 ],
 "metadata": {
  "kernelspec": {
   "display_name": "Python 3 (ipykernel)",
   "language": "python",
   "name": "python3"
  },
  "language_info": {
   "codemirror_mode": {
    "name": "ipython",
    "version": 3
   },
   "file_extension": ".py",
   "mimetype": "text/x-python",
   "name": "python",
   "nbconvert_exporter": "python",
   "pygments_lexer": "ipython3",
   "version": "3.9.12"
  },
  "papermill": {
   "default_parameters": {},
   "duration": 64.18422,
   "end_time": "2022-11-28T15:20:33.254982",
   "environment_variables": {},
   "exception": null,
   "input_path": "__notebook__.ipynb",
   "output_path": "__notebook__.ipynb",
   "parameters": {},
   "start_time": "2022-11-28T15:19:29.070762",
   "version": "2.3.4"
  },
  "vscode": {
   "interpreter": {
    "hash": "273172bc00e81328f93293c482ecb9c3b726a8720b42d3ecf1150ba287c5a794"
   }
  }
 },
 "nbformat": 4,
 "nbformat_minor": 5
}
